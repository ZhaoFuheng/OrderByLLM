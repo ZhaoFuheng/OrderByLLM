{
 "cells": [
  {
   "cell_type": "code",
   "execution_count": null,
   "metadata": {},
   "outputs": [],
   "source": [
    "import csv\n",
    "import os\n",
    "import pandas as pd\n",
    "import collections\n",
    "import ast\n",
    "import time\n",
    "import collections\n",
    "import json\n",
    "import sqlite3\n",
    "import xxhash\n",
    "import numpy as np\n",
    "import pickle \n",
    "import random\n",
    "import glob\n",
    "from io import StringIO\n",
    "from pathlib import Path\n",
    "from openai import OpenAI\n",
    "import openai\n",
    "print(openai.__version__)\n",
    "os.environ[\"OPENAI_API_KEY\"] = \n",
    "\n",
    "openai.api_key = os.getenv(\"OPENAI_API_KEY\")\n",
    "\n",
    "client = OpenAI(\n",
    "    # defaults to os.environ.get(\"OPENAI_API_KEY\")\n",
    "    api_key=os.getenv(\"OPENAI_API_KEY\"),\n",
    ")"
   ]
  },
  {
   "cell_type": "code",
   "execution_count": null,
   "metadata": {},
   "outputs": [],
   "source": [
    "from prompts.all_prompts import *\n",
    "from order_by.sorting import *\n",
    "from order_by.utils import *"
   ]
  },
  {
   "cell_type": "code",
   "execution_count": null,
   "metadata": {},
   "outputs": [],
   "source": []
  },
  {
   "cell_type": "code",
   "execution_count": null,
   "metadata": {},
   "outputs": [],
   "source": [
    "# sort ints\n",
    "# what should the external memory size be?\n",
    "random.seed(0)\n",
    "random_list = random.sample(range(1, 2**16), 1024)\n",
    "gold_list = sorted(random_list)\n",
    "\n",
    "inversion = num_inversions(gold_list, random_list)\n",
    "off = num_out_of_place(gold_list, random_list)\n",
    "print(inversion, off)"
   ]
  },
  {
   "cell_type": "code",
   "execution_count": null,
   "metadata": {},
   "outputs": [],
   "source": []
  },
  {
   "cell_type": "code",
   "execution_count": null,
   "metadata": {
    "scrolled": true
   },
   "outputs": [],
   "source": [
    "# gpt-4o should use about 128 as memoery size\n",
    "# gpt-4o-mini should use about 8 as memory size\n",
    "print(\"api calls should be 1 as the data size == chunk size\")\n",
    "print(\"api calls is at most 3 as it tries at most 3 times if LLM outputs have issue\")\n",
    "for modelname in ['gpt-4o-mini']: #'gpt-4o', 'gpt-4o-mini'\n",
    "    bubble_sort_inversions_and_calls = []\n",
    "    merge_sort_inversions_and_calls = []\n",
    "    memory_sizes = [32,64,128,256]\n",
    "    if modelname == 'gpt-4o-mini':\n",
    "        memory_sizes = [8, 16, 32]\n",
    "    for chunk_size in memory_sizes:\n",
    "        print('chunck size: ', chunk_size)\n",
    "        gold_list = sorted(random_list[:chunk_size])\n",
    "        sorted_data, num_api_calls = external_bubble_sort(random_list[:chunk_size], external_comparisons, chunk_size, client, sort_int_prompt_template, modelname)\n",
    "        print(sorted_data)\n",
    "        inversions = num_inversions(gold_list, sorted_data)\n",
    "        off = num_out_of_place(gold_list, sorted_data)\n",
    "        bubble_sort_inversions_and_calls.append((inversions, num_api_calls, off))\n",
    "        print(f\"inversions: {inversions}, api calls: {num_api_calls} and out of place: {off}\")\n",
    "        \n",
    "        sorted_data, num_api_calls = external_merge_sort(random_list[:chunk_size], external_comparisons, chunk_size, client, sort_int_prompt_template, modelname)\n",
    "        print(sorted_data)\n",
    "        inversions = num_inversions(gold_list, sorted_data)\n",
    "        off = num_out_of_place(gold_list, sorted_data)\n",
    "        merge_sort_inversions_and_calls.append((inversions, num_api_calls, off))\n",
    "        print(f\"inversions: {inversions}, api calls: {num_api_calls} and out of place: {off}\")\n",
    "        \n",
    "    print(\"***************\")\n",
    "    print(modelname)\n",
    "    print(bubble_sort_inversions_and_calls )\n",
    "    print(merge_sort_inversions_and_calls)\n",
    "    print(\"***************\")"
   ]
  },
  {
   "cell_type": "code",
   "execution_count": null,
   "metadata": {},
   "outputs": [],
   "source": []
  },
  {
   "cell_type": "code",
   "execution_count": null,
   "metadata": {},
   "outputs": [],
   "source": []
  },
  {
   "cell_type": "code",
   "execution_count": null,
   "metadata": {},
   "outputs": [],
   "source": [
    "def sortedness(gold_list, sorted_data):\n",
    "    inversions = num_inversions(gold_list[:], sorted_data[:])\n",
    "    off = num_out_of_place(gold_list[:], sorted_data[:])\n",
    "    return inversions, off"
   ]
  },
  {
   "cell_type": "code",
   "execution_count": null,
   "metadata": {
    "scrolled": true
   },
   "outputs": [],
   "source": [
    "def store_metadata(d, sorted_data, inversions, outofplaces, api_calls, tokens, memory_size = 0):\n",
    "    if memory_size == 0:\n",
    "        d['sorted_data'] = sorted_data\n",
    "        d['inversions'] = inversions\n",
    "        d['out_of_places'] = outofplaces\n",
    "        d['api_calls'] = api_calls\n",
    "        d['tokens'] = tokens\n",
    "    else:\n",
    "        d[memory_size] = {}\n",
    "        d[memory_size]['sorted_data'] = sorted_data\n",
    "        d[memory_size]['inversions'] = inversions\n",
    "        d[memory_size]['out_of_places'] = outofplaces\n",
    "        d[memory_size]['api_calls'] = api_calls\n",
    "        d[memory_size]['tokens'] = tokens\n",
    "        \n",
    "        \n",
    "    \n",
    "def experiment(dataname, column_to_sort, log_filename, pointwise_prompt_template,\\\n",
    "               external_pointwise_prompt_template, external_comparison_prompt_template,\\\n",
    "               pairwise_comparison_prompt_template):\n",
    "    random.seed(0)\n",
    "    \n",
    "    fname = f\"sorted_{dataname}.csv\"\n",
    "    file_path = f\"./sorted_data/{fname}\" \n",
    "    data = pd.read_csv(file_path)\n",
    "    print(data.head())\n",
    "    print(len(data))\n",
    "    \n",
    "    gold_list = data[column_to_sort].tolist()\n",
    "    shuffled_list = random.sample(gold_list, len(gold_list)) # shuffle the sorted list\n",
    "#     print(gold_list, shuffled_list)\n",
    "\n",
    "    results = {}\n",
    "    for modelname in [\"gpt-4o-mini\", \"gpt-4o\"]:\n",
    "        results[modelname] = {'pointwise_sort':{}, 'quick_sort':{}, 'heap_sort':{},\\\n",
    "                              'external_pointwise_sort':{}, 'external_bubble_sort':{},\\\n",
    "                              'external_merge_sort':{}}\n",
    "        out_t = float\n",
    "        memory_sizes = [32, 64, 128]\n",
    "        if modelname == 'gpt-4o-mini':\n",
    "            memory_sizes = [4, 8]\n",
    "        print(modelname)\n",
    "        \n",
    "        sorted_data, num_api_calls, tokens = pointwise_sort(shuffled_list, client, pointwise_prompt_template, modelname, out_t)\n",
    "        inversions, off = sortedness(gold_list, sorted_data)\n",
    "        print(\"pointwise_sort\")\n",
    "        print(f\"inversions: {inversions}, api calls: {num_api_calls}, tokens: {tokens}, and out of place: {off}\\n\")\n",
    "        store_metadata(results[modelname]['pointwise_sort'], sorted_data, inversions, off, num_api_calls, tokens)\n",
    "\n",
    "        for m in memory_sizes:\n",
    "            sorted_data, num_api_calls, tokens = external_pointwise_sort(shuffled_list, external_values, m, client, external_pointwise_prompt_template, modelname, out_t)\n",
    "            inversions, off = sortedness(gold_list, sorted_data)\n",
    "            print(f\"external_pointwise_sort {m}\")\n",
    "            print(f\"inversions: {inversions}, api calls: {num_api_calls}, tokens: {tokens}, and out of place: {off}\\n\")\n",
    "            store_metadata(results[modelname]['external_pointwise_sort'], sorted_data, inversions, off, num_api_calls, tokens, m)\n",
    "\n",
    "\n",
    "            sorted_data, num_api_calls, tokens = external_bubble_sort(shuffled_list, external_comparisons, m, client, external_comparison_prompt_template, modelname)\n",
    "            inversions, off = sortedness(gold_list, sorted_data)\n",
    "            print(f\"external_bubble_sort {m}\")\n",
    "            print(f\"inversions: {inversions}, api calls: {num_api_calls}, tokens: {tokens}, and out of place: {off}\\n\")\n",
    "            store_metadata(results[modelname]['external_bubble_sort'], sorted_data, inversions, off, num_api_calls, tokens, m)\n",
    "\n",
    "\n",
    "            sorted_data, num_api_calls, tokens = external_merge_sort(shuffled_list, external_comparisons, m, client, external_comparison_prompt_template, modelname)\n",
    "            inversions = num_inversions(gold_list, sorted_data)\n",
    "            off = num_out_of_place(gold_list, sorted_data)\n",
    "            print(f\"external_merge_sort {m}\")\n",
    "            print(f\"inversions: {inversions}, api calls: {num_api_calls}, tokens: {tokens}, and out of place: {off}\\n\")\n",
    "            store_metadata(results[modelname]['external_merge_sort'], sorted_data, inversions, off, num_api_calls, tokens, m)\n",
    "\n",
    "        sorted_data, num_api_calls, tokens = quick_sort(shuffled_list, client, pairwise_comparison_prompt_template, modelname)\n",
    "        inversions, off = sortedness(gold_list, sorted_data)\n",
    "        print(\"quick_sort\")\n",
    "        print(f\"inversions: {inversions}, api calls: {num_api_calls}, tokens: {tokens}, and out of place: {off}\\n\")\n",
    "        store_metadata(results[modelname]['quick_sort'], sorted_data, inversions, off, num_api_calls, tokens)\n",
    "\n",
    "\n",
    "        sorted_data, num_api_calls, tokens = heap_sort(shuffled_list, client, pairwise_comparison_prompt_template, modelname)\n",
    "        inversions, off = sortedness(gold_list, sorted_data)\n",
    "        print(\"heap_sort\")\n",
    "        print(f\"inversions: {inversions}, api calls: {num_api_calls}, tokens: {tokens}, and out of place: {off}\\n\")\n",
    "        store_metadata(results[modelname]['heap_sort'], sorted_data, inversions, off, num_api_calls, tokens)\n",
    "    \n",
    "    print(results)\n",
    "    with open(log_filename, \"w\") as log_file:\n",
    "        json.dump(results, log_file, indent=4) \n"
   ]
  },
  {
   "cell_type": "code",
   "execution_count": null,
   "metadata": {},
   "outputs": [],
   "source": [
    "dataname = \"nba_heights\"\n",
    "column_to_sort = \"full_name\"\n",
    "log_filename = \"./logs/nba_heights.json\"\n",
    "experiment(dataname, column_to_sort, log_filename, nba_pointwise_prompt_template,\\\n",
    "               nba_external_pointwise_prompt_template, nba_external_comparison_prompt_template,\\\n",
    "               nba_pairwise_comparison_prompt_template)"
   ]
  },
  {
   "cell_type": "code",
   "execution_count": null,
   "metadata": {},
   "outputs": [],
   "source": []
  },
  {
   "cell_type": "code",
   "execution_count": null,
   "metadata": {},
   "outputs": [],
   "source": []
  },
  {
   "cell_type": "code",
   "execution_count": null,
   "metadata": {},
   "outputs": [],
   "source": [
    "log_filename = \"./logs/nba_heights.json\"\n",
    "with open(log_filename, \"r\") as log_file:\n",
    "    loaded_data = json.load(log_file)\n",
    "        \n",
    "for modelname in loaded_data.keys():\n",
    "    print()\n",
    "    print(modelname)\n",
    "    \n",
    "    for external_function in ['external_pointwise_sort', 'external_bubble_sort', 'external_merge_sort']:\n",
    "        print()\n",
    "        for m in loaded_data[modelname][external_function].keys():\n",
    "            print(external_function, f'memory size {m}')\n",
    "            for field in ['inversions', 'out_of_places', 'api_calls']: #'sorted_data'\n",
    "                print(field, loaded_data[modelname][external_function][m][field])\n",
    "    \n",
    "    for function_name in ['pointwise_sort', 'quick_sort','heap_sort']:\n",
    "        print()\n",
    "        print(function_name)\n",
    "        for field in ['inversions', 'out_of_places', 'api_calls']: #'sorted_data'\n",
    "            print(field, loaded_data[modelname][function_name][field])"
   ]
  },
  {
   "cell_type": "code",
   "execution_count": null,
   "metadata": {},
   "outputs": [],
   "source": [
    "loaded_data[modelname]['external_pointwise_sort']"
   ]
  },
  {
   "cell_type": "code",
   "execution_count": null,
   "metadata": {},
   "outputs": [],
   "source": []
  }
 ],
 "metadata": {
  "kernelspec": {
   "display_name": "Python (py3100)",
   "language": "python",
   "name": "py3100"
  },
  "language_info": {
   "codemirror_mode": {
    "name": "ipython",
    "version": 3
   },
   "file_extension": ".py",
   "mimetype": "text/x-python",
   "name": "python",
   "nbconvert_exporter": "python",
   "pygments_lexer": "ipython3",
   "version": "3.10.0"
  }
 },
 "nbformat": 4,
 "nbformat_minor": 4
}
