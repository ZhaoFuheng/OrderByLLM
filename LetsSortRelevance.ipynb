{
 "cells": [
  {
   "cell_type": "code",
   "execution_count": 1,
   "metadata": {},
   "outputs": [
    {
     "name": "stdout",
     "output_type": "stream",
     "text": [
      "1.90.0\n"
     ]
    }
   ],
   "source": [
    "import json\n",
    "import numpy as np\n",
    "from openai import OpenAI, AsyncOpenAI\n",
    "from order_by.sorting import *\n",
    "from order_by.utils import *\n",
    "from prompts.all_prompts import *\n",
    "import openai\n",
    "from collections import defaultdict\n",
    "import pytrec_eval\n",
    "from string import Template\n",
    "from order_by.pointwise import *\n",
    "import pytrec_eval\n",
    "import random\n",
    "print(openai.__version__)\n",
    "# client = OpenAI(api_key=api_key)\n",
    "apikey = \n",
    "client = AsyncOpenAI(api_key=apikey)\n",
    "random.seed(0)"
   ]
  },
  {
   "cell_type": "code",
   "execution_count": 2,
   "metadata": {},
   "outputs": [],
   "source": [
    "from dataclasses import dataclass\n",
    "from tqdm import tqdm\n",
    "\n",
    "@dataclass\n",
    "class SearchResult:\n",
    "    docid: str\n",
    "    score: float\n",
    "    text: str"
   ]
  },
  {
   "cell_type": "code",
   "execution_count": 3,
   "metadata": {},
   "outputs": [],
   "source": [
    "# import datasets\n",
    "\n",
    "# data = datasets.load_dataset(\"ms_marco\", \"v1.1\", split=\"train\")\n",
    "# sampled_data = data.shuffle(seed=42).select(range(100))\n",
    "\n",
    "# data_list = [dict(item) for item in sampled_data]\n",
    "# with open(\"msmarco_v1.1_sampled_100.json\", \"w\") as f:\n",
    "#     json.dump(data_list, f, indent=2)\n",
    "\n",
    "# print(\"Saved to 'msmarco_v1.1_sampled_100.json'\")\n",
    "\n",
    "\n",
    "\n",
    "import ir_datasets\n",
    "\n",
    "# # Discover all available msmarco-passage-v2 variants\n",
    "# for d in ir_datasets.registry:\n",
    "#     if \"msmarco-passage\" in d:\n",
    "#         print(d)\n",
    "\n",
    "\n",
    "# Load TREC DL 2019 with MS MARCO v1 passage corpus\n",
    "ds = ir_datasets.load(\"msmarco-passage/trec-dl-2019\")\n",
    "\n"
   ]
  },
  {
   "cell_type": "code",
   "execution_count": 4,
   "metadata": {},
   "outputs": [
    {
     "name": "stdout",
     "output_type": "stream",
     "text": [
      "Docs: 8841823\n",
      "Queries: 200\n",
      "Qrels: 9260\n",
      "200\n"
     ]
    }
   ],
   "source": [
    "print(\"Docs:\", ds.docs_count())      # Number of docs\n",
    "print(\"Queries:\", ds.queries_count())# Number of queries\n",
    "print(\"Qrels:\", ds.qrels_count())    # Number of qrels\n",
    "\n",
    "passage_length = 1024\n",
    "query_map = {}\n",
    "for query in ds.queries_iter():\n",
    "    # query.query_id → string ID\n",
    "    # query.text → raw query text\n",
    "    gpt_encoding = tiktoken.encoding_for_model(\"gpt-3.5-turbo\")\n",
    "    query_map[query.query_id] = gpt_encoding.decode( gpt_encoding.encode(query.text)[:passage_length] )\n",
    "print(len(query_map))\n"
   ]
  },
  {
   "cell_type": "code",
   "execution_count": 5,
   "metadata": {},
   "outputs": [],
   "source": [
    "doc_lookup = {}\n",
    "for doc in ds.docs_iter():\n",
    "    doc_lookup[doc.doc_id] = {\n",
    "        \"contents\": doc.text\n",
    "    }\n",
    "    # Add title if it exists in dataset (some have no title)\n",
    "    if hasattr(doc, \"title\") and doc.title:\n",
    "        doc_lookup[doc.doc_id][\"title\"] = doc.title"
   ]
  },
  {
   "cell_type": "code",
   "execution_count": 6,
   "metadata": {},
   "outputs": [],
   "source": [
    "bm25_dl19_txt = 'data/run.msmarco-v1-passage.bm25-default.dl19.txt'\n",
    "def load_run_file(path, query_map, doc_lookup, hits=100):\n",
    "    first_stage_rankings = []\n",
    "    query_id_to_list = defaultdict(list)\n",
    "    with open(path, 'r') as f:\n",
    "        current_qid = None\n",
    "        current_ranking = []\n",
    "        for line in tqdm(f):\n",
    "            qid, _, docid, _, score, _ = line.strip().split()\n",
    "            if qid not in query_map:\n",
    "                print(qid)\n",
    "                print('???')\n",
    "                continue\n",
    "                \n",
    "            doc_data = doc_lookup[docid]\n",
    "            text = doc_data[\"contents\"]\n",
    "            if \"title\" in doc_data:\n",
    "                text = f'{doc_data[\"title\"]} {text}'\n",
    "            text = gpt_encoding.decode(gpt_encoding.encode(text)[:passage_length])\n",
    "            \n",
    "            query_id_to_list[qid].append(SearchResult(docid=docid, score=float(score), text=text))\n",
    "            \n",
    "    for qid, current_ranking in query_id_to_list.items():\n",
    "        first_stage_rankings.append((qid, query_map[qid], current_ranking[:hits]))\n",
    "    return first_stage_rankings"
   ]
  },
  {
   "cell_type": "code",
   "execution_count": 7,
   "metadata": {},
   "outputs": [
    {
     "name": "stderr",
     "output_type": "stream",
     "text": [
      "43000it [00:04, 9107.08it/s] "
     ]
    },
    {
     "name": "stdout",
     "output_type": "stream",
     "text": [
      "43\n"
     ]
    },
    {
     "name": "stderr",
     "output_type": "stream",
     "text": [
      "\n"
     ]
    }
   ],
   "source": [
    "first_stage_rankings = load_run_file(bm25_dl19_txt, query_map, doc_lookup, 100)\n",
    "print(len(first_stage_rankings ))"
   ]
  },
  {
   "cell_type": "markdown",
   "metadata": {},
   "source": [
    "# Filter with BM25"
   ]
  },
  {
   "cell_type": "code",
   "execution_count": 9,
   "metadata": {},
   "outputs": [],
   "source": [
    "class SafeDict(dict):\n",
    "    def __missing__(self, k):  # leave untouched\n",
    "        return '{' + k + '}'"
   ]
  },
  {
   "cell_type": "code",
   "execution_count": 10,
   "metadata": {},
   "outputs": [
    {
     "name": "stdout",
     "output_type": "stream",
     "text": [
      "0.5755597276220168\n",
      "BM25 Mean nDCG@10: 0.505831002439907\n"
     ]
    }
   ],
   "source": [
    "\n",
    "\n",
    "# Build qrels dict\n",
    "qrels_by_qid = defaultdict(dict)\n",
    "for q in ds.qrels_iter():                      # has query_id, doc_id, relevance\n",
    "    qrels_by_qid[str(q.query_id)][str(q.doc_id)] = int(q.relevance)\n",
    "qrels_by_qid = dict(qrels_by_qid)\n",
    "\n",
    "evaluator = pytrec_eval.RelevanceEvaluator(qrels_by_qid, {'ndcg_cut.10'})\n",
    "\n",
    "bm25_run = {}\n",
    "for qid, query, ranking in first_stage_rankings:\n",
    "    bm25_run[str(qid)] = {str(r.docid): float(r.score) for r in ranking}\n",
    "\n",
    "metrics = evaluator.evaluate(bm25_run)\n",
    "print(metrics[str('19335')]['ndcg_cut_10'])  # per-query\n",
    "mean_ndcg10 = sum(m['ndcg_cut_10'] for m in metrics.values()) / len(metrics)\n",
    "print(\"BM25 Mean nDCG@10:\", mean_ndcg10)"
   ]
  },
  {
   "cell_type": "code",
   "execution_count": 11,
   "metadata": {},
   "outputs": [],
   "source": [
    "# print(qrels_by_qid['19335'])\n",
    "# print(bm25_run['19335'])"
   ]
  },
  {
   "cell_type": "markdown",
   "metadata": {},
   "source": [
    "# Pointwise experiments"
   ]
  },
  {
   "cell_type": "code",
   "execution_count": 12,
   "metadata": {},
   "outputs": [
    {
     "name": "stderr",
     "output_type": "stream",
     "text": [
      "100%|███████████████████████████████████████████| 43/43 [00:00<00:00, 48.90it/s]\n"
     ]
    },
    {
     "name": "stdout",
     "output_type": "stream",
     "text": [
      "gpt-4o-mini, pointwise Mean nDCG@10: 0.7028129447420369\n",
      "tokens: 1610518\n"
     ]
    },
    {
     "name": "stderr",
     "output_type": "stream",
     "text": [
      " 35%|██████████████▋                           | 15/43 [00:00<00:00, 147.40it/s]"
     ]
    },
    {
     "name": "stdout",
     "output_type": "stream",
     "text": [
      "19335 anthropological definition of environment\n",
      "from window m=2: 1.5 from window 2*m: 2.0\n",
      "from window m=2: 2.5 from window 2*m: 3.0\n",
      "from window m=4: 2.5 from window 2*m: 3.0\n",
      "from window m=4: 3.0 from window 2*m: 2.5\n",
      "from window m=4: 1.5 from window 2*m: 2.5\n",
      "from window m=4: 1.5 from window 2*m: 2.5\n",
      "from window m=4: 2.5 from window 2*m: 2.0\n",
      "from window m=4: 0.0 from window 2*m: 1.0\n",
      "Final memory size for external pointwise: m = 4 (agreement = 0.25)\n",
      "47923 axon terminals or synaptic knob definition\n",
      "from window m=2: 1.5 from window 2*m: 3.0\n",
      "from window m=2: 3.0 from window 2*m: 2.5\n",
      "from window m=4: 1.5 from window 2*m: 2.0\n",
      "from window m=4: 2.5 from window 2*m: 3.0\n",
      "from window m=4: 1.5 from window 2*m: 1.0\n",
      "from window m=4: 2.5 from window 2*m: 2.0\n",
      "from window m=8: 2.0 from window 2*m: 1.5\n",
      "from window m=8: 2.0 from window 2*m: 3.0\n",
      "from window m=8: 2.0 from window 2*m: 2.5\n",
      "from window m=8: 1.5 from window 2*m: 2.0\n",
      "from window m=8: 1.5 from window 2*m: 3.0\n",
      "Final memory size for external pointwise: m = 16 (agreement = 0.69)\n",
      "87181 causes of left ventricular hypertrophy\n",
      "from window m=4: 1.5 from window 2*m: 1.0\n",
      "from window m=4: 3.0 from window 2*m: 2.5\n",
      "from window m=8: 0.5 from window 2*m: 0.0\n",
      "from window m=8: 0.0 from window 2*m: 1.0\n",
      "from window m=8: 0.5 from window 2*m: 1.0\n",
      "from window m=8: 0.0 from window 2*m: 1.0\n",
      "from window m=8: 1.5 from window 2*m: 1.0\n",
      "from window m=8: 2.5 from window 2*m: 2.0\n",
      "Final memory size for external pointwise: m = 16 (agreement = 0.62)\n",
      "87452 causes of military suicide\n",
      "from window m=2: 2.5 from window 2*m: 3.0\n",
      "from window m=2: 2.5 from window 2*m: 3.0\n",
      "from window m=4: 1.5 from window 2*m: 2.0\n",
      "from window m=4: 1.5 from window 2*m: 1.0\n",
      "from window m=4: 2.8 from window 2*m: 2.5\n",
      "from window m=4: 1.0 from window 2*m: 0.0\n",
      "from window m=8: 3.0 from window 2*m: 1.5\n",
      "from window m=8: 3.0 from window 2*m: 1.5\n",
      "from window m=8: 2.0 from window 2*m: 1.0\n",
      "from window m=8: 3.0 from window 2*m: 1.5\n",
      "from window m=8: 1.0 from window 2*m: 2.5\n",
      "from window m=8: 3.0 from window 2*m: 1.5\n",
      "from window m=8: 2.5 from window 2*m: 1.0\n",
      "from window m=8: 1.0 from window 2*m: 0.0\n",
      "from window m=8: 1.0 from window 2*m: 0.0\n",
      "from window m=8: 1.5 from window 2*m: 2.0\n",
      "Final memory size for external pointwise: m = 8 (agreement = 0.38)\n",
      "104861 cost of interior concrete flooring\n",
      "from window m=2: 1.5 from window 2*m: 2.0\n",
      "from window m=2: 3.0 from window 2*m: 1.5\n",
      "from window m=4: 3.0 from window 2*m: 0.5\n",
      "from window m=4: 2.0 from window 2*m: 0.5\n",
      "from window m=4: 2.0 from window 2*m: 0.5\n",
      "from window m=8: 1.5 from window 2*m: 2.5\n",
      "from window m=8: 0.5 from window 2*m: 1.0\n",
      "from window m=8: 0.5 from window 2*m: 1.5\n",
      "from window m=8: 0.5 from window 2*m: 1.5\n",
      "from window m=8: 3.0 from window 2*m: 2.5\n",
      "Final memory size for external pointwise: m = 16 (agreement = 0.69)\n",
      "130510 definition declaratory judgment\n",
      "from window m=2: 1.0 from window 2*m: 1.5\n",
      "from window m=2: 3.0 from window 2*m: 2.5\n",
      "from window m=4: 2.5 from window 2*m: 1.0\n",
      "from window m=4: 1.0 from window 2*m: 0.5\n",
      "from window m=8: 1.0 from window 2*m: 2.5\n",
      "from window m=8: 0.5 from window 2*m: 1.0\n",
      "from window m=8: 1.0 from window 2*m: 1.5\n",
      "from window m=8: 3.0 from window 2*m: 2.0\n",
      "from window m=8: 2.5 from window 2*m: 1.0\n",
      "from window m=8: 1.0 from window 2*m: 0.0\n",
      "from window m=8: 1.5 from window 2*m: 0.0\n",
      "from window m=8: 3.0 from window 2*m: 1.5\n",
      "from window m=8: 1.0 from window 2*m: 0.0\n",
      "from window m=8: 2.0 from window 2*m: 1.0\n",
      "from window m=8: 1.0 from window 2*m: 0.0\n",
      "Final memory size for external pointwise: m = 8 (agreement = 0.31)\n",
      "131843 definition of a sigmet\n",
      "from window m=4: 2.5 from window 2*m: 3.0\n",
      "from window m=4: 3.0 from window 2*m: 2.0\n",
      "from window m=4: 1.5 from window 2*m: 1.0\n",
      "from window m=4: 0.5 from window 2*m: 0.0\n",
      "from window m=4: 0.5 from window 2*m: 0.0\n",
      "Final memory size for external pointwise: m = 4 (agreement = 0.38)\n",
      "146187 difference between a mcdouble and a double cheeseburger\n",
      "from window m=4: 1.5 from window 2*m: 1.0\n",
      "from window m=4: 1.5 from window 2*m: 0.5\n",
      "from window m=8: 2.5 from window 2*m: 3.0\n",
      "from window m=8: 0.5 from window 2*m: 1.0\n",
      "from window m=8: 0.5 from window 2*m: 1.0\n",
      "from window m=8: 0.0 from window 2*m: 1.0\n",
      "Final memory size for external pointwise: m = 16 (agreement = 0.75)\n",
      "148538 difference between rn and bsn\n",
      "from window m=2: 2.5 from window 2*m: 1.5\n",
      "from window m=2: 2.8 from window 2*m: 1.5\n",
      "from window m=2: 1.5 from window 2*m: 1.0\n",
      "Final memory size for external pointwise: m = 2 (agreement = 0.25)\n",
      "156493 do goldfish grow\n",
      "from window m=2: 3.0 from window 2*m: 2.5\n",
      "from window m=2: 1.5 from window 2*m: 2.8\n",
      "from window m=2: 2.5 from window 2*m: 3.0\n",
      "Final memory size for external pointwise: m = 2 (agreement = 0.25)\n",
      "168216 does legionella pneumophila cause pneumonia\n",
      "from window m=2: 2.5 from window 2*m: 3.0\n",
      "from window m=2: 1.5 from window 2*m: 2.0\n",
      "from window m=2: 3.0 from window 2*m: 1.5\n",
      "Final memory size for external pointwise: m = 2 (agreement = 0.25)\n",
      "182539 example of monotonic function\n",
      "from window m=2: 2.0 from window 2*m: 1.5\n",
      "from window m=2: 1.0 from window 2*m: 0.5\n",
      "from window m=4: 0.5 from window 2*m: 0.0\n",
      "from window m=4: 3.0 from window 2*m: 1.5\n",
      "from window m=4: 3.0 from window 2*m: 1.5\n",
      "from window m=4: 1.5 from window 2*m: 0.5\n",
      "from window m=8: 1.5 from window 2*m: 1.0\n",
      "from window m=8: 0.5 from window 2*m: 0.0\n",
      "from window m=8: 1.0 from window 2*m: 0.0\n",
      "from window m=8: 1.5 from window 2*m: 0.0\n",
      "from window m=8: 1.5 from window 2*m: 0.0\n",
      "from window m=8: 0.5 from window 2*m: 0.0\n",
      "from window m=8: 1.5 from window 2*m: 0.0\n",
      "from window m=8: 2.5 from window 2*m: 0.0\n",
      "from window m=8: 2.0 from window 2*m: 0.0\n",
      "from window m=8: 1.5 from window 2*m: 0.0\n",
      "from window m=8: 1.0 from window 2*m: 0.0\n",
      "from window m=8: 2.5 from window 2*m: 0.0\n",
      "Final memory size for external pointwise: m = 8 (agreement = 0.25)\n",
      "183378 exons definition biology\n",
      "from window m=2: 0.5 from window 2*m: 1.0\n",
      "from window m=4: 1.0 from window 2*m: 0.0\n",
      "from window m=8: 2.0 from window 2*m: 2.5\n",
      "from window m=8: 1.5 from window 2*m: 1.0\n",
      "from window m=8: 1.5 from window 2*m: 1.0\n",
      "from window m=8: 3.0 from window 2*m: 2.5\n",
      "Final memory size for external pointwise: m = 16 (agreement = 0.75)\n",
      "207786 how are some sharks warm blooded\n",
      "from window m=4: 3.0 from window 2*m: 2.8\n",
      "from window m=4: 2.0 from window 2*m: 3.0\n",
      "from window m=4: 0.0 from window 2*m: 0.5\n",
      "from window m=4: 3.0 from window 2*m: 1.0\n",
      "from window m=8: 2.8 from window 2*m: 3.0\n",
      "from window m=8: 3.0 from window 2*m: 2.5\n",
      "from window m=8: 1.5 from window 2*m: 1.0\n",
      "from window m=8: 0.5 from window 2*m: 0.0\n",
      "from window m=8: 0.0 from window 2*m: 0.5\n",
      "from window m=8: 3.0 from window 2*m: 1.5\n",
      "from window m=8: 0.5 from window 2*m: 0.0\n",
      "from window m=8: 2.0 from window 2*m: 1.0\n",
      "from window m=8: 0.5 from window 2*m: 0.0\n",
      "Final memory size for external pointwise: m = 8 (agreement = 0.44)\n",
      "264014 how long is life cycle of flea\n",
      "from window m=2: 3.0 from window 2*m: 2.5\n",
      "from window m=2: 1.5 from window 2*m: 1.0\n",
      "from window m=4: 3.0 from window 2*m: 1.5\n",
      "from window m=4: 1.0 from window 2*m: 0.0\n",
      "from window m=4: 2.0 from window 2*m: 1.0\n",
      "from window m=4: 1.0 from window 2*m: 0.0\n",
      "from window m=8: 1.5 from window 2*m: 0.5\n",
      "from window m=8: 1.0 from window 2*m: 0.0\n",
      "from window m=8: 2.0 from window 2*m: 1.0\n",
      "from window m=8: 1.5 from window 2*m: 1.0\n",
      "from window m=8: 1.0 from window 2*m: 0.5\n",
      "from window m=8: 1.5 from window 2*m: 0.0\n",
      "from window m=8: 1.0 from window 2*m: 0.0\n",
      "from window m=8: 1.0 from window 2*m: 0.0\n",
      "from window m=8: 2.0 from window 2*m: 0.5\n",
      "Final memory size for external pointwise: m = 8 (agreement = 0.44)\n",
      "359349 how to find the midsegment of a trapezoid\n",
      "from window m=2: 3.0 from window 2*m: 2.5\n",
      "from window m=2: 2.5 from window 2*m: 3.0\n",
      "from window m=4: 2.5 from window 2*m: 3.0\n",
      "from window m=4: 3.0 from window 2*m: 2.5\n",
      "from window m=4: 3.0 from window 2*m: 2.5\n",
      "from window m=4: 1.5 from window 2*m: 2.0\n",
      "from window m=4: 2.5 from window 2*m: 3.0\n",
      "Final memory size for external pointwise: m = 4 (agreement = 0.38)\n",
      "405717 is cdg airport in main paris\n",
      "from window m=2: 1.5 from window 2*m: 2.0\n",
      "from window m=2: 1.0 from window 2*m: 1.5\n",
      "from window m=2: 1.5 from window 2*m: 0.0\n",
      "from window m=2: 3.0 from window 2*m: 2.5\n",
      "Final memory size for external pointwise: m = 2 (agreement = 0.00)\n",
      "443396 lps laws definition\n",
      "from window m=2: 2.0 from window 2*m: 2.5\n",
      "from window m=2: 2.5 from window 2*m: 1.5\n",
      "from window m=4: 2.5 from window 2*m: 1.5\n",
      "from window m=4: 1.5 from window 2*m: 1.0\n",
      "from window m=4: 0.0 from window 2*m: 1.0\n",
      "from window m=4: 0.0 from window 2*m: 1.5\n",
      "from window m=4: 1.0 from window 2*m: 2.5\n",
      "Final memory size for external pointwise: m = 4 (agreement = 0.38)\n",
      "451602 medicare's definition of mechanical ventilation\n",
      "from window m=2: 1.0 from window 2*m: 1.5\n",
      "from window m=2: 1.0 from window 2*m: 1.5\n",
      "from window m=2: 1.5 from window 2*m: 1.0\n",
      "Final memory size for external pointwise: m = 2 (agreement = 0.25)\n",
      "489204 right pelvic pain causes\n",
      "from window m=2: 2.0 from window 2*m: 3.0\n",
      "from window m=4: 1.5 from window 2*m: 1.0\n",
      "from window m=8: 3.0 from window 2*m: 2.8\n",
      "from window m=8: 2.0 from window 2*m: 1.5\n",
      "from window m=8: 2.5 from window 2*m: 1.8\n",
      "from window m=8: 3.0 from window 2*m: 2.7\n",
      "from window m=8: 1.5 from window 2*m: 0.5\n",
      "from window m=8: 3.0 from window 2*m: 2.8\n",
      "from window m=8: 1.0 from window 2*m: 1.5\n",
      "Final memory size for external pointwise: m = 16 (agreement = 0.56)\n",
      "490595 rsa definition key\n",
      "from window m=2: 1.5 from window 2*m: 1.0\n",
      "from window m=2: 3.0 from window 2*m: 2.5\n",
      "from window m=4: 2.5 from window 2*m: 3.0\n",
      "from window m=4: 2.5 from window 2*m: 1.0\n",
      "from window m=4: 2.0 from window 2*m: 1.0\n",
      "from window m=4: 1.5 from window 2*m: 1.0\n",
      "from window m=8: 1.0 from window 2*m: 1.5\n",
      "from window m=8: 1.0 from window 2*m: 1.5\n",
      "from window m=8: 1.0 from window 2*m: 0.5\n",
      "from window m=8: 1.5 from window 2*m: 0.5\n",
      "from window m=8: 3.0 from window 2*m: 2.0\n",
      "from window m=8: 1.0 from window 2*m: 0.5\n",
      "from window m=8: 1.5 from window 2*m: 2.0\n",
      "from window m=8: 1.0 from window 2*m: 0.5\n",
      "from window m=8: 1.0 from window 2*m: 0.5\n",
      "from window m=8: 1.0 from window 2*m: 0.5\n",
      "Final memory size for external pointwise: m = 8 (agreement = 0.38)\n",
      "527433 types of dysarthria from cerebral palsy\n",
      "from window m=4: 1.0 from window 2*m: 1.5\n",
      "from window m=4: 1.5 from window 2*m: 1.0\n",
      "from window m=4: 1.0 from window 2*m: 0.0\n",
      "from window m=4: 1.0 from window 2*m: 0.0\n",
      "from window m=4: 1.5 from window 2*m: 0.0\n",
      "from window m=4: 3.0 from window 2*m: 1.0\n",
      "Final memory size for external pointwise: m = 4 (agreement = 0.25)\n",
      "573724 what are the social determinants of health\n",
      "from window m=2: 1.5 from window 2*m: 2.0\n",
      "from window m=4: 3.0 from window 2*m: 2.0\n",
      "from window m=4: 1.5 from window 2*m: 1.0\n",
      "from window m=8: 1.0 from window 2*m: 0.5\n",
      "from window m=8: 2.0 from window 2*m: 1.0\n",
      "from window m=8: 1.0 from window 2*m: 0.0\n",
      "from window m=8: 2.0 from window 2*m: 2.5\n",
      "from window m=8: 3.0 from window 2*m: 2.0\n",
      "from window m=8: 2.5 from window 2*m: 1.5\n",
      "from window m=8: 1.5 from window 2*m: 1.0\n",
      "from window m=8: 3.0 from window 2*m: 2.5\n",
      "from window m=8: 2.5 from window 2*m: 2.0\n",
      "from window m=8: 2.0 from window 2*m: 1.5\n",
      "Final memory size for external pointwise: m = 8 (agreement = 0.38)\n",
      "833860 what is the most popular food in switzerland\n",
      "from window m=2: 2.5 from window 2*m: 2.0\n",
      "from window m=4: 1.5 from window 2*m: 2.0\n",
      "from window m=8: 2.5 from window 2*m: 1.5\n",
      "Final memory size for external pointwise: m = 16 (agreement = 0.94)\n",
      "855410 what is theraderm used for\n",
      "from window m=2: 2.0 from window 2*m: 2.5\n",
      "from window m=2: 3.0 from window 2*m: 2.0\n",
      "from window m=2: 1.5 from window 2*m: 1.0\n",
      "Final memory size for external pointwise: m = 2 (agreement = 0.25)\n",
      "915593 what types of food can you cook sous vide\n",
      "from window m=2: 1.0 from window 2*m: 1.5\n",
      "from window m=2: 2.5 from window 2*m: 1.0\n",
      "from window m=4: 1.5 from window 2*m: 1.0\n",
      "from window m=4: 0.5 from window 2*m: 1.0\n",
      "from window m=4: 3.0 from window 2*m: 2.0\n",
      "from window m=4: 0.5 from window 2*m: 1.0\n",
      "from window m=8: 1.0 from window 2*m: 1.5\n",
      "from window m=8: 1.0 from window 2*m: 0.5\n",
      "from window m=8: 2.0 from window 2*m: 1.5\n",
      "from window m=8: 1.0 from window 2*m: 0.5\n",
      "from window m=8: 1.0 from window 2*m: 0.5\n",
      "from window m=8: 1.0 from window 2*m: 0.5\n",
      "from window m=8: 1.0 from window 2*m: 0.0\n",
      "from window m=8: 1.0 from window 2*m: 0.0\n",
      "from window m=8: 1.0 from window 2*m: 0.0\n",
      "from window m=8: 0.0 from window 2*m: 0.5\n",
      "Final memory size for external pointwise: m = 8 (agreement = 0.38)\n",
      "962179 when was the salvation army founded\n",
      "Final memory size for external pointwise: m = 16 (agreement = 1.00)\n",
      "1037798 who is robert gray\n",
      "from window m=2: 0.5 from window 2*m: 1.0\n",
      "from window m=2: 0.5 from window 2*m: 0.0\n",
      "from window m=2: 2.5 from window 2*m: 1.0\n",
      "Final memory size for external pointwise: m = 2 (agreement = 0.25)\n",
      "1063750 why did the us volunterilay enter ww1\n",
      "from window m=2: 0.0 from window 2*m: 1.0\n",
      "from window m=2: 0.0 from window 2*m: 1.5\n",
      "from window m=4: 1.5 from window 2*m: 0.0\n",
      "from window m=4: 1.5 from window 2*m: 1.0\n",
      "from window m=8: 1.0 from window 2*m: 0.0\n",
      "from window m=8: 1.0 from window 2*m: 1.5\n",
      "from window m=8: 1.0 from window 2*m: 0.0\n",
      "from window m=8: 1.5 from window 2*m: 0.0\n",
      "Final memory size for external pointwise: m = 16 (agreement = 0.75)\n",
      "1103812 who formed the commonwealth of independent states\n",
      "from window m=2: 1.0 from window 2*m: 1.5\n",
      "from window m=2: 3.0 from window 2*m: 2.0\n",
      "from window m=4: 2.0 from window 2*m: 3.0\n",
      "from window m=4: 3.0 from window 2*m: 2.5\n",
      "from window m=4: 2.0 from window 2*m: 1.0\n",
      "from window m=8: 1.5 from window 2*m: 1.0\n",
      "from window m=8: 3.0 from window 2*m: 2.0\n",
      "from window m=8: 1.0 from window 2*m: 0.5\n",
      "from window m=8: 1.0 from window 2*m: 3.0\n",
      "from window m=8: 3.0 from window 2*m: 2.0\n",
      "from window m=8: 2.0 from window 2*m: 1.0\n",
      "from window m=8: 1.0 from window 2*m: 0.5\n",
      "Final memory size for external pointwise: m = 16 (agreement = 0.56)\n"
     ]
    },
    {
     "name": "stdout",
     "output_type": "stream",
     "text": [
      "1106007 define visceral?\n"
     ]
    },
    {
     "name": "stderr",
     "output_type": "stream",
     "text": [
      "100%|██████████████████████████████████████████| 43/43 [00:00<00:00, 145.72it/s]\n"
     ]
    },
    {
     "name": "stdout",
     "output_type": "stream",
     "text": [
      "from window m=2: 2.5 from window 2*m: 1.5\n",
      "from window m=4: 1.5 from window 2*m: 1.0\n",
      "from window m=4: 1.5 from window 2*m: 1.0\n",
      "from window m=4: 0.5 from window 2*m: 1.0\n",
      "from window m=4: 2.5 from window 2*m: 1.5\n",
      "from window m=4: 2.5 from window 2*m: 1.0\n",
      "Final memory size for external pointwise: m = 4 (agreement = 0.38)\n",
      "1110199 what is wifi vs bluetooth\n",
      "from window m=2: 1.5 from window 2*m: 0.0\n",
      "from window m=4: 0.0 from window 2*m: 1.0\n",
      "from window m=4: 3.0 from window 2*m: 2.5\n",
      "from window m=4: 0.0 from window 2*m: 0.5\n",
      "from window m=8: 1.0 from window 2*m: 0.5\n",
      "from window m=8: 1.0 from window 2*m: 0.0\n",
      "from window m=8: 0.5 from window 2*m: 0.0\n",
      "from window m=8: 0.5 from window 2*m: 0.0\n",
      "from window m=8: 0.5 from window 2*m: 0.0\n",
      "from window m=8: 0.5 from window 2*m: 0.0\n",
      "from window m=8: 0.5 from window 2*m: 0.0\n",
      "from window m=8: 2.5 from window 2*m: 1.0\n",
      "from window m=8: 0.5 from window 2*m: 0.0\n",
      "Final memory size for external pointwise: m = 8 (agreement = 0.44)\n",
      "1112341 what is the daily life of thai people\n",
      "from window m=2: 3.0 from window 2*m: 2.5\n",
      "from window m=8: 1.0 from window 2*m: 0.0\n",
      "from window m=8: 0.0 from window 2*m: 2.0\n",
      "from window m=8: 3.0 from window 2*m: 0.0\n",
      "from window m=8: 2.5 from window 2*m: 2.0\n",
      "Final memory size for external pointwise: m = 16 (agreement = 0.75)\n",
      "1113437 what is physical description of spruce\n",
      "from window m=2: 2.5 from window 2*m: 2.0\n",
      "from window m=2: 2.5 from window 2*m: 3.0\n",
      "from window m=2: 1.5 from window 2*m: 2.5\n",
      "Final memory size for external pointwise: m = 2 (agreement = 0.25)\n",
      "1114646 what is famvir prescribed for\n",
      "from window m=2: 2.5 from window 2*m: 3.0\n",
      "from window m=2: 3.0 from window 2*m: 2.5\n",
      "from window m=2: 0.5 from window 2*m: 0.0\n",
      "Final memory size for external pointwise: m = 2 (agreement = 0.25)\n",
      "1114819 what is durable medical equipment consist of\n",
      "from window m=4: 1.5 from window 2*m: 2.0\n",
      "from window m=4: 2.0 from window 2*m: 1.5\n",
      "from window m=4: 3.0 from window 2*m: 1.5\n",
      "from window m=4: 3.0 from window 2*m: 1.5\n",
      "from window m=4: 1.5 from window 2*m: 0.5\n",
      "Final memory size for external pointwise: m = 4 (agreement = 0.38)\n",
      "1115776 what is an aml surveillance analyst\n",
      "from window m=2: 1.0 from window 2*m: 0.0\n",
      "from window m=2: 1.0 from window 2*m: 0.0\n",
      "from window m=2: 0.5 from window 2*m: 0.0\n",
      "Final memory size for external pointwise: m = 2 (agreement = 0.25)\n",
      "1117099 what is a active margin\n",
      "from window m=2: 3.0 from window 2*m: 2.5\n",
      "from window m=4: 2.5 from window 2*m: 2.0\n",
      "from window m=4: 2.5 from window 2*m: 3.0\n",
      "from window m=8: 2.0 from window 2*m: 2.5\n",
      "from window m=8: 3.0 from window 2*m: 2.5\n",
      "from window m=8: 2.5 from window 2*m: 3.0\n",
      "from window m=8: 2.0 from window 2*m: 3.0\n",
      "Final memory size for external pointwise: m = 16 (agreement = 0.75)\n",
      "1121402 what can contour plowing reduce\n",
      "from window m=2: 3.0 from window 2*m: 2.5\n",
      "from window m=4: 2.5 from window 2*m: 3.0\n",
      "from window m=4: 2.0 from window 2*m: 1.0\n",
      "from window m=4: 2.5 from window 2*m: 1.5\n",
      "from window m=8: 1.5 from window 2*m: 3.0\n",
      "from window m=8: 3.0 from window 2*m: 0.0\n",
      "from window m=8: 1.0 from window 2*m: 0.0\n",
      "from window m=8: 1.0 from window 2*m: 0.0\n",
      "from window m=8: 1.0 from window 2*m: 0.0\n",
      "from window m=8: 1.5 from window 2*m: 1.0\n",
      "from window m=8: 1.0 from window 2*m: 0.0\n",
      "Final memory size for external pointwise: m = 16 (agreement = 0.56)\n",
      "1121709 what are the three percenters?\n",
      "from window m=2: 2.5 from window 2*m: 3.0\n",
      "from window m=4: 1.0 from window 2*m: 0.0\n",
      "Final memory size for external pointwise: m = 16 (agreement = 1.00)\n",
      "1124210 tracheids are part of _____.\n",
      "from window m=2: 2.5 from window 2*m: 1.5\n",
      "from window m=2: 1.5 from window 2*m: 1.0\n",
      "from window m=4: 1.5 from window 2*m: 2.0\n",
      "from window m=4: 1.0 from window 2*m: 1.5\n",
      "from window m=4: 1.5 from window 2*m: 1.0\n",
      "from window m=4: 2.5 from window 2*m: 1.5\n",
      "from window m=8: 2.0 from window 2*m: 1.5\n",
      "from window m=8: 1.5 from window 2*m: 2.0\n",
      "from window m=8: 3.0 from window 2*m: 2.0\n",
      "from window m=8: 0.5 from window 2*m: 1.5\n",
      "from window m=8: 1.5 from window 2*m: 2.0\n",
      "from window m=8: 3.0 from window 2*m: 2.5\n",
      "from window m=8: 2.5 from window 2*m: 3.0\n",
      "from window m=8: 2.5 from window 2*m: 3.0\n",
      "from window m=8: 2.0 from window 2*m: 3.0\n",
      "from window m=8: 1.5 from window 2*m: 2.0\n",
      "Final memory size for external pointwise: m = 8 (agreement = 0.38)\n",
      "1129237 hydrogen is a liquid below what temperature\n",
      "from window m=2: 3.0 from window 2*m: 1.0\n",
      "from window m=2: 2.0 from window 2*m: 3.0\n",
      "from window m=4: 1.5 from window 2*m: 1.0\n",
      "from window m=4: 1.0 from window 2*m: 1.5\n",
      "from window m=4: 3.0 from window 2*m: 2.5\n",
      "from window m=8: 1.5 from window 2*m: 1.0\n",
      "from window m=8: 2.5 from window 2*m: 3.0\n",
      "from window m=8: 1.5 from window 2*m: 0.0\n",
      "from window m=8: 1.5 from window 2*m: 0.0\n",
      "Final memory size for external pointwise: m = 16 (agreement = 0.75)\n",
      "1133167 how is the weather in jamaica\n",
      "from window m=2: 2.5 from window 2*m: 3.0\n",
      "from window m=2: 3.0 from window 2*m: 2.0\n",
      "from window m=4: 3.0 from window 2*m: 2.8\n",
      "from window m=4: 2.0 from window 2*m: 2.5\n",
      "from window m=4: 1.0 from window 2*m: 1.5\n",
      "from window m=4: 3.0 from window 2*m: 2.7\n",
      "from window m=4: 2.5 from window 2*m: 2.6\n",
      "Final memory size for external pointwise: m = 4 (agreement = 0.38)\n",
      "gpt-4o-mini, extrernal pointwise Mean nDCG@10: 0.6520011839194261\n",
      "tokens: 862804\n"
     ]
    },
    {
     "name": "stderr",
     "output_type": "stream",
     "text": [
      "100%|███████████████████████████████████████████| 43/43 [00:00<00:00, 70.68it/s]\n"
     ]
    },
    {
     "name": "stdout",
     "output_type": "stream",
     "text": [
      "gpt-4o, pointwise Mean nDCG@10: 0.6851303581701533\n",
      "tokens: 1807430\n"
     ]
    },
    {
     "name": "stderr",
     "output_type": "stream",
     "text": [
      " 47%|███████████████████▌                      | 20/43 [00:00<00:00, 190.73it/s]"
     ]
    },
    {
     "name": "stdout",
     "output_type": "stream",
     "text": [
      "19335 anthropological definition of environment\n",
      "from window m=2: 2.5 from window 2*m: 3.0\n",
      "from window m=2: 1.5 from window 2*m: 2.5\n",
      "from window m=2: 0.5 from window 2*m: 0.0\n",
      "Final memory size for external pointwise: m = 2 (agreement = 0.25)\n",
      "47923 axon terminals or synaptic knob definition\n",
      "from window m=2: 3.0 from window 2*m: 2.5\n",
      "from window m=4: 2.5 from window 2*m: 3.0\n",
      "from window m=4: 2.0 from window 2*m: 2.5\n",
      "from window m=4: 3.0 from window 2*m: 2.5\n",
      "from window m=4: 3.0 from window 2*m: 2.0\n",
      "from window m=4: 2.0 from window 2*m: 2.5\n",
      "from window m=4: 2.5 from window 2*m: 2.0\n",
      "Final memory size for external pointwise: m = 4 (agreement = 0.25)\n",
      "87181 causes of left ventricular hypertrophy\n",
      "from window m=2: 3.0 from window 2*m: 2.5\n",
      "from window m=8: 2.5 from window 2*m: 3.0\n",
      "from window m=8: 2.5 from window 2*m: 3.0\n",
      "from window m=8: 0.5 from window 2*m: 1.0\n",
      "from window m=8: 0.5 from window 2*m: 1.0\n",
      "from window m=8: 1.0 from window 2*m: 0.5\n",
      "from window m=16: 1.0 from window 2*m: 0.5\n",
      "from window m=16: 1.0 from window 2*m: 0.5\n",
      "from window m=16: 0.5 from window 2*m: 0.0\n",
      "from window m=16: 1.0 from window 2*m: 0.5\n",
      "from window m=16: 0.5 from window 2*m: 0.0\n",
      "from window m=16: 0.5 from window 2*m: 0.0\n",
      "from window m=16: 3.0 from window 2*m: 2.5\n",
      "from window m=16: 3.0 from window 2*m: 2.5\n",
      "from window m=16: 2.0 from window 2*m: 0.5\n",
      "from window m=16: 0.5 from window 2*m: 0.0\n",
      "from window m=16: 0.5 from window 2*m: 2.5\n",
      "from window m=16: 0.5 from window 2*m: 0.0\n",
      "from window m=16: 2.0 from window 2*m: 2.5\n",
      "from window m=16: 0.5 from window 2*m: 0.0\n",
      "from window m=32: 0.5 from window 2*m: 0.0\n",
      "from window m=32: 0.5 from window 2*m: 0.0\n",
      "from window m=32: 2.5 from window 2*m: 2.0\n",
      "from window m=32: 2.5 from window 2*m: 2.0\n",
      "from window m=32: 2.5 from window 2*m: 2.0\n",
      "from window m=32: 2.5 from window 2*m: 1.0\n",
      "from window m=32: 2.5 from window 2*m: 2.0\n",
      "from window m=32: 0.5 from window 2*m: 0.0\n",
      "from window m=32: 3.0 from window 2*m: 1.0\n",
      "from window m=32: 0.5 from window 2*m: 0.0\n",
      "from window m=32: 0.5 from window 2*m: 0.0\n",
      "from window m=32: 2.5 from window 2*m: 2.0\n",
      "from window m=32: 0.5 from window 2*m: 0.0\n",
      "from window m=32: 0.5 from window 2*m: 0.0\n",
      "from window m=32: 0.5 from window 2*m: 0.0\n",
      "from window m=32: 0.5 from window 2*m: 0.0\n",
      "from window m=32: 0.5 from window 2*m: 0.0\n",
      "from window m=32: 0.5 from window 2*m: 0.0\n",
      "from window m=32: 0.5 from window 2*m: 0.0\n",
      "from window m=32: 2.5 from window 2*m: 2.0\n",
      "from window m=32: 2.5 from window 2*m: 1.0\n",
      "from window m=32: 2.5 from window 2*m: 0.0\n",
      "from window m=32: 0.5 from window 2*m: 0.0\n",
      "from window m=32: 2.5 from window 2*m: 0.0\n",
      "Final memory size for external pointwise: m = 64 (agreement = 0.62)\n",
      "87452 causes of military suicide\n",
      "from window m=2: 0.0 from window 2*m: 0.5\n",
      "from window m=2: 0.0 from window 2*m: 0.5\n",
      "from window m=2: 1.0 from window 2*m: 0.5\n",
      "from window m=2: 1.0 from window 2*m: 0.5\n",
      "Final memory size for external pointwise: m = 2 (agreement = 0.00)\n",
      "104861 cost of interior concrete flooring\n",
      "from window m=2: 2.5 from window 2*m: 3.0\n",
      "from window m=2: 2.5 from window 2*m: 3.0\n",
      "from window m=4: 3.0 from window 2*m: 2.5\n",
      "from window m=4: 2.5 from window 2*m: 1.0\n",
      "from window m=4: 1.0 from window 2*m: 2.5\n",
      "from window m=8: 2.5 from window 2*m: 3.0\n",
      "from window m=8: 2.5 from window 2*m: 3.0\n",
      "from window m=8: 1.5 from window 2*m: 1.0\n",
      "from window m=8: 1.5 from window 2*m: 1.0\n",
      "from window m=8: 2.5 from window 2*m: 3.0\n",
      "from window m=8: 1.5 from window 2*m: 1.0\n",
      "from window m=16: 3.0 from window 2*m: 2.0\n",
      "from window m=16: 1.0 from window 2*m: 1.5\n",
      "from window m=16: 1.0 from window 2*m: 1.5\n",
      "from window m=16: 0.0 from window 2*m: 0.5\n",
      "from window m=16: 1.0 from window 2*m: 1.5\n",
      "from window m=16: 0.0 from window 2*m: 1.0\n",
      "from window m=16: 0.0 from window 2*m: 1.0\n",
      "from window m=16: 0.0 from window 2*m: 1.0\n",
      "from window m=16: 0.0 from window 2*m: 1.0\n",
      "from window m=16: 0.0 from window 2*m: 1.5\n",
      "from window m=16: 0.0 from window 2*m: 1.0\n",
      "from window m=16: 1.0 from window 2*m: 0.5\n",
      "from window m=16: 0.0 from window 2*m: 1.5\n",
      "from window m=16: 2.0 from window 2*m: 3.0\n",
      "from window m=16: 0.0 from window 2*m: 0.5\n",
      "from window m=32: 2.0 from window 2*m: 2.5\n",
      "from window m=32: 1.0 from window 2*m: 0.5\n",
      "from window m=32: 1.0 from window 2*m: 0.5\n",
      "from window m=32: 1.0 from window 2*m: 1.5\n",
      "from window m=32: 1.0 from window 2*m: 0.5\n",
      "from window m=32: 0.5 from window 2*m: 0.0\n",
      "from window m=32: 3.0 from window 2*m: 0.5\n",
      "from window m=32: 0.5 from window 2*m: 0.0\n",
      "from window m=32: 2.5 from window 2*m: 3.0\n",
      "from window m=32: 2.0 from window 2*m: 3.0\n",
      "from window m=32: 3.0 from window 2*m: 0.0\n",
      "from window m=32: 1.0 from window 2*m: 3.0\n",
      "from window m=32: 2.5 from window 2*m: 3.0\n",
      "from window m=32: 1.0 from window 2*m: 0.5\n",
      "from window m=32: 1.5 from window 2*m: 0.5\n",
      "from window m=32: 1.0 from window 2*m: 2.5\n",
      "from window m=32: 2.0 from window 2*m: 0.0\n",
      "from window m=32: 1.5 from window 2*m: 0.0\n",
      "from window m=32: 0.5 from window 2*m: 0.0\n",
      "from window m=32: 2.0 from window 2*m: 2.5\n",
      "from window m=32: 1.0 from window 2*m: 0.0\n",
      "from window m=32: 2.5 from window 2*m: 0.5\n",
      "from window m=32: 2.5 from window 2*m: 0.0\n",
      "from window m=32: 0.5 from window 2*m: 0.0\n",
      "from window m=32: 1.0 from window 2*m: 0.0\n",
      "from window m=32: 0.5 from window 2*m: 0.0\n",
      "from window m=32: 0.5 from window 2*m: 0.0\n",
      "from window m=32: 0.5 from window 2*m: 2.5\n",
      "from window m=32: 1.0 from window 2*m: 0.0\n",
      "from window m=32: 0.0 from window 2*m: 2.5\n",
      "from window m=32: 2.5 from window 2*m: 3.0\n",
      "from window m=32: 2.5 from window 2*m: 3.0\n",
      "Final memory size for external pointwise: m = 64 (agreement = 0.50)\n",
      "130510 definition declaratory judgment\n",
      "from window m=2: 3.0 from window 2*m: 1.0\n",
      "from window m=2: 1.5 from window 2*m: 0.5\n",
      "from window m=4: 1.5 from window 2*m: 1.0\n",
      "from window m=4: 2.5 from window 2*m: 3.0\n",
      "from window m=8: 1.0 from window 2*m: 1.5\n",
      "from window m=8: 1.5 from window 2*m: 1.0\n",
      "from window m=8: 2.0 from window 2*m: 1.0\n",
      "from window m=16: 1.5 from window 2*m: 1.0\n",
      "from window m=16: 1.0 from window 2*m: 0.5\n",
      "from window m=16: 3.0 from window 2*m: 1.0\n",
      "from window m=16: 1.0 from window 2*m: 0.5\n",
      "from window m=16: 1.0 from window 2*m: 0.5\n",
      "from window m=16: 2.5 from window 2*m: 1.5\n",
      "from window m=16: 1.0 from window 2*m: 0.5\n",
      "from window m=16: 1.0 from window 2*m: 2.0\n",
      "from window m=16: 1.0 from window 2*m: 0.5\n",
      "from window m=16: 1.5 from window 2*m: 1.0\n",
      "from window m=16: 1.5 from window 2*m: 2.0\n",
      "from window m=16: 2.5 from window 2*m: 2.0\n",
      "from window m=16: 1.0 from window 2*m: 0.5\n",
      "from window m=32: 1.0 from window 2*m: 1.5\n",
      "from window m=32: 0.5 from window 2*m: 1.0\n",
      "from window m=32: 0.5 from window 2*m: 1.0\n",
      "from window m=32: 1.0 from window 2*m: 3.0\n",
      "from window m=32: 0.5 from window 2*m: 1.0\n",
      "from window m=32: 0.5 from window 2*m: 1.0\n",
      "from window m=32: 0.5 from window 2*m: 1.0\n",
      "from window m=32: 2.0 from window 2*m: 1.0\n",
      "from window m=32: 0.5 from window 2*m: 1.0\n",
      "from window m=32: 0.5 from window 2*m: 1.0\n",
      "from window m=32: 0.5 from window 2*m: 1.0\n",
      "from window m=32: 0.5 from window 2*m: 1.0\n",
      "from window m=32: 2.0 from window 2*m: 1.0\n",
      "from window m=32: 0.5 from window 2*m: 1.0\n",
      "from window m=32: 2.0 from window 2*m: 3.0\n",
      "from window m=32: 3.0 from window 2*m: 0.5\n",
      "from window m=32: 0.0 from window 2*m: 0.5\n",
      "from window m=32: 0.0 from window 2*m: 0.5\n",
      "from window m=32: 2.0 from window 2*m: 0.5\n",
      "from window m=32: 0.0 from window 2*m: 0.5\n",
      "from window m=32: 0.0 from window 2*m: 0.5\n",
      "from window m=32: 3.0 from window 2*m: 0.5\n",
      "from window m=32: 0.0 from window 2*m: 0.5\n",
      "from window m=32: 0.0 from window 2*m: 0.5\n",
      "from window m=32: 0.0 from window 2*m: 0.5\n",
      "from window m=32: 0.0 from window 2*m: 0.5\n",
      "from window m=32: 0.0 from window 2*m: 0.5\n",
      "from window m=32: 0.0 from window 2*m: 0.5\n",
      "from window m=32: 0.0 from window 2*m: 0.5\n",
      "from window m=32: 1.0 from window 2*m: 0.5\n",
      "from window m=32: 1.0 from window 2*m: 0.5\n",
      "from window m=32: 0.0 from window 2*m: 0.5\n",
      "from window m=32: 0.0 from window 2*m: 0.5\n",
      "from window m=32: 0.0 from window 2*m: 0.5\n",
      "from window m=32: 0.0 from window 2*m: 0.5\n",
      "from window m=32: 0.0 from window 2*m: 0.5\n",
      "from window m=32: 0.0 from window 2*m: 0.5\n",
      "from window m=32: 0.0 from window 2*m: 0.5\n",
      "from window m=32: 0.0 from window 2*m: 0.5\n",
      "Final memory size for external pointwise: m = 32 (agreement = 0.39)\n",
      "131843 definition of a sigmet\n",
      "from window m=2: 3.0 from window 2*m: 2.5\n",
      "from window m=2: 3.0 from window 2*m: 2.8\n",
      "from window m=4: 2.5 from window 2*m: 3.0\n",
      "from window m=4: 2.8 from window 2*m: 2.5\n",
      "from window m=4: 3.0 from window 2*m: 2.5\n",
      "from window m=4: 1.5 from window 2*m: 1.0\n",
      "from window m=8: 1.0 from window 2*m: 1.5\n",
      "from window m=8: 0.5 from window 2*m: 1.0\n",
      "from window m=8: 0.5 from window 2*m: 1.0\n",
      "from window m=8: 3.0 from window 2*m: 0.0\n",
      "from window m=16: 1.5 from window 2*m: 1.0\n",
      "from window m=16: 1.0 from window 2*m: 0.5\n",
      "from window m=16: 1.0 from window 2*m: 0.5\n",
      "from window m=16: 0.5 from window 2*m: 1.0\n",
      "from window m=16: 0.5 from window 2*m: 1.0\n",
      "from window m=16: 0.5 from window 2*m: 1.0\n",
      "from window m=16: 0.5 from window 2*m: 1.0\n",
      "from window m=16: 0.5 from window 2*m: 1.0\n",
      "from window m=16: 0.5 from window 2*m: 1.0\n",
      "from window m=16: 0.5 from window 2*m: 1.0\n",
      "from window m=16: 0.5 from window 2*m: 0.0\n",
      "from window m=16: 0.5 from window 2*m: 1.0\n",
      "from window m=16: 2.0 from window 2*m: 1.0\n",
      "from window m=16: 0.5 from window 2*m: 1.0\n",
      "from window m=16: 0.5 from window 2*m: 0.0\n",
      "from window m=16: 3.0 from window 2*m: 1.0\n",
      "from window m=16: 0.5 from window 2*m: 1.0\n",
      "from window m=16: 2.0 from window 2*m: 1.0\n",
      "Final memory size for external pointwise: m = 16 (agreement = 0.44)\n",
      "146187 difference between a mcdouble and a double cheeseburger\n",
      "from window m=2: 2.5 from window 2*m: 1.5\n",
      "from window m=2: 1.0 from window 2*m: 0.5\n",
      "from window m=4: 1.0 from window 2*m: 0.5\n",
      "from window m=4: 1.5 from window 2*m: 0.5\n",
      "from window m=8: 1.0 from window 2*m: 0.5\n",
      "from window m=16: 0.5 from window 2*m: 1.0\n",
      "from window m=16: 1.0 from window 2*m: 0.0\n",
      "from window m=32: 1.0 from window 2*m: 0.5\n",
      "from window m=32: 0.5 from window 2*m: 0.0\n",
      "from window m=32: 1.0 from window 2*m: 0.0\n",
      "from window m=32: 0.5 from window 2*m: 0.0\n",
      "from window m=32: 0.5 from window 2*m: 0.0\n",
      "from window m=32: 1.0 from window 2*m: 0.0\n",
      "from window m=32: 0.5 from window 2*m: 0.0\n",
      "from window m=32: 0.5 from window 2*m: 0.0\n",
      "from window m=32: 0.5 from window 2*m: 0.0\n",
      "from window m=32: 0.5 from window 2*m: 0.0\n",
      "from window m=32: 0.5 from window 2*m: 0.0\n",
      "from window m=32: 0.5 from window 2*m: 0.0\n",
      "Final memory size for external pointwise: m = 64 (agreement = 0.81)\n",
      "148538 difference between rn and bsn\n",
      "from window m=4: 2.0 from window 2*m: 1.5\n",
      "from window m=4: 2.0 from window 2*m: 1.5\n",
      "from window m=4: 1.5 from window 2*m: 1.0\n",
      "from window m=4: 2.5 from window 2*m: 2.0\n",
      "from window m=8: 1.5 from window 2*m: 2.0\n",
      "from window m=8: 1.5 from window 2*m: 2.0\n",
      "from window m=8: 1.0 from window 2*m: 1.5\n",
      "from window m=8: 1.5 from window 2*m: 2.0\n",
      "from window m=8: 2.0 from window 2*m: 2.5\n",
      "from window m=8: 0.5 from window 2*m: 1.0\n",
      "from window m=8: 1.0 from window 2*m: 2.5\n",
      "from window m=8: 0.0 from window 2*m: 0.5\n",
      "from window m=8: 1.5 from window 2*m: 3.0\n",
      "from window m=8: 2.5 from window 2*m: 3.0\n",
      "from window m=8: 2.0 from window 2*m: 3.0\n",
      "from window m=8: 0.5 from window 2*m: 1.0\n",
      "Final memory size for external pointwise: m = 8 (agreement = 0.25)\n",
      "156493 do goldfish grow\n",
      "from window m=4: 2.0 from window 2*m: 1.5\n",
      "from window m=4: 3.0 from window 2*m: 2.5\n",
      "from window m=4: 1.5 from window 2*m: 2.0\n",
      "from window m=8: 1.5 from window 2*m: 2.0\n",
      "from window m=8: 3.0 from window 2*m: 2.5\n",
      "from window m=8: 3.0 from window 2*m: 2.5\n",
      "from window m=8: 1.5 from window 2*m: 2.0\n",
      "from window m=8: 3.0 from window 2*m: 2.0\n",
      "from window m=8: 3.0 from window 2*m: 2.5\n",
      "from window m=8: 3.0 from window 2*m: 2.5\n",
      "from window m=8: 2.0 from window 2*m: 2.5\n",
      "from window m=8: 3.0 from window 2*m: 2.5\n",
      "Final memory size for external pointwise: m = 8 (agreement = 0.44)\n",
      "168216 does legionella pneumophila cause pneumonia\n",
      "from window m=2: 3.0 from window 2*m: 2.5\n",
      "from window m=4: 2.5 from window 2*m: 3.0\n",
      "from window m=4: 2.5 from window 2*m: 3.0\n",
      "from window m=4: 2.5 from window 2*m: 3.0\n",
      "from window m=4: 2.5 from window 2*m: 3.0\n",
      "from window m=8: 2.5 from window 2*m: 3.0\n",
      "from window m=32: 2.5 from window 2*m: 3.0\n",
      "from window m=32: 2.5 from window 2*m: 3.0\n",
      "from window m=32: 2.5 from window 2*m: 3.0\n",
      "from window m=32: 2.0 from window 2*m: 3.0\n",
      "from window m=32: 2.5 from window 2*m: 3.0\n",
      "from window m=32: 2.5 from window 2*m: 3.0\n",
      "from window m=32: 2.5 from window 2*m: 3.0\n",
      "from window m=32: 2.5 from window 2*m: 3.0\n",
      "from window m=32: 1.5 from window 2*m: 3.0\n",
      "from window m=32: 2.5 from window 2*m: 3.0\n",
      "from window m=32: 2.5 from window 2*m: 3.0\n",
      "from window m=32: 2.5 from window 2*m: 3.0\n",
      "from window m=32: 2.5 from window 2*m: 3.0\n",
      "from window m=32: 1.5 from window 2*m: 3.0\n",
      "from window m=32: 2.5 from window 2*m: 3.0\n",
      "from window m=32: 2.5 from window 2*m: 3.0\n",
      "from window m=32: 2.5 from window 2*m: 3.0\n",
      "from window m=32: 2.5 from window 2*m: 3.0\n",
      "Final memory size for external pointwise: m = 64 (agreement = 0.72)\n",
      "182539 example of monotonic function\n",
      "from window m=2: 2.5 from window 2*m: 2.0\n",
      "from window m=2: 1.5 from window 2*m: 1.0\n",
      "from window m=4: 2.0 from window 2*m: 1.5\n",
      "from window m=4: 3.0 from window 2*m: 1.5\n",
      "from window m=4: 3.0 from window 2*m: 1.5\n",
      "from window m=4: 1.0 from window 2*m: 0.5\n",
      "from window m=8: 1.5 from window 2*m: 2.0\n",
      "from window m=8: 1.5 from window 2*m: 1.0\n",
      "from window m=8: 2.0 from window 2*m: 1.5\n",
      "from window m=8: 1.5 from window 2*m: 1.0\n",
      "from window m=8: 1.5 from window 2*m: 1.0\n",
      "from window m=16: 2.0 from window 2*m: 1.5\n",
      "from window m=16: 1.0 from window 2*m: 0.5\n",
      "from window m=16: 1.5 from window 2*m: 1.0\n",
      "from window m=16: 1.5 from window 2*m: 1.0\n",
      "from window m=16: 1.5 from window 2*m: 1.0\n",
      "from window m=16: 1.0 from window 2*m: 0.5\n",
      "from window m=16: 1.5 from window 2*m: 1.0\n",
      "from window m=16: 0.0 from window 2*m: 0.5\n",
      "from window m=16: 1.5 from window 2*m: 0.0\n",
      "from window m=16: 2.5 from window 2*m: 2.0\n",
      "from window m=16: 3.0 from window 2*m: 2.5\n",
      "from window m=16: 1.0 from window 2*m: 0.5\n",
      "from window m=16: 1.5 from window 2*m: 0.0\n",
      "from window m=16: 1.5 from window 2*m: 0.0\n",
      "from window m=16: 1.5 from window 2*m: 1.0\n",
      "from window m=16: 3.0 from window 2*m: 0.5\n",
      "from window m=32: 0.5 from window 2*m: 0.0\n",
      "from window m=32: 0.5 from window 2*m: 0.0\n",
      "from window m=32: 0.5 from window 2*m: 1.0\n",
      "from window m=32: 0.5 from window 2*m: 0.0\n",
      "from window m=32: 0.5 from window 2*m: 0.0\n",
      "from window m=32: 0.5 from window 2*m: 0.0\n",
      "from window m=32: 0.5 from window 2*m: 0.0\n",
      "from window m=32: 0.5 from window 2*m: 1.0\n",
      "from window m=32: 0.5 from window 2*m: 0.0\n",
      "from window m=32: 0.5 from window 2*m: 1.5\n",
      "from window m=32: 1.5 from window 2*m: 0.0\n",
      "from window m=32: 2.5 from window 2*m: 1.0\n",
      "from window m=32: 1.0 from window 2*m: 1.5\n",
      "from window m=32: 0.5 from window 2*m: 0.0\n",
      "from window m=32: 1.0 from window 2*m: 0.0\n",
      "from window m=32: 1.5 from window 2*m: 1.0\n",
      "from window m=32: 0.5 from window 2*m: 0.0\n",
      "from window m=32: 1.5 from window 2*m: 1.0\n",
      "from window m=32: 3.0 from window 2*m: 1.0\n",
      "from window m=32: 2.5 from window 2*m: 1.0\n",
      "from window m=32: 3.0 from window 2*m: 1.0\n",
      "from window m=32: 2.5 from window 2*m: 1.0\n",
      "from window m=32: 1.5 from window 2*m: 1.0\n",
      "from window m=32: 2.0 from window 2*m: 0.0\n",
      "from window m=32: 0.5 from window 2*m: 0.0\n",
      "from window m=32: 2.0 from window 2*m: 0.0\n",
      "from window m=32: 2.0 from window 2*m: 0.0\n",
      "from window m=32: 2.0 from window 2*m: 1.5\n",
      "from window m=32: 2.0 from window 2*m: 0.0\n",
      "Final memory size for external pointwise: m = 64 (agreement = 0.55)\n",
      "183378 exons definition biology\n",
      "from window m=2: 2.5 from window 2*m: 2.0\n",
      "from window m=2: 0.0 from window 2*m: 0.5\n",
      "from window m=4: 0.5 from window 2*m: 0.0\n",
      "from window m=4: 2.0 from window 2*m: 1.0\n",
      "from window m=8: 2.0 from window 2*m: 1.5\n",
      "from window m=8: 1.0 from window 2*m: 1.5\n",
      "from window m=8: 2.5 from window 2*m: 0.5\n",
      "from window m=8: 0.0 from window 2*m: 0.5\n",
      "from window m=8: 3.0 from window 2*m: 1.5\n",
      "from window m=8: 0.0 from window 2*m: 0.5\n",
      "from window m=8: 1.0 from window 2*m: 1.5\n",
      "from window m=16: 3.0 from window 2*m: 2.5\n",
      "from window m=16: 3.0 from window 2*m: 2.5\n",
      "from window m=16: 0.5 from window 2*m: 0.0\n",
      "from window m=16: 0.5 from window 2*m: 1.0\n",
      "from window m=16: 0.5 from window 2*m: 0.0\n",
      "from window m=16: 0.5 from window 2*m: 1.0\n",
      "from window m=16: 0.5 from window 2*m: 0.0\n",
      "from window m=16: 1.5 from window 2*m: 0.5\n",
      "from window m=16: 0.5 from window 2*m: 2.5\n",
      "from window m=16: 0.5 from window 2*m: 0.0\n",
      "from window m=16: 3.0 from window 2*m: 1.5\n",
      "from window m=16: 3.0 from window 2*m: 1.5\n",
      "from window m=16: 3.0 from window 2*m: 1.5\n",
      "from window m=16: 3.0 from window 2*m: 1.5\n",
      "from window m=32: 1.5 from window 2*m: 1.0\n",
      "from window m=32: 1.0 from window 2*m: 0.5\n",
      "from window m=32: 1.0 from window 2*m: 0.5\n",
      "from window m=32: 1.5 from window 2*m: 1.0\n",
      "from window m=32: 0.5 from window 2*m: 0.0\n",
      "from window m=32: 2.5 from window 2*m: 0.0\n",
      "from window m=32: 1.5 from window 2*m: 2.5\n",
      "from window m=32: 1.5 from window 2*m: 1.0\n",
      "from window m=32: 0.5 from window 2*m: 1.0\n",
      "from window m=32: 1.5 from window 2*m: 1.0\n",
      "from window m=32: 2.0 from window 2*m: 3.0\n",
      "from window m=32: 2.5 from window 2*m: 3.0\n",
      "from window m=32: 2.5 from window 2*m: 3.0\n",
      "from window m=32: 1.0 from window 2*m: 0.0\n",
      "from window m=32: 1.0 from window 2*m: 0.0\n",
      "from window m=32: 2.0 from window 2*m: 1.5\n",
      "from window m=32: 1.5 from window 2*m: 1.0\n",
      "from window m=32: 2.0 from window 2*m: 3.0\n",
      "from window m=32: 1.0 from window 2*m: 0.0\n",
      "from window m=32: 3.0 from window 2*m: 1.5\n",
      "from window m=32: 1.5 from window 2*m: 0.0\n",
      "from window m=32: 0.0 from window 2*m: 3.0\n",
      "from window m=32: 3.0 from window 2*m: 0.0\n",
      "from window m=32: 1.0 from window 2*m: 1.5\n",
      "from window m=32: 2.0 from window 2*m: 3.0\n",
      "from window m=32: 3.0 from window 2*m: 0.0\n",
      "from window m=32: 1.0 from window 2*m: 0.0\n",
      "from window m=32: 1.0 from window 2*m: 0.0\n",
      "from window m=32: 1.5 from window 2*m: 0.0\n",
      "Final memory size for external pointwise: m = 64 (agreement = 0.55)\n",
      "207786 how are some sharks warm blooded\n",
      "from window m=2: 1.0 from window 2*m: 2.0\n",
      "from window m=4: 0.0 from window 2*m: 0.5\n",
      "from window m=4: 3.0 from window 2*m: 2.0\n",
      "from window m=8: 1.0 from window 2*m: 0.5\n",
      "from window m=8: 2.0 from window 2*m: 2.5\n",
      "from window m=8: 1.5 from window 2*m: 2.0\n",
      "from window m=8: 0.5 from window 2*m: 0.0\n",
      "from window m=8: 3.0 from window 2*m: 2.5\n",
      "from window m=8: 0.5 from window 2*m: 0.0\n",
      "from window m=16: 0.5 from window 2*m: 1.0\n",
      "from window m=16: 2.0 from window 2*m: 1.5\n",
      "from window m=16: 0.0 from window 2*m: 0.5\n",
      "from window m=16: 0.0 from window 2*m: 0.5\n",
      "from window m=16: 0.5 from window 2*m: 1.5\n",
      "from window m=16: 2.5 from window 2*m: 2.0\n",
      "from window m=16: 0.0 from window 2*m: 0.5\n",
      "from window m=16: 0.0 from window 2*m: 0.5\n",
      "from window m=16: 0.0 from window 2*m: 0.5\n",
      "from window m=16: 0.0 from window 2*m: 0.5\n",
      "from window m=16: 0.0 from window 2*m: 0.5\n",
      "from window m=16: 0.0 from window 2*m: 0.5\n",
      "from window m=16: 0.0 from window 2*m: 0.5\n",
      "from window m=16: 0.0 from window 2*m: 0.5\n",
      "from window m=16: 0.0 from window 2*m: 0.5\n",
      "from window m=16: 0.0 from window 2*m: 0.5\n",
      "from window m=16: 0.0 from window 2*m: 0.5\n",
      "from window m=16: 0.0 from window 2*m: 0.5\n",
      "from window m=16: 0.0 from window 2*m: 0.5\n",
      "from window m=16: 0.0 from window 2*m: 0.5\n",
      "from window m=16: 0.0 from window 2*m: 0.5\n",
      "from window m=16: 0.0 from window 2*m: 0.5\n",
      "from window m=16: 0.0 from window 2*m: 0.5\n",
      "from window m=16: 0.0 from window 2*m: 0.5\n",
      "from window m=16: 0.0 from window 2*m: 0.5\n",
      "from window m=16: 0.0 from window 2*m: 0.5\n",
      "from window m=16: 0.0 from window 2*m: 0.5\n",
      "Final memory size for external pointwise: m = 16 (agreement = 0.16)\n",
      "264014 how long is life cycle of flea\n",
      "from window m=2: 3.0 from window 2*m: 2.5\n",
      "from window m=2: 2.0 from window 2*m: 1.0\n",
      "from window m=4: 1.0 from window 2*m: 2.0\n",
      "from window m=4: 1.5 from window 2*m: 1.0\n",
      "from window m=4: 0.0 from window 2*m: 0.5\n",
      "from window m=4: 2.0 from window 2*m: 1.5\n",
      "from window m=8: 2.5 from window 2*m: 3.0\n",
      "from window m=8: 2.0 from window 2*m: 1.5\n",
      "from window m=8: 1.0 from window 2*m: 1.5\n",
      "from window m=8: 0.5 from window 2*m: 0.0\n",
      "from window m=8: 1.5 from window 2*m: 1.0\n",
      "from window m=8: 0.5 from window 2*m: 0.0\n",
      "from window m=8: 0.5 from window 2*m: 0.0\n",
      "from window m=8: 2.0 from window 2*m: 1.0\n",
      "from window m=8: 0.5 from window 2*m: 0.0\n",
      "from window m=8: 0.5 from window 2*m: 1.0\n",
      "Final memory size for external pointwise: m = 8 (agreement = 0.38)\n",
      "359349 how to find the midsegment of a trapezoid\n",
      "from window m=2: 3.0 from window 2*m: 2.5\n",
      "from window m=2: 2.5 from window 2*m: 2.0\n",
      "from window m=4: 1.0 from window 2*m: 0.5\n",
      "from window m=4: 2.5 from window 2*m: 2.0\n",
      "from window m=4: 1.5 from window 2*m: 2.5\n",
      "from window m=8: 2.5 from window 2*m: 3.0\n",
      "from window m=8: 2.0 from window 2*m: 3.0\n",
      "from window m=8: 0.5 from window 2*m: 1.0\n",
      "from window m=8: 2.0 from window 2*m: 3.0\n",
      "from window m=8: 2.5 from window 2*m: 3.0\n",
      "from window m=8: 2.5 from window 2*m: 3.0\n",
      "from window m=8: 2.5 from window 2*m: 3.0\n",
      "from window m=8: 2.0 from window 2*m: 1.0\n",
      "from window m=8: 2.0 from window 2*m: 1.0\n",
      "from window m=8: 3.0 from window 2*m: 2.5\n",
      "from window m=8: 1.5 from window 2*m: 0.5\n",
      "Final memory size for external pointwise: m = 8 (agreement = 0.31)\n",
      "405717 is cdg airport in main paris\n",
      "from window m=2: 2.0 from window 2*m: 2.5\n",
      "from window m=2: 0.5 from window 2*m: 1.0\n",
      "from window m=2: 2.5 from window 2*m: 3.0\n",
      "Final memory size for external pointwise: m = 2 (agreement = 0.25)\n",
      "443396 lps laws definition\n",
      "from window m=2: 2.5 from window 2*m: 1.0\n",
      "from window m=2: 0.5 from window 2*m: 0.0\n",
      "from window m=2: 1.5 from window 2*m: 3.0\n",
      "Final memory size for external pointwise: m = 2 (agreement = 0.25)\n",
      "451602 medicare's definition of mechanical ventilation\n",
      "from window m=8: 1.0 from window 2*m: 0.5\n",
      "from window m=8: 0.5 from window 2*m: 1.0\n",
      "from window m=8: 0.5 from window 2*m: 1.0\n",
      "from window m=8: 1.0 from window 2*m: 2.5\n",
      "from window m=8: 1.0 from window 2*m: 2.5\n",
      "from window m=8: 3.0 from window 2*m: 0.5\n",
      "from window m=8: 1.0 from window 2*m: 2.5\n",
      "from window m=16: 0.0 from window 2*m: 0.5\n",
      "from window m=16: 0.0 from window 2*m: 0.5\n",
      "from window m=16: 1.0 from window 2*m: 1.5\n",
      "from window m=16: 1.0 from window 2*m: 1.5\n",
      "from window m=16: 2.5 from window 2*m: 3.0\n",
      "from window m=16: 0.0 from window 2*m: 0.5\n",
      "from window m=16: 0.0 from window 2*m: 0.5\n",
      "from window m=16: 0.0 from window 2*m: 0.5\n",
      "from window m=16: 0.5 from window 2*m: 1.5\n",
      "from window m=16: 0.0 from window 2*m: 0.5\n",
      "from window m=16: 0.5 from window 2*m: 1.5\n",
      "from window m=16: 0.0 from window 2*m: 0.5\n",
      "from window m=16: 0.0 from window 2*m: 0.5\n",
      "from window m=16: 2.0 from window 2*m: 3.0\n",
      "from window m=16: 0.0 from window 2*m: 0.5\n",
      "from window m=16: 2.0 from window 2*m: 3.0\n",
      "from window m=16: 0.5 from window 2*m: 2.5\n",
      "from window m=16: 0.0 from window 2*m: 0.5\n",
      "from window m=16: 0.0 from window 2*m: 0.5\n",
      "from window m=16: 0.0 from window 2*m: 0.5\n",
      "from window m=16: 0.5 from window 2*m: 2.5\n",
      "from window m=16: 0.0 from window 2*m: 0.5\n",
      "from window m=16: 0.5 from window 2*m: 1.5\n",
      "Final memory size for external pointwise: m = 16 (agreement = 0.28)\n",
      "489204 right pelvic pain causes\n",
      "from window m=2: 2.5 from window 2*m: 2.0\n",
      "from window m=2: 2.5 from window 2*m: 2.0\n",
      "from window m=2: 1.5 from window 2*m: 3.0\n",
      "from window m=2: 0.5 from window 2*m: 1.0\n",
      "Final memory size for external pointwise: m = 2 (agreement = 0.00)\n",
      "490595 rsa definition key\n",
      "from window m=2: 1.0 from window 2*m: 0.5\n",
      "from window m=2: 1.0 from window 2*m: 0.5\n",
      "from window m=4: 3.0 from window 2*m: 2.5\n",
      "from window m=4: 2.0 from window 2*m: 1.5\n",
      "from window m=4: 1.5 from window 2*m: 1.0\n",
      "from window m=4: 3.0 from window 2*m: 2.5\n",
      "from window m=8: 1.0 from window 2*m: 0.5\n",
      "from window m=8: 2.5 from window 2*m: 3.0\n",
      "from window m=8: 1.0 from window 2*m: 0.5\n",
      "from window m=8: 1.5 from window 2*m: 0.5\n",
      "from window m=8: 0.5 from window 2*m: 1.0\n",
      "from window m=8: 1.0 from window 2*m: 0.5\n",
      "from window m=16: 1.5 from window 2*m: 1.0\n",
      "from window m=16: 1.0 from window 2*m: 1.5\n",
      "from window m=16: 3.0 from window 2*m: 2.5\n",
      "from window m=16: 3.0 from window 2*m: 2.5\n",
      "from window m=16: 2.5 from window 2*m: 2.0\n",
      "from window m=16: 1.0 from window 2*m: 0.5\n",
      "from window m=16: 1.5 from window 2*m: 2.0\n",
      "from window m=16: 1.5 from window 2*m: 0.5\n",
      "from window m=16: 1.5 from window 2*m: 0.5\n",
      "from window m=16: 2.0 from window 2*m: 3.0\n",
      "from window m=16: 3.0 from window 2*m: 2.5\n",
      "from window m=16: 1.5 from window 2*m: 1.0\n",
      "from window m=16: 2.0 from window 2*m: 2.5\n",
      "from window m=16: 1.0 from window 2*m: 0.5\n",
      "from window m=16: 2.0 from window 2*m: 0.5\n",
      "from window m=16: 2.0 from window 2*m: 3.0\n",
      "from window m=16: 1.0 from window 2*m: 0.5\n",
      "Final memory size for external pointwise: m = 16 (agreement = 0.47)\n",
      "527433 types of dysarthria from cerebral palsy\n",
      "from window m=4: 1.5 from window 2*m: 1.0\n",
      "from window m=4: 0.0 from window 2*m: 1.5\n",
      "from window m=4: 0.0 from window 2*m: 0.5\n",
      "from window m=4: 0.0 from window 2*m: 0.5\n",
      "from window m=4: 0.0 from window 2*m: 1.0\n",
      "from window m=4: 2.5 from window 2*m: 1.0\n",
      "Final memory size for external pointwise: m = 4 (agreement = 0.25)\n",
      "573724 what are the social determinants of health\n",
      "from window m=4: 1.5 from window 2*m: 2.0\n",
      "from window m=4: 2.5 from window 2*m: 1.5\n",
      "from window m=4: 1.0 from window 2*m: 0.5\n",
      "from window m=4: 1.5 from window 2*m: 1.0\n",
      "from window m=8: 2.0 from window 2*m: 1.5\n",
      "from window m=8: 1.0 from window 2*m: 0.5\n",
      "from window m=8: 2.5 from window 2*m: 1.5\n",
      "from window m=8: 2.0 from window 2*m: 3.0\n",
      "from window m=8: 1.0 from window 2*m: 1.5\n",
      "from window m=8: 2.5 from window 2*m: 1.5\n",
      "from window m=8: 2.0 from window 2*m: 3.0\n",
      "from window m=16: 1.5 from window 2*m: 1.0\n",
      "from window m=16: 3.0 from window 2*m: 2.5\n",
      "from window m=16: 3.0 from window 2*m: 1.0\n",
      "from window m=16: 0.5 from window 2*m: 0.0\n",
      "from window m=16: 1.5 from window 2*m: 0.5\n",
      "from window m=16: 2.5 from window 2*m: 0.5\n",
      "from window m=16: 1.0 from window 2*m: 0.5\n",
      "from window m=16: 1.5 from window 2*m: 3.0\n",
      "from window m=16: 1.5 from window 2*m: 0.5\n",
      "from window m=16: 2.0 from window 2*m: 1.0\n",
      "from window m=16: 2.5 from window 2*m: 1.5\n",
      "from window m=32: 1.0 from window 2*m: 1.5\n",
      "from window m=32: 0.5 from window 2*m: 1.0\n",
      "from window m=32: 2.5 from window 2*m: 3.0\n",
      "from window m=32: 1.0 from window 2*m: 3.0\n",
      "from window m=32: 0.5 from window 2*m: 1.0\n",
      "from window m=32: 3.0 from window 2*m: 1.5\n",
      "from window m=32: 1.5 from window 2*m: 0.5\n",
      "from window m=32: 2.0 from window 2*m: 1.0\n",
      "from window m=32: 2.5 from window 2*m: 3.0\n",
      "from window m=32: 2.5 from window 2*m: 3.0\n",
      "from window m=32: 1.5 from window 2*m: 0.5\n",
      "from window m=32: 2.5 from window 2*m: 1.0\n",
      "from window m=32: 2.0 from window 2*m: 3.0\n",
      "from window m=32: 2.5 from window 2*m: 0.0\n",
      "from window m=32: 0.5 from window 2*m: 1.5\n",
      "from window m=32: 0.0 from window 2*m: 0.5\n",
      "from window m=32: 1.5 from window 2*m: 0.0\n",
      "from window m=32: 0.0 from window 2*m: 1.5\n",
      "from window m=32: 2.5 from window 2*m: 0.0\n",
      "from window m=32: 1.5 from window 2*m: 0.0\n",
      "from window m=32: 1.5 from window 2*m: 0.5\n",
      "from window m=32: 1.5 from window 2*m: 1.0\n",
      "from window m=32: 1.5 from window 2*m: 0.5\n",
      "from window m=32: 0.5 from window 2*m: 0.0\n",
      "from window m=32: 0.0 from window 2*m: 0.5\n",
      "from window m=32: 1.5 from window 2*m: 0.5\n",
      "from window m=32: 1.5 from window 2*m: 0.5\n",
      "from window m=32: 1.5 from window 2*m: 0.5\n",
      "from window m=32: 2.5 from window 2*m: 3.0\n",
      "from window m=32: 2.5 from window 2*m: 3.0\n",
      "Final memory size for external pointwise: m = 64 (agreement = 0.53)\n",
      "833860 what is the most popular food in switzerland\n",
      "from window m=2: 2.5 from window 2*m: 3.0\n",
      "from window m=4: 1.5 from window 2*m: 2.5\n",
      "from window m=4: 1.0 from window 2*m: 2.5\n",
      "from window m=8: 2.5 from window 2*m: 1.5\n",
      "from window m=16: 2.5 from window 2*m: 1.5\n",
      "from window m=16: 2.5 from window 2*m: 1.5\n",
      "from window m=16: 1.5 from window 2*m: 1.0\n",
      "from window m=16: 3.0 from window 2*m: 2.5\n",
      "from window m=16: 1.0 from window 2*m: 0.0\n",
      "from window m=32: 1.5 from window 2*m: 2.0\n",
      "from window m=32: 1.5 from window 2*m: 2.0\n",
      "from window m=32: 1.0 from window 2*m: 1.5\n",
      "from window m=32: 3.0 from window 2*m: 2.5\n",
      "from window m=32: 3.0 from window 2*m: 2.5\n",
      "from window m=32: 3.0 from window 2*m: 2.5\n",
      "from window m=32: 1.5 from window 2*m: 0.0\n",
      "from window m=32: 3.0 from window 2*m: 0.0\n",
      "Final memory size for external pointwise: m = 64 (agreement = 0.88)\n",
      "855410 what is theraderm used for\n",
      "from window m=2: 1.0 from window 2*m: 1.5\n",
      "from window m=4: 1.5 from window 2*m: 2.0\n",
      "from window m=4: 0.5 from window 2*m: 0.0\n",
      "from window m=8: 0.5 from window 2*m: 1.0\n",
      "from window m=8: 0.0 from window 2*m: 0.5\n",
      "Final memory size for external pointwise: m = 64 (agreement = 1.00)\n",
      "915593 what types of food can you cook sous vide\n",
      "from window m=2: 1.5 from window 2*m: 0.5\n",
      "from window m=4: 2.5 from window 2*m: 2.0\n",
      "from window m=4: 0.0 from window 2*m: 0.5\n",
      "from window m=8: 3.0 from window 2*m: 2.5\n",
      "from window m=8: 1.5 from window 2*m: 1.0\n",
      "from window m=8: 2.0 from window 2*m: 1.5\n",
      "from window m=8: 0.0 from window 2*m: 0.5\n",
      "from window m=16: 2.5 from window 2*m: 3.0\n",
      "from window m=16: 1.5 from window 2*m: 2.0\n",
      "from window m=16: 0.0 from window 2*m: 0.5\n",
      "from window m=16: 1.5 from window 2*m: 0.5\n",
      "from window m=16: 1.0 from window 2*m: 0.5\n",
      "from window m=16: 2.0 from window 2*m: 0.5\n",
      "from window m=16: 2.0 from window 2*m: 1.0\n",
      "from window m=32: 0.5 from window 2*m: 0.0\n",
      "from window m=32: 0.5 from window 2*m: 0.0\n",
      "from window m=32: 0.5 from window 2*m: 0.0\n",
      "from window m=32: 0.5 from window 2*m: 0.0\n",
      "from window m=32: 0.5 from window 2*m: 0.0\n",
      "from window m=32: 0.5 from window 2*m: 0.0\n",
      "from window m=32: 0.5 from window 2*m: 0.0\n",
      "from window m=32: 0.5 from window 2*m: 0.0\n",
      "from window m=32: 0.5 from window 2*m: 0.0\n",
      "from window m=32: 0.5 from window 2*m: 0.0\n",
      "from window m=32: 0.5 from window 2*m: 0.0\n",
      "from window m=32: 0.5 from window 2*m: 0.0\n",
      "from window m=32: 0.5 from window 2*m: 0.0\n",
      "from window m=32: 0.5 from window 2*m: 0.0\n",
      "from window m=32: 0.5 from window 2*m: 0.0\n",
      "from window m=32: 0.5 from window 2*m: 1.0\n",
      "from window m=32: 0.5 from window 2*m: 0.0\n",
      "from window m=32: 0.5 from window 2*m: 0.0\n",
      "from window m=32: 2.5 from window 2*m: 1.0\n",
      "from window m=32: 2.5 from window 2*m: 0.0\n",
      "from window m=32: 2.5 from window 2*m: 0.0\n",
      "from window m=32: 2.5 from window 2*m: 0.0\n",
      "from window m=32: 2.5 from window 2*m: 1.0\n",
      "from window m=32: 2.5 from window 2*m: 0.0\n",
      "from window m=32: 2.5 from window 2*m: 0.0\n",
      "from window m=32: 2.5 from window 2*m: 1.0\n",
      "from window m=32: 2.5 from window 2*m: 1.0\n",
      "from window m=32: 2.5 from window 2*m: 1.0\n",
      "from window m=32: 2.5 from window 2*m: 1.0\n",
      "from window m=32: 2.5 from window 2*m: 0.0\n",
      "from window m=32: 2.5 from window 2*m: 0.0\n",
      "from window m=32: 2.5 from window 2*m: 0.0\n",
      "from window m=32: 2.5 from window 2*m: 0.0\n",
      "from window m=32: 2.5 from window 2*m: 0.0\n",
      "from window m=32: 2.5 from window 2*m: 0.0\n",
      "Final memory size for external pointwise: m = 32 (agreement = 0.45)\n",
      "962179 when was the salvation army founded\n",
      "from window m=16: 3.0 from window 2*m: 2.5\n",
      "from window m=32: 2.5 from window 2*m: 3.0\n",
      "from window m=32: 3.0 from window 2*m: 1.0\n",
      "from window m=32: 1.0 from window 2*m: 0.0\n",
      "Final memory size for external pointwise: m = 64 (agreement = 0.95)\n",
      "1037798 who is robert gray\n",
      "from window m=2: 0.5 from window 2*m: 0.0\n",
      "from window m=2: 0.5 from window 2*m: 0.0\n",
      "from window m=2: 3.0 from window 2*m: 0.0\n",
      "Final memory size for external pointwise: m = 2 (agreement = 0.25)\n",
      "1063750 why did the us volunterilay enter ww1\n",
      "from window m=2: 1.0 from window 2*m: 1.5\n",
      "from window m=4: 1.5 from window 2*m: 1.0\n",
      "from window m=8: 1.5 from window 2*m: 1.0\n",
      "from window m=8: 1.0 from window 2*m: 2.0\n",
      "from window m=8: 1.5 from window 2*m: 0.0\n",
      "from window m=16: 1.0 from window 2*m: 0.5\n",
      "from window m=16: 1.0 from window 2*m: 0.5\n",
      "from window m=16: 2.0 from window 2*m: 0.0\n",
      "from window m=16: 0.0 from window 2*m: 0.5\n",
      "from window m=16: 2.5 from window 2*m: 3.0\n",
      "from window m=16: 0.5 from window 2*m: 0.0\n",
      "from window m=32: 0.5 from window 2*m: 1.0\n",
      "from window m=32: 0.5 from window 2*m: 1.0\n",
      "from window m=32: 0.5 from window 2*m: 1.0\n",
      "from window m=32: 0.0 from window 2*m: 1.0\n",
      "from window m=32: 0.5 from window 2*m: 1.0\n",
      "from window m=32: 1.5 from window 2*m: 0.0\n",
      "from window m=32: 2.5 from window 2*m: 0.0\n",
      "Final memory size for external pointwise: m = 64 (agreement = 0.89)\n",
      "1103812 who formed the commonwealth of independent states\n",
      "from window m=2: 3.0 from window 2*m: 2.0\n",
      "from window m=4: 3.0 from window 2*m: 1.5\n",
      "from window m=4: 2.5 from window 2*m: 1.0\n",
      "from window m=4: 1.0 from window 2*m: 0.0\n",
      "from window m=8: 1.5 from window 2*m: 2.5\n",
      "from window m=8: 1.5 from window 2*m: 1.0\n",
      "from window m=8: 3.0 from window 2*m: 2.0\n",
      "from window m=8: 2.0 from window 2*m: 1.5\n",
      "from window m=16: 2.0 from window 2*m: 2.5\n",
      "from window m=16: 1.0 from window 2*m: 1.5\n",
      "from window m=16: 0.0 from window 2*m: 0.5\n",
      "from window m=16: 1.0 from window 2*m: 1.5\n",
      "from window m=16: 1.5 from window 2*m: 2.0\n",
      "from window m=16: 1.0 from window 2*m: 2.0\n",
      "from window m=16: 1.0 from window 2*m: 0.5\n",
      "from window m=32: 2.5 from window 2*m: 1.5\n",
      "from window m=32: 2.5 from window 2*m: 2.0\n",
      "from window m=32: 0.5 from window 2*m: 0.0\n",
      "from window m=32: 2.0 from window 2*m: 1.0\n",
      "from window m=32: 2.0 from window 2*m: 0.0\n",
      "from window m=32: 0.5 from window 2*m: 0.0\n",
      "from window m=32: 1.0 from window 2*m: 0.5\n",
      "from window m=32: 3.0 from window 2*m: 0.0\n",
      "from window m=32: 2.5 from window 2*m: 0.0\n",
      "from window m=32: 2.5 from window 2*m: 0.0\n",
      "from window m=32: 0.5 from window 2*m: 0.0\n",
      "Final memory size for external pointwise: m = 64 (agreement = 0.83)\n",
      "1106007 define visceral?\n",
      "from window m=2: 1.0 from window 2*m: 1.5\n",
      "from window m=2: 2.5 from window 2*m: 1.0\n",
      "from window m=4: 1.5 from window 2*m: 1.0\n",
      "from window m=4: 1.0 from window 2*m: 2.0\n",
      "from window m=4: 1.0 from window 2*m: 1.5\n",
      "from window m=4: 0.5 from window 2*m: 1.5\n",
      "from window m=4: 1.5 from window 2*m: 1.0\n",
      "Final memory size for external pointwise: m = 4 (agreement = 0.38)\n",
      "1110199 what is wifi vs bluetooth\n",
      "from window m=2: 1.5 from window 2*m: 2.0\n",
      "from window m=2: 0.0 from window 2*m: 0.5\n",
      "from window m=2: 1.0 from window 2*m: 0.0\n",
      "Final memory size for external pointwise: m = 2 (agreement = 0.25)\n",
      "1112341 what is the daily life of thai people\n",
      "from window m=2: 0.5 from window 2*m: 0.0\n",
      "from window m=8: 2.5 from window 2*m: 2.0\n",
      "from window m=8: 2.5 from window 2*m: 2.0\n",
      "from window m=16: 2.5 from window 2*m: 3.0\n",
      "from window m=16: 2.5 from window 2*m: 3.0\n",
      "from window m=16: 2.5 from window 2*m: 3.0\n",
      "from window m=16: 1.0 from window 2*m: 1.5\n",
      "from window m=16: 2.0 from window 2*m: 2.5\n",
      "from window m=16: 2.0 from window 2*m: 2.5\n",
      "from window m=16: 0.5 from window 2*m: 0.0\n",
      "from window m=16: 0.0 from window 2*m: 1.5\n",
      "from window m=16: 0.0 from window 2*m: 1.5\n",
      "from window m=16: 0.5 from window 2*m: 0.0\n",
      "from window m=16: 0.0 from window 2*m: 1.5\n",
      "from window m=16: 0.0 from window 2*m: 1.5\n",
      "from window m=32: 3.0 from window 2*m: 2.5\n",
      "from window m=32: 3.0 from window 2*m: 2.5\n",
      "from window m=32: 3.0 from window 2*m: 2.5\n",
      "from window m=32: 1.5 from window 2*m: 1.0\n",
      "from window m=32: 2.5 from window 2*m: 2.0\n",
      "from window m=32: 2.5 from window 2*m: 2.0\n",
      "from window m=32: 1.5 from window 2*m: 1.0\n",
      "from window m=32: 1.5 from window 2*m: 1.0\n",
      "from window m=32: 3.0 from window 2*m: 2.0\n",
      "from window m=32: 0.0 from window 2*m: 1.0\n",
      "from window m=32: 1.5 from window 2*m: 1.0\n",
      "from window m=32: 1.5 from window 2*m: 0.0\n",
      "from window m=32: 0.0 from window 2*m: 1.0\n",
      "from window m=32: 0.0 from window 2*m: 1.0\n",
      "from window m=32: 1.5 from window 2*m: 2.0\n",
      "from window m=32: 0.0 from window 2*m: 1.0\n",
      "from window m=32: 0.0 from window 2*m: 1.0\n",
      "from window m=32: 0.0 from window 2*m: 1.0\n",
      "from window m=32: 0.0 from window 2*m: 1.0\n",
      "from window m=32: 2.0 from window 2*m: 0.0\n",
      "from window m=32: 2.5 from window 2*m: 2.0\n",
      "from window m=32: 2.0 from window 2*m: 1.0\n",
      "from window m=32: 0.0 from window 2*m: 1.0\n",
      "from window m=32: 3.0 from window 2*m: 2.0\n",
      "from window m=32: 0.0 from window 2*m: 1.0\n",
      "from window m=32: 0.0 from window 2*m: 1.0\n",
      "Final memory size for external pointwise: m = 64 (agreement = 0.59)\n",
      "1113437 what is physical description of spruce\n",
      "from window m=2: 2.5 from window 2*m: 1.5\n",
      "from window m=2: 1.5 from window 2*m: 2.0\n",
      "from window m=4: 2.5 from window 2*m: 2.0\n",
      "from window m=8: 3.0 from window 2*m: 2.5\n",
      "from window m=8: 0.5 from window 2*m: 0.0\n",
      "from window m=8: 0.5 from window 2*m: 1.0\n",
      "from window m=16: 1.5 from window 2*m: 2.0\n",
      "from window m=16: 2.5 from window 2*m: 3.0\n",
      "from window m=16: 2.0 from window 2*m: 2.5\n",
      "from window m=16: 2.0 from window 2*m: 2.5\n",
      "from window m=16: 2.5 from window 2*m: 3.0\n",
      "from window m=16: 0.5 from window 2*m: 1.0\n",
      "from window m=16: 0.5 from window 2*m: 1.0\n",
      "from window m=16: 0.5 from window 2*m: 1.0\n",
      "from window m=16: 0.5 from window 2*m: 1.0\n",
      "from window m=16: 0.5 from window 2*m: 1.0\n",
      "from window m=16: 3.0 from window 2*m: 1.0\n",
      "from window m=16: 3.0 from window 2*m: 1.0\n",
      "from window m=32: 2.0 from window 2*m: 1.5\n",
      "from window m=32: 3.0 from window 2*m: 2.5\n",
      "from window m=32: 2.5 from window 2*m: 2.0\n",
      "from window m=32: 3.0 from window 2*m: 2.5\n",
      "from window m=32: 2.5 from window 2*m: 2.0\n",
      "from window m=32: 3.0 from window 2*m: 2.0\n",
      "from window m=32: 1.0 from window 2*m: 0.5\n",
      "from window m=32: 1.0 from window 2*m: 0.5\n",
      "from window m=32: 1.0 from window 2*m: 0.5\n",
      "from window m=32: 1.0 from window 2*m: 0.5\n",
      "from window m=32: 1.0 from window 2*m: 0.5\n",
      "from window m=32: 1.0 from window 2*m: 0.5\n",
      "from window m=32: 1.0 from window 2*m: 0.5\n",
      "from window m=32: 3.0 from window 2*m: 0.5\n",
      "from window m=32: 1.0 from window 2*m: 0.5\n",
      "from window m=32: 0.5 from window 2*m: 0.0\n",
      "from window m=32: 0.0 from window 2*m: 0.5\n",
      "from window m=32: 0.5 from window 2*m: 1.0\n",
      "from window m=32: 2.0 from window 2*m: 0.5\n",
      "Final memory size for external pointwise: m = 64 (agreement = 0.70)\n",
      "1114646 what is famvir prescribed for\n",
      "from window m=2: 1.0 from window 2*m: 1.5\n",
      "from window m=2: 0.5 from window 2*m: 0.0\n",
      "from window m=4: 2.5 from window 2*m: 2.0\n",
      "from window m=4: 1.5 from window 2*m: 1.0\n",
      "from window m=4: 2.5 from window 2*m: 3.0\n",
      "from window m=4: 1.5 from window 2*m: 1.0\n",
      "from window m=8: 3.0 from window 2*m: 2.5\n",
      "from window m=8: 3.0 from window 2*m: 2.5\n",
      "from window m=8: 2.0 from window 2*m: 2.5\n",
      "from window m=8: 0.5 from window 2*m: 1.0\n",
      "from window m=8: 2.0 from window 2*m: 2.5\n",
      "from window m=16: 2.5 from window 2*m: 1.5\n",
      "from window m=16: 1.5 from window 2*m: 0.5\n",
      "from window m=16: 2.5 from window 2*m: 1.5\n",
      "from window m=16: 2.5 from window 2*m: 1.5\n",
      "from window m=16: 2.0 from window 2*m: 1.5\n",
      "from window m=16: 0.5 from window 2*m: 0.0\n",
      "from window m=16: 2.5 from window 2*m: 1.5\n",
      "from window m=32: 1.5 from window 2*m: 2.5\n",
      "from window m=32: 2.0 from window 2*m: 2.5\n",
      "from window m=32: 1.5 from window 2*m: 2.5\n",
      "from window m=32: 0.5 from window 2*m: 1.0\n",
      "from window m=32: 1.5 from window 2*m: 2.5\n",
      "from window m=32: 1.5 from window 2*m: 2.5\n",
      "from window m=32: 2.0 from window 2*m: 2.5\n",
      "from window m=32: 1.5 from window 2*m: 2.5\n",
      "from window m=32: 0.0 from window 2*m: 0.5\n",
      "from window m=32: 1.5 from window 2*m: 2.5\n",
      "from window m=32: 2.0 from window 2*m: 2.5\n",
      "from window m=32: 0.5 from window 2*m: 1.0\n",
      "from window m=32: 0.5 from window 2*m: 2.5\n",
      "from window m=32: 3.0 from window 2*m: 2.5\n",
      "from window m=32: 3.0 from window 2*m: 2.5\n",
      "from window m=32: 3.0 from window 2*m: 2.5\n",
      "from window m=32: 0.5 from window 2*m: 1.0\n",
      "from window m=32: 0.5 from window 2*m: 1.0\n",
      "from window m=32: 3.0 from window 2*m: 2.5\n",
      "Final memory size for external pointwise: m = 64 (agreement = 0.70)\n",
      "1114819 what is durable medical equipment consist of\n",
      "from window m=4: 2.5 from window 2*m: 1.0\n",
      "from window m=4: 1.0 from window 2*m: 2.0\n",
      "from window m=8: 1.0 from window 2*m: 0.5\n",
      "from window m=8: 2.0 from window 2*m: 1.0\n",
      "from window m=8: 1.0 from window 2*m: 0.0\n",
      "from window m=8: 0.5 from window 2*m: 0.0\n",
      "from window m=8: 0.5 from window 2*m: 0.0\n",
      "from window m=8: 0.5 from window 2*m: 0.0\n",
      "from window m=16: 1.0 from window 2*m: 2.5\n",
      "from window m=16: 0.0 from window 2*m: 0.5\n",
      "from window m=16: 1.5 from window 2*m: 0.5\n",
      "from window m=16: 3.0 from window 2*m: 2.5\n",
      "from window m=16: 1.5 from window 2*m: 0.5\n",
      "from window m=16: 0.0 from window 2*m: 0.5\n",
      "from window m=16: 0.0 from window 2*m: 0.5\n",
      "from window m=16: 1.0 from window 2*m: 0.5\n",
      "from window m=16: 3.0 from window 2*m: 0.5\n",
      "from window m=16: 3.0 from window 2*m: 0.5\n",
      "from window m=16: 1.0 from window 2*m: 0.0\n",
      "from window m=16: 3.0 from window 2*m: 0.5\n",
      "from window m=16: 1.0 from window 2*m: 0.0\n",
      "from window m=16: 2.0 from window 2*m: 0.0\n",
      "from window m=16: 1.0 from window 2*m: 0.0\n",
      "from window m=16: 2.0 from window 2*m: 0.5\n",
      "from window m=32: 2.5 from window 2*m: 1.5\n",
      "from window m=32: 0.5 from window 2*m: 0.0\n",
      "from window m=32: 1.0 from window 2*m: 0.5\n",
      "from window m=32: 3.0 from window 2*m: 2.5\n",
      "from window m=32: 1.5 from window 2*m: 2.5\n",
      "from window m=32: 1.5 from window 2*m: 2.5\n",
      "from window m=32: 1.5 from window 2*m: 2.5\n",
      "from window m=32: 3.0 from window 2*m: 0.0\n",
      "from window m=32: 3.0 from window 2*m: 2.5\n",
      "from window m=32: 0.5 from window 2*m: 0.0\n",
      "from window m=32: 1.0 from window 2*m: 0.5\n",
      "from window m=32: 0.5 from window 2*m: 0.0\n",
      "from window m=32: 1.5 from window 2*m: 2.5\n",
      "from window m=32: 1.5 from window 2*m: 2.5\n",
      "from window m=32: 3.0 from window 2*m: 2.5\n",
      "from window m=32: 3.0 from window 2*m: 2.5\n",
      "from window m=32: 3.0 from window 2*m: 2.5\n",
      "Final memory size for external pointwise: m = 64 (agreement = 0.73)\n",
      "1115776 what is an aml surveillance analyst\n",
      "from window m=2: 0.0 from window 2*m: 0.5\n",
      "from window m=4: 1.0 from window 2*m: 0.5\n",
      "from window m=4: 0.5 from window 2*m: 0.0\n",
      "from window m=4: 1.0 from window 2*m: 0.5\n",
      "from window m=4: 3.0 from window 2*m: 2.0\n"
     ]
    },
    {
     "name": "stdout",
     "output_type": "stream",
     "text": [
      "from window m=8: 0.0 from window 2*m: 0.5\n",
      "from window m=8: 2.0 from window 2*m: 2.5\n",
      "from window m=8: 1.0 from window 2*m: 0.5\n",
      "from window m=8: 0.0 from window 2*m: 0.5\n",
      "from window m=8: 0.0 from window 2*m: 0.5\n",
      "from window m=8: 1.0 from window 2*m: 1.5\n",
      "from window m=8: 1.0 from window 2*m: 0.5\n",
      "from window m=8: 3.0 from window 2*m: 2.5\n"
     ]
    },
    {
     "name": "stderr",
     "output_type": "stream",
     "text": [
      "100%|██████████████████████████████████████████| 43/43 [00:00<00:00, 181.39it/s]"
     ]
    },
    {
     "name": "stdout",
     "output_type": "stream",
     "text": [
      "from window m=16: 1.5 from window 2*m: 2.5\n",
      "from window m=16: 1.0 from window 2*m: 0.5\n",
      "from window m=16: 0.0 from window 2*m: 0.5\n",
      "from window m=16: 0.0 from window 2*m: 0.5\n",
      "from window m=16: 1.0 from window 2*m: 0.5\n",
      "from window m=16: 1.0 from window 2*m: 0.5\n",
      "from window m=16: 2.0 from window 2*m: 0.5\n",
      "from window m=32: 0.5 from window 2*m: 0.0\n",
      "from window m=32: 0.5 from window 2*m: 0.0\n",
      "from window m=32: 0.5 from window 2*m: 0.0\n",
      "from window m=32: 2.5 from window 2*m: 1.5\n",
      "from window m=32: 0.5 from window 2*m: 0.0\n",
      "from window m=32: 0.5 from window 2*m: 0.0\n",
      "from window m=32: 0.5 from window 2*m: 0.0\n",
      "from window m=32: 0.5 from window 2*m: 0.0\n",
      "from window m=32: 1.5 from window 2*m: 0.0\n",
      "from window m=32: 3.0 from window 2*m: 0.0\n",
      "from window m=32: 3.0 from window 2*m: 1.5\n",
      "from window m=32: 0.5 from window 2*m: 0.0\n",
      "from window m=32: 3.0 from window 2*m: 1.5\n",
      "from window m=32: 0.5 from window 2*m: 0.0\n",
      "from window m=32: 0.5 from window 2*m: 0.0\n",
      "from window m=32: 0.5 from window 2*m: 0.0\n",
      "from window m=32: 0.5 from window 2*m: 0.0\n",
      "from window m=32: 0.5 from window 2*m: 0.0\n",
      "Final memory size for external pointwise: m = 64 (agreement = 0.72)\n",
      "1117099 what is a active margin\n",
      "from window m=2: 3.0 from window 2*m: 2.0\n",
      "from window m=4: 2.0 from window 2*m: 2.5\n",
      "from window m=4: 3.0 from window 2*m: 2.5\n",
      "from window m=4: 3.0 from window 2*m: 2.5\n",
      "from window m=8: 2.5 from window 2*m: 2.0\n",
      "from window m=8: 2.5 from window 2*m: 3.0\n",
      "from window m=8: 2.5 from window 2*m: 3.0\n",
      "from window m=8: 2.5 from window 2*m: 3.0\n",
      "from window m=16: 2.0 from window 2*m: 2.5\n",
      "from window m=16: 2.5 from window 2*m: 3.0\n",
      "from window m=16: 2.5 from window 2*m: 3.0\n",
      "from window m=16: 1.0 from window 2*m: 1.5\n",
      "from window m=16: 2.5 from window 2*m: 3.0\n",
      "from window m=16: 2.5 from window 2*m: 3.0\n",
      "from window m=16: 0.0 from window 2*m: 1.0\n",
      "from window m=16: 0.0 from window 2*m: 1.0\n",
      "from window m=16: 2.0 from window 2*m: 3.0\n",
      "from window m=32: 2.5 from window 2*m: 2.0\n",
      "from window m=32: 1.5 from window 2*m: 1.0\n",
      "from window m=32: 1.0 from window 2*m: 0.0\n",
      "from window m=32: 1.0 from window 2*m: 0.0\n",
      "from window m=32: 2.0 from window 2*m: 0.0\n",
      "from window m=32: 1.5 from window 2*m: 3.0\n",
      "from window m=32: 1.0 from window 2*m: 0.0\n",
      "from window m=32: 2.5 from window 2*m: 3.0\n",
      "from window m=32: 0.5 from window 2*m: 0.0\n",
      "from window m=32: 2.5 from window 2*m: 0.0\n",
      "from window m=32: 0.0 from window 2*m: 3.0\n",
      "from window m=32: 3.0 from window 2*m: 0.0\n",
      "from window m=32: 1.0 from window 2*m: 3.0\n",
      "from window m=32: 0.0 from window 2*m: 3.0\n",
      "from window m=32: 2.5 from window 2*m: 0.0\n",
      "Final memory size for external pointwise: m = 64 (agreement = 0.77)\n",
      "1121402 what can contour plowing reduce\n",
      "from window m=2: 0.5 from window 2*m: 0.0\n",
      "from window m=4: 0.5 from window 2*m: 0.0\n",
      "from window m=4: 2.0 from window 2*m: 3.0\n",
      "from window m=8: 0.5 from window 2*m: 0.0\n",
      "from window m=8: 0.5 from window 2*m: 0.0\n",
      "from window m=8: 0.5 from window 2*m: 0.0\n",
      "from window m=8: 0.5 from window 2*m: 0.0\n",
      "from window m=8: 0.5 from window 2*m: 0.0\n",
      "from window m=16: 3.0 from window 2*m: 1.5\n",
      "from window m=16: 0.0 from window 2*m: 1.0\n",
      "from window m=16: 0.0 from window 2*m: 1.0\n",
      "from window m=16: 2.5 from window 2*m: 3.0\n",
      "from window m=16: 3.0 from window 2*m: 2.5\n",
      "from window m=16: 1.5 from window 2*m: 0.0\n",
      "from window m=16: 1.5 from window 2*m: 0.0\n",
      "from window m=16: 1.5 from window 2*m: 1.0\n",
      "from window m=16: 1.5 from window 2*m: 0.0\n",
      "from window m=16: 1.5 from window 2*m: 1.0\n",
      "from window m=32: 1.5 from window 2*m: 3.0\n",
      "from window m=32: 2.5 from window 2*m: 3.0\n",
      "from window m=32: 2.5 from window 2*m: 1.0\n",
      "from window m=32: 2.5 from window 2*m: 1.0\n",
      "from window m=32: 0.0 from window 2*m: 3.0\n",
      "from window m=32: 0.0 from window 2*m: 1.0\n",
      "from window m=32: 2.5 from window 2*m: 3.0\n",
      "from window m=32: 2.0 from window 2*m: 1.0\n",
      "from window m=32: 2.5 from window 2*m: 3.0\n",
      "from window m=32: 1.0 from window 2*m: 0.0\n",
      "Final memory size for external pointwise: m = 64 (agreement = 0.84)\n",
      "1121709 what are the three percenters?\n",
      "from window m=2: 2.5 from window 2*m: 3.0\n",
      "from window m=32: 3.0 from window 2*m: 0.0\n",
      "from window m=32: 0.0 from window 2*m: 3.0\n",
      "Final memory size for external pointwise: m = 64 (agreement = 0.97)\n",
      "1124210 tracheids are part of _____.\n",
      "from window m=2: 2.5 from window 2*m: 2.0\n",
      "from window m=2: 2.5 from window 2*m: 2.0\n",
      "from window m=4: 0.5 from window 2*m: 1.0\n",
      "from window m=8: 2.0 from window 2*m: 2.5\n",
      "from window m=8: 1.0 from window 2*m: 2.0\n",
      "from window m=8: 1.0 from window 2*m: 2.0\n",
      "from window m=8: 2.5 from window 2*m: 3.0\n",
      "from window m=8: 1.5 from window 2*m: 2.0\n",
      "from window m=16: 2.0 from window 2*m: 1.5\n",
      "from window m=16: 2.0 from window 2*m: 1.5\n",
      "from window m=16: 2.0 from window 2*m: 3.0\n",
      "from window m=16: 2.5 from window 2*m: 3.0\n",
      "from window m=16: 0.5 from window 2*m: 0.0\n",
      "from window m=16: 0.5 from window 2*m: 0.0\n",
      "from window m=16: 2.0 from window 2*m: 3.0\n",
      "from window m=32: 3.0 from window 2*m: 2.5\n",
      "from window m=32: 1.5 from window 2*m: 2.0\n",
      "from window m=32: 1.5 from window 2*m: 2.0\n",
      "from window m=32: 3.0 from window 2*m: 2.0\n",
      "from window m=32: 0.0 from window 2*m: 2.0\n",
      "from window m=32: 0.0 from window 2*m: 2.0\n",
      "from window m=32: 3.0 from window 2*m: 2.0\n",
      "from window m=32: 1.5 from window 2*m: 3.0\n",
      "from window m=32: 3.0 from window 2*m: 2.0\n",
      "from window m=32: 0.5 from window 2*m: 3.0\n",
      "from window m=32: 1.5 from window 2*m: 3.0\n",
      "from window m=32: 0.5 from window 2*m: 3.0\n",
      "from window m=32: 1.0 from window 2*m: 3.0\n",
      "from window m=32: 1.5 from window 2*m: 3.0\n",
      "from window m=32: 1.0 from window 2*m: 3.0\n",
      "from window m=32: 1.5 from window 2*m: 3.0\n",
      "from window m=32: 2.5 from window 2*m: 3.0\n",
      "from window m=32: 1.5 from window 2*m: 3.0\n",
      "from window m=32: 0.0 from window 2*m: 3.0\n",
      "Final memory size for external pointwise: m = 64 (agreement = 0.70)\n",
      "1129237 hydrogen is a liquid below what temperature\n",
      "from window m=2: 2.0 from window 2*m: 2.5\n",
      "from window m=4: 3.0 from window 2*m: 2.5\n",
      "from window m=4: 2.5 from window 2*m: 2.0\n",
      "from window m=8: 2.0 from window 2*m: 2.5\n",
      "from window m=8: 1.0 from window 2*m: 0.0\n",
      "from window m=8: 1.0 from window 2*m: 0.0\n",
      "from window m=8: 1.0 from window 2*m: 0.0\n",
      "from window m=16: 2.5 from window 2*m: 3.0\n",
      "from window m=16: 0.5 from window 2*m: 0.0\n",
      "from window m=16: 1.0 from window 2*m: 2.5\n",
      "from window m=16: 1.5 from window 2*m: 0.0\n",
      "from window m=16: 1.0 from window 2*m: 0.0\n",
      "from window m=16: 0.5 from window 2*m: 0.0\n",
      "from window m=32: 2.5 from window 2*m: 1.0\n",
      "from window m=32: 0.5 from window 2*m: 0.0\n",
      "from window m=32: 1.5 from window 2*m: 0.0\n",
      "from window m=32: 2.5 from window 2*m: 1.0\n",
      "from window m=32: 0.5 from window 2*m: 0.0\n",
      "from window m=32: 0.5 from window 2*m: 0.0\n",
      "Final memory size for external pointwise: m = 64 (agreement = 0.91)\n",
      "1133167 how is the weather in jamaica\n",
      "from window m=2: 2.5 from window 2*m: 2.0\n",
      "from window m=2: 2.0 from window 2*m: 2.5\n",
      "from window m=2: 2.5 from window 2*m: 2.8\n",
      "Final memory size for external pointwise: m = 2 (agreement = 0.25)\n",
      "gpt-4o, extrernal pointwise Mean nDCG@10: 0.6710161961426223\n",
      "tokens: 734876\n"
     ]
    },
    {
     "name": "stderr",
     "output_type": "stream",
     "text": [
      "\n"
     ]
    }
   ],
   "source": [
    "results = {}\n",
    "\n",
    "for modelname in [\"gpt-4o-mini\", \"gpt-4o\"]:\n",
    "    results[modelname] = {}\n",
    "    run = {}\n",
    "    total_tokens = 0\n",
    "    for qid, query, ranking in tqdm(first_stage_rankings):\n",
    "        passage_list = []\n",
    "        for r in ranking:\n",
    "            passage_list.append( (r.docid, r.text) ) \n",
    "            \n",
    "        # print(ranking) # docid, score, text\n",
    "        pointwise_prompt_template = passage_pointwise_prompt_template.format_map(SafeDict(question=query))\n",
    "\n",
    "        sorted_data, scores, num_api_calls, tokens, confidences =\\\n",
    "            await pointwise_sort(passage_list, client, pointwise_prompt_template,\n",
    "                                 modelname, float, PointwiseRelevanceKey)\n",
    "        run[str(qid)] = {str(doc_id): float(score) for doc_id, score in zip(sorted_data, scores)}\n",
    "        total_tokens += tokens\n",
    "    metrics = evaluator.evaluate(run)\n",
    "    mean_pointwise = sum(m['ndcg_cut_10'] for m in metrics.values()) / len(metrics)\n",
    "    print(f\"{modelname}, pointwise Mean nDCG@10:\", mean_pointwise)\n",
    "    print(f\"tokens: {total_tokens}\")\n",
    "    \n",
    "    run = {}\n",
    "    total_tokens = 0\n",
    "    for qid, query, ranking in tqdm(first_stage_rankings):\n",
    "        print(qid, query)\n",
    "        passage_list = []\n",
    "        for r in ranking:\n",
    "            passage_list.append( (r.docid, r.text) )\n",
    "        external_pointwise_prompt_template = passage_external_pointwise_prompt_template.format_map(SafeDict(question=query))\n",
    "        sorted_data, scores, num_api_calls, tokens, confidences, _ =\\\n",
    "            await external_pointwise_sort(passage_list, external_values, client, external_pointwise_prompt_template,\\\n",
    "                                          modelname, float, 0.1, isPassage=True)\n",
    "        run[str(qid)] = {str(doc_id): float(score) for doc_id, score in zip(sorted_data, scores)}\n",
    "        total_tokens += tokens\n",
    "    metrics = evaluator.evaluate(run)\n",
    "    mean_external_pointwise = sum(m['ndcg_cut_10'] for m in metrics.values()) / len(metrics)\n",
    "    print(f\"{modelname}, extrernal pointwise Mean nDCG@10:\", mean_external_pointwise)\n",
    "    print(f\"tokens: {total_tokens}\")"
   ]
  },
  {
   "cell_type": "code",
   "execution_count": null,
   "metadata": {},
   "outputs": [],
   "source": []
  },
  {
   "cell_type": "code",
   "execution_count": null,
   "metadata": {},
   "outputs": [],
   "source": []
  },
  {
   "cell_type": "markdown",
   "metadata": {},
   "source": [
    "# Pairwise experiments"
   ]
  },
  {
   "cell_type": "code",
   "execution_count": 13,
   "metadata": {},
   "outputs": [
    {
     "name": "stdout",
     "output_type": "stream",
     "text": [
      "start\n"
     ]
    }
   ],
   "source": [
    "print('start')"
   ]
  },
  {
   "cell_type": "code",
   "execution_count": 14,
   "metadata": {
    "scrolled": true
   },
   "outputs": [
    {
     "name": "stderr",
     "output_type": "stream",
     "text": [
      "  2%|█                                           | 1/43 [00:00<00:05,  7.09it/s]"
     ]
    },
    {
     "name": "stdout",
     "output_type": "stream",
     "text": [
      "19335\n",
      "47923\n",
      "87181\n"
     ]
    },
    {
     "name": "stderr",
     "output_type": "stream",
     "text": [
      " 12%|█████                                       | 5/43 [00:00<00:02, 13.43it/s]"
     ]
    },
    {
     "name": "stdout",
     "output_type": "stream",
     "text": [
      "87452\n",
      "104861\n",
      "130510\n"
     ]
    },
    {
     "name": "stderr",
     "output_type": "stream",
     "text": [
      "\r",
      " 16%|███████▏                                    | 7/43 [00:00<00:02, 12.47it/s]"
     ]
    },
    {
     "name": "stdout",
     "output_type": "stream",
     "text": [
      "131843\n",
      "146187\n",
      "148538\n"
     ]
    },
    {
     "name": "stderr",
     "output_type": "stream",
     "text": [
      "\r",
      " 21%|█████████▏                                  | 9/43 [00:00<00:02, 12.71it/s]"
     ]
    },
    {
     "name": "stdout",
     "output_type": "stream",
     "text": [
      "156493\n"
     ]
    },
    {
     "name": "stderr",
     "output_type": "stream",
     "text": [
      " 30%|█████████████                              | 13/43 [00:02<00:05,  5.14it/s]"
     ]
    },
    {
     "name": "stdout",
     "output_type": "stream",
     "text": [
      "168216\n",
      "182539\n",
      "183378\n",
      "207786\n"
     ]
    },
    {
     "name": "stderr",
     "output_type": "stream",
     "text": [
      " 40%|█████████████████                          | 17/43 [00:02<00:03,  8.39it/s]"
     ]
    },
    {
     "name": "stdout",
     "output_type": "stream",
     "text": [
      "264014\n",
      "359349\n",
      "405717\n",
      "443396\n"
     ]
    },
    {
     "name": "stderr",
     "output_type": "stream",
     "text": [
      " 49%|█████████████████████                      | 21/43 [00:02<00:01, 11.80it/s]"
     ]
    },
    {
     "name": "stdout",
     "output_type": "stream",
     "text": [
      "451602\n",
      "489204\n",
      "490595\n",
      "527433\n"
     ]
    },
    {
     "name": "stderr",
     "output_type": "stream",
     "text": [
      " 58%|█████████████████████████                  | 25/43 [00:02<00:01, 13.67it/s]"
     ]
    },
    {
     "name": "stdout",
     "output_type": "stream",
     "text": [
      "573724\n",
      "833860\n",
      "855410\n",
      "915593\n"
     ]
    },
    {
     "name": "stderr",
     "output_type": "stream",
     "text": [
      " 67%|█████████████████████████████              | 29/43 [00:02<00:00, 15.66it/s]"
     ]
    },
    {
     "name": "stdout",
     "output_type": "stream",
     "text": [
      "962179\n",
      "1037798\n",
      "1063750\n",
      "1103812\n"
     ]
    },
    {
     "name": "stderr",
     "output_type": "stream",
     "text": [
      " 77%|█████████████████████████████████          | 33/43 [00:03<00:00, 17.10it/s]"
     ]
    },
    {
     "name": "stdout",
     "output_type": "stream",
     "text": [
      "1106007\n",
      "1110199\n",
      "1112341\n",
      "1113437\n",
      "1114646\n"
     ]
    },
    {
     "name": "stderr",
     "output_type": "stream",
     "text": [
      " 88%|██████████████████████████████████████     | 38/43 [00:03<00:00, 18.43it/s]"
     ]
    },
    {
     "name": "stdout",
     "output_type": "stream",
     "text": [
      "1114819\n",
      "1115776\n",
      "1117099\n",
      "1121402\n"
     ]
    },
    {
     "name": "stderr",
     "output_type": "stream",
     "text": [
      " 98%|██████████████████████████████████████████ | 42/43 [00:03<00:00, 18.52it/s]"
     ]
    },
    {
     "name": "stdout",
     "output_type": "stream",
     "text": [
      "1121709\n",
      "1124210\n",
      "1129237\n",
      "1133167\n"
     ]
    },
    {
     "name": "stderr",
     "output_type": "stream",
     "text": [
      "100%|███████████████████████████████████████████| 43/43 [00:03<00:00, 11.54it/s]\n"
     ]
    },
    {
     "name": "stdout",
     "output_type": "stream",
     "text": [
      "gpt-4o-mini, quick_sort Mean nDCG@10: 0.7094846436237204\n",
      "tokens: 15159756\n"
     ]
    },
    {
     "name": "stderr",
     "output_type": "stream",
     "text": [
      "\r",
      "  0%|                                                    | 0/43 [00:00<?, ?it/s]"
     ]
    },
    {
     "name": "stdout",
     "output_type": "stream",
     "text": [
      "19335\n"
     ]
    },
    {
     "name": "stderr",
     "output_type": "stream",
     "text": [
      "\r",
      "  2%|▉                                        | 1/43 [02:40<1:52:10, 160.25s/it]"
     ]
    },
    {
     "name": "stdout",
     "output_type": "stream",
     "text": [
      "47923\n"
     ]
    },
    {
     "name": "stderr",
     "output_type": "stream",
     "text": [
      "\r",
      "  5%|█▉                                       | 2/43 [04:54<1:39:13, 145.20s/it]"
     ]
    },
    {
     "name": "stdout",
     "output_type": "stream",
     "text": [
      "87181\n"
     ]
    },
    {
     "name": "stderr",
     "output_type": "stream",
     "text": [
      "\r",
      "  7%|██▊                                      | 3/43 [06:18<1:18:00, 117.01s/it]"
     ]
    },
    {
     "name": "stdout",
     "output_type": "stream",
     "text": [
      "87452\n"
     ]
    },
    {
     "name": "stderr",
     "output_type": "stream",
     "text": [
      "\r",
      "  9%|███▊                                     | 4/43 [08:27<1:19:14, 121.91s/it]"
     ]
    },
    {
     "name": "stdout",
     "output_type": "stream",
     "text": [
      "104861\n"
     ]
    },
    {
     "name": "stderr",
     "output_type": "stream",
     "text": [
      "\r",
      " 12%|█████                                       | 5/43 [09:12<59:41, 94.24s/it]"
     ]
    },
    {
     "name": "stdout",
     "output_type": "stream",
     "text": [
      "130510\n"
     ]
    },
    {
     "name": "stderr",
     "output_type": "stream",
     "text": [
      "\r",
      " 14%|█████▋                                   | 6/43 [14:24<1:43:36, 168.03s/it]"
     ]
    },
    {
     "name": "stdout",
     "output_type": "stream",
     "text": [
      "131843\n"
     ]
    },
    {
     "name": "stderr",
     "output_type": "stream",
     "text": [
      "\r",
      " 16%|██████▋                                  | 7/43 [18:27<1:55:29, 192.48s/it]"
     ]
    },
    {
     "name": "stdout",
     "output_type": "stream",
     "text": [
      "146187\n"
     ]
    },
    {
     "name": "stderr",
     "output_type": "stream",
     "text": [
      "\r",
      " 19%|███████▋                                 | 8/43 [22:22<2:00:15, 206.15s/it]"
     ]
    },
    {
     "name": "stdout",
     "output_type": "stream",
     "text": [
      "148538\n"
     ]
    },
    {
     "name": "stderr",
     "output_type": "stream",
     "text": [
      "\r",
      " 21%|████████▌                                | 9/43 [23:37<1:33:40, 165.31s/it]"
     ]
    },
    {
     "name": "stdout",
     "output_type": "stream",
     "text": [
      "156493\n"
     ]
    },
    {
     "name": "stderr",
     "output_type": "stream",
     "text": [
      "\r",
      " 23%|█████████▎                              | 10/43 [25:02<1:17:13, 140.41s/it]"
     ]
    },
    {
     "name": "stdout",
     "output_type": "stream",
     "text": [
      "168216\n"
     ]
    },
    {
     "name": "stderr",
     "output_type": "stream",
     "text": [
      "\r",
      " 26%|██████████▋                               | 11/43 [25:39<57:58, 108.69s/it]"
     ]
    },
    {
     "name": "stdout",
     "output_type": "stream",
     "text": [
      "182539\n"
     ]
    },
    {
     "name": "stderr",
     "output_type": "stream",
     "text": [
      "\r",
      " 28%|███████████▏                            | 12/43 [29:47<1:18:02, 151.04s/it]"
     ]
    },
    {
     "name": "stdout",
     "output_type": "stream",
     "text": [
      "183378\n"
     ]
    },
    {
     "name": "stderr",
     "output_type": "stream",
     "text": [
      "\r",
      " 30%|████████████                            | 13/43 [31:19<1:06:34, 133.15s/it]"
     ]
    },
    {
     "name": "stdout",
     "output_type": "stream",
     "text": [
      "207786\n",
      "[ERROR] Attempt 1: 1 validation error for PassageComparisonReasoning\n",
      "  Invalid JSON: EOF while parsing a string at line 1 column 55 [type=json_invalid, input_value='{\"steps\":[{\"explanation\"...e A discusses metabolic', input_type=str]\n",
      "    For further information visit https://errors.pydantic.dev/2.6/v/json_invalid\n"
     ]
    },
    {
     "name": "stderr",
     "output_type": "stream",
     "text": [
      "\r",
      " 33%|█████████████                           | 14/43 [33:48<1:06:42, 138.02s/it]"
     ]
    },
    {
     "name": "stdout",
     "output_type": "stream",
     "text": [
      "264014\n"
     ]
    },
    {
     "name": "stderr",
     "output_type": "stream",
     "text": [
      "\r",
      " 35%|██████████████▋                           | 15/43 [34:34<51:28, 110.31s/it]"
     ]
    },
    {
     "name": "stdout",
     "output_type": "stream",
     "text": [
      "359349\n"
     ]
    },
    {
     "name": "stderr",
     "output_type": "stream",
     "text": [
      "\r",
      " 37%|███████████████▋                          | 16/43 [37:03<54:54, 122.01s/it]"
     ]
    },
    {
     "name": "stdout",
     "output_type": "stream",
     "text": [
      "405717\n"
     ]
    },
    {
     "name": "stderr",
     "output_type": "stream",
     "text": [
      "\r",
      " 40%|████████████████▌                         | 17/43 [37:59<44:12, 102.03s/it]"
     ]
    },
    {
     "name": "stdout",
     "output_type": "stream",
     "text": [
      "443396\n"
     ]
    },
    {
     "name": "stderr",
     "output_type": "stream",
     "text": [
      "\r",
      " 42%|████████████████▋                       | 18/43 [42:55<1:06:51, 160.48s/it]"
     ]
    },
    {
     "name": "stdout",
     "output_type": "stream",
     "text": [
      "451602\n"
     ]
    },
    {
     "name": "stderr",
     "output_type": "stream",
     "text": [
      "\r",
      " 44%|██████████████████▌                       | 19/43 [44:40<57:25, 143.57s/it]"
     ]
    },
    {
     "name": "stdout",
     "output_type": "stream",
     "text": [
      "489204\n"
     ]
    },
    {
     "name": "stderr",
     "output_type": "stream",
     "text": [
      "\r",
      " 47%|███████████████████▌                      | 20/43 [47:31<58:16, 152.03s/it]"
     ]
    },
    {
     "name": "stdout",
     "output_type": "stream",
     "text": [
      "490595\n"
     ]
    },
    {
     "name": "stderr",
     "output_type": "stream",
     "text": [
      "\r",
      " 49%|███████████████████▌                    | 21/43 [51:32<1:05:32, 178.74s/it]"
     ]
    },
    {
     "name": "stdout",
     "output_type": "stream",
     "text": [
      "527433\n"
     ]
    },
    {
     "name": "stderr",
     "output_type": "stream",
     "text": [
      "\r",
      " 51%|████████████████████▍                   | 22/43 [56:41<1:16:12, 217.73s/it]"
     ]
    },
    {
     "name": "stdout",
     "output_type": "stream",
     "text": [
      "573724\n"
     ]
    },
    {
     "name": "stderr",
     "output_type": "stream",
     "text": [
      "\r",
      " 53%|████████████████████▎                 | 23/43 [1:01:16<1:18:17, 234.90s/it]"
     ]
    },
    {
     "name": "stdout",
     "output_type": "stream",
     "text": [
      "833860\n"
     ]
    },
    {
     "name": "stderr",
     "output_type": "stream",
     "text": [
      "\r",
      " 56%|█████████████████████▏                | 24/43 [1:06:11<1:20:03, 252.82s/it]"
     ]
    },
    {
     "name": "stdout",
     "output_type": "stream",
     "text": [
      "855410\n"
     ]
    },
    {
     "name": "stderr",
     "output_type": "stream",
     "text": [
      "\r",
      " 58%|██████████████████████                | 25/43 [1:14:05<1:35:46, 319.26s/it]"
     ]
    },
    {
     "name": "stdout",
     "output_type": "stream",
     "text": [
      "915593\n"
     ]
    },
    {
     "name": "stderr",
     "output_type": "stream",
     "text": [
      "\r",
      " 60%|██████████████████████▉               | 26/43 [1:16:29<1:15:32, 266.62s/it]"
     ]
    },
    {
     "name": "stdout",
     "output_type": "stream",
     "text": [
      "962179\n"
     ]
    },
    {
     "name": "stderr",
     "output_type": "stream",
     "text": [
      "\r",
      " 63%|███████████████████████▊              | 27/43 [1:20:04<1:07:01, 251.33s/it]"
     ]
    },
    {
     "name": "stdout",
     "output_type": "stream",
     "text": [
      "1037798\n"
     ]
    },
    {
     "name": "stderr",
     "output_type": "stream",
     "text": [
      "\r",
      " 65%|████████████████████████▋             | 28/43 [1:27:19<1:16:34, 306.31s/it]"
     ]
    },
    {
     "name": "stdout",
     "output_type": "stream",
     "text": [
      "1063750\n"
     ]
    },
    {
     "name": "stderr",
     "output_type": "stream",
     "text": [
      "\r",
      " 67%|█████████████████████████▋            | 29/43 [1:31:00<1:05:30, 280.75s/it]"
     ]
    },
    {
     "name": "stdout",
     "output_type": "stream",
     "text": [
      "1103812\n"
     ]
    },
    {
     "name": "stderr",
     "output_type": "stream",
     "text": [
      "\r",
      " 70%|██████████████████████████▌           | 30/43 [1:41:49<1:24:47, 391.32s/it]"
     ]
    },
    {
     "name": "stdout",
     "output_type": "stream",
     "text": [
      "1106007\n"
     ]
    },
    {
     "name": "stderr",
     "output_type": "stream",
     "text": [
      "\r",
      " 72%|███████████████████████████▍          | 31/43 [1:45:50<1:09:13, 346.11s/it]"
     ]
    },
    {
     "name": "stdout",
     "output_type": "stream",
     "text": [
      "1110199\n"
     ]
    },
    {
     "name": "stderr",
     "output_type": "stream",
     "text": [
      "\r",
      " 74%|████████████████████████████▎         | 32/43 [1:55:58<1:17:52, 424.79s/it]"
     ]
    },
    {
     "name": "stdout",
     "output_type": "stream",
     "text": [
      "1112341\n"
     ]
    },
    {
     "name": "stderr",
     "output_type": "stream",
     "text": [
      "\r",
      " 77%|█████████████████████████████▏        | 33/43 [2:06:49<1:22:06, 492.64s/it]"
     ]
    },
    {
     "name": "stdout",
     "output_type": "stream",
     "text": [
      "1113437\n",
      "[ERROR] Attempt 1: 1 validation error for PassageComparisonReasoning\n",
      "  Invalid JSON: EOF while parsing a string at line 1 column 12 [type=json_invalid, input_value='{\"steps\":[{\"', input_type=str]\n",
      "    For further information visit https://errors.pydantic.dev/2.6/v/json_invalid\n"
     ]
    },
    {
     "name": "stderr",
     "output_type": "stream",
     "text": [
      "\r",
      " 79%|██████████████████████████████        | 34/43 [2:11:59<1:05:38, 437.63s/it]"
     ]
    },
    {
     "name": "stdout",
     "output_type": "stream",
     "text": [
      "1114646\n"
     ]
    },
    {
     "name": "stderr",
     "output_type": "stream",
     "text": [
      "\r",
      " 81%|████████████████████████████████▌       | 35/43 [2:15:56<50:21, 377.70s/it]"
     ]
    },
    {
     "name": "stdout",
     "output_type": "stream",
     "text": [
      "1114819\n"
     ]
    },
    {
     "name": "stderr",
     "output_type": "stream",
     "text": [
      "\r",
      " 84%|█████████████████████████████████▍      | 36/43 [2:25:26<50:46, 435.17s/it]"
     ]
    },
    {
     "name": "stdout",
     "output_type": "stream",
     "text": [
      "1115776\n",
      "[ERROR] Attempt 1: 1 validation error for PassageComparisonReasoning\n",
      "  Invalid JSON: EOF while parsing a string at line 1 column 419 [type=json_invalid, input_value='{\"steps\":[{\"explanation\"...er context, but it does', input_type=str]\n",
      "    For further information visit https://errors.pydantic.dev/2.6/v/json_invalid\n",
      "[ERROR] Attempt 1: 1 validation error for PassageComparisonReasoning\n",
      "  Invalid JSON: EOF while parsing an object at line 1 column 983 [type=json_invalid, input_value='{\"steps\":[{\"explanation\"... relate to AML at all.\"', input_type=str]\n",
      "    For further information visit https://errors.pydantic.dev/2.6/v/json_invalid\n"
     ]
    },
    {
     "name": "stderr",
     "output_type": "stream",
     "text": [
      "\r",
      " 86%|██████████████████████████████████▍     | 37/43 [2:38:39<54:15, 542.63s/it]"
     ]
    },
    {
     "name": "stdout",
     "output_type": "stream",
     "text": [
      "1117099\n"
     ]
    },
    {
     "name": "stderr",
     "output_type": "stream",
     "text": [
      "\r",
      " 88%|███████████████████████████████████▎    | 38/43 [2:47:55<45:32, 546.50s/it]"
     ]
    },
    {
     "name": "stdout",
     "output_type": "stream",
     "text": [
      "1121402\n"
     ]
    },
    {
     "name": "stderr",
     "output_type": "stream",
     "text": [
      "\r",
      " 91%|████████████████████████████████████▎   | 39/43 [2:56:53<36:15, 543.93s/it]"
     ]
    },
    {
     "name": "stdout",
     "output_type": "stream",
     "text": [
      "1121709\n",
      "[ERROR] Attempt 1: 1 validation error for PassageComparisonReasoning\n",
      "  Invalid JSON: EOF while parsing a string at line 1 column 98 [type=json_invalid, input_value='{\"steps\":[{\"explanation\"... of small-cap and large', input_type=str]\n",
      "    For further information visit https://errors.pydantic.dev/2.6/v/json_invalid\n",
      "[ERROR] Attempt 1: 1 validation error for PassageComparisonReasoning\n",
      "  Invalid JSON: EOF while parsing a string at line 1 column 461 [type=json_invalid, input_value='{\"steps\":[{\"explanation\"...I will select Passage A', input_type=str]\n",
      "    For further information visit https://errors.pydantic.dev/2.6/v/json_invalid\n"
     ]
    },
    {
     "name": "stderr",
     "output_type": "stream",
     "text": [
      "\r",
      " 93%|█████████████████████████████████████▏  | 40/43 [3:06:37<27:48, 556.02s/it]"
     ]
    },
    {
     "name": "stdout",
     "output_type": "stream",
     "text": [
      "1124210\n"
     ]
    },
    {
     "name": "stderr",
     "output_type": "stream",
     "text": [
      "\r",
      " 95%|██████████████████████████████████████▏ | 41/43 [3:11:13<15:44, 472.19s/it]"
     ]
    },
    {
     "name": "stdout",
     "output_type": "stream",
     "text": [
      "1129237\n"
     ]
    },
    {
     "name": "stderr",
     "output_type": "stream",
     "text": [
      "\r",
      " 98%|███████████████████████████████████████ | 42/43 [3:18:21<07:38, 458.88s/it]"
     ]
    },
    {
     "name": "stdout",
     "output_type": "stream",
     "text": [
      "1133167\n"
     ]
    },
    {
     "name": "stderr",
     "output_type": "stream",
     "text": [
      "100%|████████████████████████████████████████| 43/43 [3:21:06<00:00, 280.62s/it]\n"
     ]
    },
    {
     "name": "stdout",
     "output_type": "stream",
     "text": [
      "gpt-4o-mini, quick_sort with vote=3 Mean nDCG@10: 0.6936372313078706\n",
      "tokens: 33539392\n"
     ]
    },
    {
     "name": "stderr",
     "output_type": "stream",
     "text": [
      "  5%|██                                          | 2/43 [00:00<00:03, 10.70it/s]"
     ]
    },
    {
     "name": "stdout",
     "output_type": "stream",
     "text": [
      "19335\n",
      "47923\n",
      "87181\n"
     ]
    },
    {
     "name": "stderr",
     "output_type": "stream",
     "text": [
      "\r",
      "  9%|████                                        | 4/43 [00:00<00:03, 11.80it/s]"
     ]
    },
    {
     "name": "stdout",
     "output_type": "stream",
     "text": [
      "87452\n",
      "104861\n",
      "130510\n"
     ]
    },
    {
     "name": "stderr",
     "output_type": "stream",
     "text": [
      " 19%|████████▏                                   | 8/43 [00:00<00:03, 11.55it/s]"
     ]
    },
    {
     "name": "stdout",
     "output_type": "stream",
     "text": [
      "131843\n",
      "146187\n",
      "148538\n"
     ]
    },
    {
     "name": "stderr",
     "output_type": "stream",
     "text": [
      " 28%|████████████                               | 12/43 [00:00<00:02, 13.50it/s]"
     ]
    },
    {
     "name": "stdout",
     "output_type": "stream",
     "text": [
      "156493\n",
      "168216\n",
      "182539\n",
      "183378\n",
      "207786\n"
     ]
    },
    {
     "name": "stderr",
     "output_type": "stream",
     "text": [
      " 33%|█████████████                           | 14/43 [14:04<1:06:41, 137.97s/it]"
     ]
    },
    {
     "name": "stdout",
     "output_type": "stream",
     "text": [
      "264014\n"
     ]
    },
    {
     "name": "stderr",
     "output_type": "stream",
     "text": [
      "\r",
      " 35%|█████████████▉                          | 15/43 [39:02<3:04:30, 395.38s/it]"
     ]
    },
    {
     "name": "stdout",
     "output_type": "stream",
     "text": [
      "359349\n"
     ]
    },
    {
     "name": "stderr",
     "output_type": "stream",
     "text": [
      "\r",
      " 37%|██████████████▏                       | 16/43 [1:22:32<6:30:07, 866.93s/it]"
     ]
    },
    {
     "name": "stdout",
     "output_type": "stream",
     "text": [
      "405717\n"
     ]
    },
    {
     "name": "stderr",
     "output_type": "stream",
     "text": [
      "\r",
      " 40%|██████████████▋                      | 17/43 [1:49:30<7:31:29, 1041.91s/it]"
     ]
    },
    {
     "name": "stdout",
     "output_type": "stream",
     "text": [
      "443396\n"
     ]
    },
    {
     "name": "stderr",
     "output_type": "stream",
     "text": [
      "\r",
      " 42%|███████████████▍                     | 18/43 [2:21:30<8:45:36, 1261.46s/it]"
     ]
    },
    {
     "name": "stdout",
     "output_type": "stream",
     "text": [
      "451602\n"
     ]
    },
    {
     "name": "stderr",
     "output_type": "stream",
     "text": [
      "\r",
      " 44%|████████████████▎                    | 19/43 [2:38:34<7:59:37, 1199.05s/it]"
     ]
    },
    {
     "name": "stdout",
     "output_type": "stream",
     "text": [
      "489204\n"
     ]
    },
    {
     "name": "stderr",
     "output_type": "stream",
     "text": [
      "\r",
      " 47%|█████████████████▏                   | 20/43 [3:12:20<9:06:09, 1424.76s/it]"
     ]
    },
    {
     "name": "stdout",
     "output_type": "stream",
     "text": [
      "490595\n"
     ]
    },
    {
     "name": "stderr",
     "output_type": "stream",
     "text": [
      "\r",
      " 49%|█████████████████▌                  | 21/43 [3:57:53<10:57:07, 1792.14s/it]"
     ]
    },
    {
     "name": "stdout",
     "output_type": "stream",
     "text": [
      "527433\n"
     ]
    },
    {
     "name": "stderr",
     "output_type": "stream",
     "text": [
      "\r",
      " 51%|██████████████████▍                 | 22/43 [4:39:07<11:35:32, 1987.25s/it]"
     ]
    },
    {
     "name": "stdout",
     "output_type": "stream",
     "text": [
      "573724\n"
     ]
    },
    {
     "name": "stderr",
     "output_type": "stream",
     "text": [
      "\r",
      " 53%|███████████████████▎                | 23/43 [5:02:14<10:04:19, 1812.98s/it]"
     ]
    },
    {
     "name": "stdout",
     "output_type": "stream",
     "text": [
      "833860\n"
     ]
    },
    {
     "name": "stderr",
     "output_type": "stream",
     "text": [
      "\r",
      " 56%|████████████████████▋                | 24/43 [5:35:34<9:51:25, 1867.66s/it]"
     ]
    },
    {
     "name": "stdout",
     "output_type": "stream",
     "text": [
      "855410\n",
      "<class 'order_by.pair_comparison.PassageComparisonReasoning'>\n",
      "output:steps=[Step(explanation=\"The question asks about the use of 'theraderm.' Passage A discusses the meaning of 'HBY' in slang, which is unrelated to the question. Passage B talks about leveraging personal strengths, which is also unrelated to the question about 'theraderm.' Neither passage answers the question directly.\"), Step(explanation=\"Since neither passage addresses the question about 'theraderm,' neither is better in terms of providing an answer.\")] BetterPassageKey='' is not contained in [key1, key2]; try again\n",
      "\n",
      "[ERROR] Attempt 1: 1 validation error for PassageComparisonReasoning\n",
      "  Invalid JSON: EOF while parsing a string at line 1 column 301 [type=json_invalid, input_value='{\"steps\":[{\"explanation\"...m.\\'\"},{\"explanation\":\"', input_type=str]\n",
      "    For further information visit https://errors.pydantic.dev/2.6/v/json_invalid\n",
      "[ERROR] Attempt 1: 1 validation error for PassageComparisonReasoning\n",
      "  Invalid JSON: EOF while parsing a string at line 1 column 57 [type=json_invalid, input_value='{\"steps\":[{\"explanation\"...tion asks about the use', input_type=str]\n",
      "    For further information visit https://errors.pydantic.dev/2.6/v/json_invalid\n",
      "<class 'order_by.pair_comparison.PassageComparisonReasoning'>\n",
      "output:steps=[Step(explanation=\"The question asks about the use of 'theraderm.' We need to determine which passage provides information related to this topic.\"), Step(explanation=\"Passage A discusses materials used to make various devices like telephones, iTouch, and digital cameras. It does not mention 'theraderm' or its uses.\"), Step(explanation=\"Passage B discusses reviews and benefits of using Tepilo.com, an online real estate platform. It also does not mention 'theraderm' or its uses.\"), Step(explanation=\"Neither passage A nor passage B provides any information about 'theraderm' or its uses.\"), Step(explanation='Since neither passage answers the question, we cannot determine a better passage based on the given options.')] BetterPassageKey='' is not contained in [key1, key2]; try again\n",
      "\n",
      "[ERROR] Attempt 1: 1 validation error for PassageComparisonReasoning\n",
      "  Invalid JSON: EOF while parsing a string at line 1 column 261 [type=json_invalid, input_value='{\"steps\":[{\"explanation\"...ention \\'theraderm\\' or', input_type=str]\n",
      "    For further information visit https://errors.pydantic.dev/2.6/v/json_invalid\n",
      "[ERROR] Attempt 1: 1 validation error for PassageComparisonReasoning\n",
      "  Invalid JSON: EOF while parsing a string at line 1 column 14 [type=json_invalid, input_value='{\"steps\":[{\"ex', input_type=str]\n",
      "    For further information visit https://errors.pydantic.dev/2.6/v/json_invalid\n"
     ]
    },
    {
     "name": "stderr",
     "output_type": "stream",
     "text": [
      "\r",
      " 58%|████████████████████▉               | 25/43 [7:20:18<15:51:21, 3171.20s/it]"
     ]
    },
    {
     "name": "stdout",
     "output_type": "stream",
     "text": [
      "915593\n",
      "[ERROR] Attempt 1: 1 validation error for PassageComparisonReasoning\n",
      "  Invalid JSON: EOF while parsing a string at line 1 column 550 [type=json_invalid, input_value='{\"steps\":[{\"explanation\"...:\"Analyze Passage B: It', input_type=str]\n",
      "    For further information visit https://errors.pydantic.dev/2.6/v/json_invalid\n"
     ]
    },
    {
     "name": "stderr",
     "output_type": "stream",
     "text": [
      "\r",
      " 60%|█████████████████████▊              | 26/43 [7:39:20<12:08:00, 2569.43s/it]"
     ]
    },
    {
     "name": "stdout",
     "output_type": "stream",
     "text": [
      "962179\n",
      "[ERROR] Attempt 1: 1 validation error for PassageComparisonReasoning\n",
      "  Invalid JSON: EOF while parsing a string at line 1 column 61 [type=json_invalid, input_value='{\"steps\":[{\"explanation\"... question: The question', input_type=str]\n",
      "    For further information visit https://errors.pydantic.dev/2.6/v/json_invalid\n",
      "[ERROR] Attempt 1: 1 validation error for PassageComparisonReasoning\n",
      "  Invalid JSON: EOF while parsing a value at line 1 column 0 [type=json_invalid, input_value='', input_type=str]\n",
      "    For further information visit https://errors.pydantic.dev/2.6/v/json_invalid\n",
      "<class 'order_by.pair_comparison.PassageComparisonReasoning'>\n",
      "output:steps=[Step(explanation='Identify the information needed to answer the question. The question asks for the founding date of the Salvation Army.'), Step(explanation='Evaluate Passage A. It provides information about finding Salvation Army locations and customer ratings, but does not mention the founding date.'), Step(explanation='Evaluate Passage B. It lists various locations of the Salvation Army but does not provide any information about the founding date.'), Step(explanation='Neither passage provides the founding date of the Salvation Army. Both passages focus on locations rather than historical information.'), Step(explanation='Since neither passage answers the question, neither is better in terms of providing the requested information.')] BetterPassageKey='' is not contained in [key1, key2]; try again\n",
      "\n",
      "[ERROR] Attempt 1: 1 validation error for PassageComparisonReasoning\n",
      "  Invalid JSON: EOF while parsing a string at line 1 column 2 [type=json_invalid, input_value='{\"', input_type=str]\n",
      "    For further information visit https://errors.pydantic.dev/2.6/v/json_invalid\n"
     ]
    },
    {
     "name": "stderr",
     "output_type": "stream",
     "text": [
      "\r",
      " 63%|██████████████████████▌             | 27/43 [9:04:18<14:45:47, 3321.71s/it]"
     ]
    },
    {
     "name": "stdout",
     "output_type": "stream",
     "text": [
      "1037798\n",
      "<class 'order_by.pair_comparison.PassageComparisonReasoning'>\n",
      "output:steps=[Step(explanation='The question asks about Robert Gray, but Passage A discusses Robert Kraft, a businessman, and Passage B discusses Henry Gray, a musician. Neither passage directly answers the question about Robert Gray.'), Step(explanation='Since neither passage provides information about Robert Gray, neither passage is better in answering the question.')] BetterPassageKey='' is not contained in [key1, key2]; try again\n",
      "\n",
      "<class 'order_by.pair_comparison.PassageComparisonReasoning'>\n",
      "output:steps=[Step(explanation=\"The question asks for information about 'Robert Gray.' Passage A discusses Emma Roberts and her family connections, while Passage B discusses Robert Downey Jr. Neither passage mentions Robert Gray.\"), Step(explanation='Since neither passage provides information about Robert Gray, neither passage answers the question.')] BetterPassageKey='' is not contained in [key1, key2]; try again\n",
      "\n"
     ]
    },
    {
     "name": "stderr",
     "output_type": "stream",
     "text": [
      "\r",
      " 65%|███████████████████████▍            | 28/43 [9:38:04<12:13:48, 2935.25s/it]"
     ]
    },
    {
     "name": "stdout",
     "output_type": "stream",
     "text": [
      "1063750\n"
     ]
    },
    {
     "name": "stderr",
     "output_type": "stream",
     "text": [
      "\r",
      " 67%|████████████████████████▎           | 29/43 [10:05:44<9:56:01, 2554.39s/it]"
     ]
    },
    {
     "name": "stdout",
     "output_type": "stream",
     "text": [
      "1103812\n"
     ]
    },
    {
     "name": "stderr",
     "output_type": "stream",
     "text": [
      "\r",
      " 70%|█████████████████████████           | 30/43 [10:40:41<8:43:45, 2417.32s/it]"
     ]
    },
    {
     "name": "stdout",
     "output_type": "stream",
     "text": [
      "1106007\n"
     ]
    },
    {
     "name": "stderr",
     "output_type": "stream",
     "text": [
      "\r",
      " 72%|█████████████████████████▉          | 31/43 [11:16:16<7:46:34, 2332.89s/it]"
     ]
    },
    {
     "name": "stdout",
     "output_type": "stream",
     "text": [
      "1110199\n"
     ]
    },
    {
     "name": "stderr",
     "output_type": "stream",
     "text": [
      "\r",
      " 74%|██████████████████████████▊         | 32/43 [11:51:23<6:55:16, 2265.18s/it]"
     ]
    },
    {
     "name": "stdout",
     "output_type": "stream",
     "text": [
      "1112341\n"
     ]
    },
    {
     "name": "stderr",
     "output_type": "stream",
     "text": [
      "\r",
      " 77%|███████████████████████████▋        | 33/43 [12:22:15<5:56:54, 2141.48s/it]"
     ]
    },
    {
     "name": "stdout",
     "output_type": "stream",
     "text": [
      "1113437\n",
      "[ERROR] Attempt 1: 1 validation error for PassageComparisonReasoning\n",
      "  Invalid JSON: EOF while parsing a string at line 1 column 115 [type=json_invalid, input_value='{\"steps\":[{\"explanation\"...physical description of', input_type=str]\n",
      "    For further information visit https://errors.pydantic.dev/2.6/v/json_invalid\n"
     ]
    },
    {
     "name": "stderr",
     "output_type": "stream",
     "text": [
      "\r",
      " 79%|████████████████████████████▍       | 34/43 [12:52:24<5:06:14, 2041.60s/it]"
     ]
    },
    {
     "name": "stdout",
     "output_type": "stream",
     "text": [
      "1114646\n"
     ]
    },
    {
     "name": "stderr",
     "output_type": "stream",
     "text": [
      "\r",
      " 81%|█████████████████████████████▎      | 35/43 [13:25:09<4:29:09, 2018.73s/it]"
     ]
    },
    {
     "name": "stdout",
     "output_type": "stream",
     "text": [
      "1114819\n"
     ]
    },
    {
     "name": "stderr",
     "output_type": "stream",
     "text": [
      "\r",
      " 84%|██████████████████████████████▏     | 36/43 [14:17:18<4:34:22, 2351.82s/it]"
     ]
    },
    {
     "name": "stdout",
     "output_type": "stream",
     "text": [
      "1115776\n"
     ]
    },
    {
     "name": "stderr",
     "output_type": "stream",
     "text": [
      "\r",
      " 86%|██████████████████████████████▉     | 37/43 [15:09:21<4:18:18, 2583.13s/it]"
     ]
    },
    {
     "name": "stdout",
     "output_type": "stream",
     "text": [
      "1117099\n"
     ]
    },
    {
     "name": "stderr",
     "output_type": "stream",
     "text": [
      "\r",
      " 88%|███████████████████████████████▊    | 38/43 [17:00:04<5:16:44, 3800.86s/it]"
     ]
    },
    {
     "name": "stdout",
     "output_type": "stream",
     "text": [
      "1121402\n",
      "[ERROR] Attempt 1: 1 validation error for PassageComparisonReasoning\n",
      "  Invalid JSON: EOF while parsing a string at line 1 column 420 [type=json_invalid, input_value='{\"steps\":[{\"explanation\"...ly addresses contour pl', input_type=str]\n",
      "    For further information visit https://errors.pydantic.dev/2.6/v/json_invalid\n"
     ]
    },
    {
     "name": "stderr",
     "output_type": "stream",
     "text": [
      "\r",
      " 91%|████████████████████████████████▋   | 39/43 [18:06:39<4:17:16, 3859.01s/it]"
     ]
    },
    {
     "name": "stdout",
     "output_type": "stream",
     "text": [
      "1121709\n"
     ]
    },
    {
     "name": "stderr",
     "output_type": "stream",
     "text": [
      "\r",
      " 93%|█████████████████████████████████▍  | 40/43 [19:21:13<3:22:10, 4043.61s/it]"
     ]
    },
    {
     "name": "stdout",
     "output_type": "stream",
     "text": [
      "1124210\n"
     ]
    },
    {
     "name": "stderr",
     "output_type": "stream",
     "text": [
      "\r",
      " 95%|██████████████████████████████████▎ | 41/43 [20:09:04<2:03:03, 3691.73s/it]"
     ]
    },
    {
     "name": "stdout",
     "output_type": "stream",
     "text": [
      "1129237\n",
      "[ERROR] Attempt 1: Request timed out.\n",
      "[ERROR] Attempt 2: Request timed out.\n"
     ]
    },
    {
     "name": "stderr",
     "output_type": "stream",
     "text": [
      "\r",
      " 98%|███████████████████████████████████▏| 42/43 [21:25:18<1:05:56, 3956.44s/it]"
     ]
    },
    {
     "name": "stdout",
     "output_type": "stream",
     "text": [
      "1133167\n"
     ]
    },
    {
     "name": "stderr",
     "output_type": "stream",
     "text": [
      "100%|██████████████████████████████████████| 43/43 [22:51:14<00:00, 1913.37s/it]\n"
     ]
    },
    {
     "name": "stdout",
     "output_type": "stream",
     "text": [
      "gpt-4o, quick_sort Mean nDCG@10: 0.7351607877533932\n",
      "tokens: 18832854\n"
     ]
    },
    {
     "name": "stderr",
     "output_type": "stream",
     "text": [
      "\r",
      "  0%|                                                    | 0/43 [00:00<?, ?it/s]"
     ]
    },
    {
     "name": "stdout",
     "output_type": "stream",
     "text": [
      "19335\n"
     ]
    },
    {
     "name": "stderr",
     "output_type": "stream",
     "text": [
      "\r",
      "  2%|▊                                    | 1/43 [1:11:24<49:59:18, 4284.72s/it]"
     ]
    },
    {
     "name": "stdout",
     "output_type": "stream",
     "text": [
      "47923\n"
     ]
    },
    {
     "name": "stderr",
     "output_type": "stream",
     "text": [
      "\r",
      "  5%|█▋                                   | 2/43 [2:09:25<43:24:48, 3811.92s/it]"
     ]
    },
    {
     "name": "stdout",
     "output_type": "stream",
     "text": [
      "87181\n"
     ]
    },
    {
     "name": "stderr",
     "output_type": "stream",
     "text": [
      "\r",
      "  7%|██▌                                  | 3/43 [2:41:38<32:49:19, 2953.98s/it]"
     ]
    },
    {
     "name": "stdout",
     "output_type": "stream",
     "text": [
      "87452\n",
      "<class 'order_by.pair_comparison.PassageComparisonReasoning'>\n",
      "output:steps=[Step(explanation='The question asks about the causes of military suicide. Both passages focus on youth suicide statistics and trends, not military suicide.'), Step(explanation='Neither passage addresses the causes of military suicide, as they both discuss general youth suicide statistics.'), Step(explanation='Since neither passage answers the question about military suicide causes, neither is better in this context.')] BetterPassageKey='' is not contained in [key1, key2]; try again\n",
      "\n"
     ]
    },
    {
     "name": "stderr",
     "output_type": "stream",
     "text": [
      "\r",
      "  9%|███▍                                 | 4/43 [3:19:17<29:01:46, 2679.66s/it]"
     ]
    },
    {
     "name": "stdout",
     "output_type": "stream",
     "text": [
      "104861\n"
     ]
    },
    {
     "name": "stderr",
     "output_type": "stream",
     "text": [
      "\r",
      " 12%|████▎                                | 5/43 [3:49:42<25:01:53, 2371.41s/it]"
     ]
    },
    {
     "name": "stdout",
     "output_type": "stream",
     "text": [
      "130510\n"
     ]
    },
    {
     "name": "stderr",
     "output_type": "stream",
     "text": [
      "\r",
      " 14%|█████▏                               | 6/43 [4:44:46<27:37:47, 2688.31s/it]"
     ]
    },
    {
     "name": "stdout",
     "output_type": "stream",
     "text": [
      "131843\n",
      "[ERROR] Attempt 1: Request timed out.\n"
     ]
    },
    {
     "name": "stderr",
     "output_type": "stream",
     "text": [
      "\r",
      " 16%|██████                               | 7/43 [6:13:33<35:30:42, 3551.18s/it]"
     ]
    },
    {
     "name": "stdout",
     "output_type": "stream",
     "text": [
      "146187\n"
     ]
    },
    {
     "name": "stderr",
     "output_type": "stream",
     "text": [
      "\r",
      " 19%|██████▉                              | 8/43 [7:10:29<34:06:24, 3508.13s/it]"
     ]
    },
    {
     "name": "stdout",
     "output_type": "stream",
     "text": [
      "148538\n"
     ]
    },
    {
     "name": "stderr",
     "output_type": "stream",
     "text": [
      "\r",
      " 21%|███████▋                             | 9/43 [7:41:21<28:14:34, 2990.43s/it]"
     ]
    },
    {
     "name": "stdout",
     "output_type": "stream",
     "text": [
      "156493\n"
     ]
    },
    {
     "name": "stderr",
     "output_type": "stream",
     "text": [
      "\r",
      " 23%|████████▎                           | 10/43 [8:23:18<26:04:21, 2844.30s/it]"
     ]
    },
    {
     "name": "stdout",
     "output_type": "stream",
     "text": [
      "168216\n"
     ]
    },
    {
     "name": "stderr",
     "output_type": "stream",
     "text": [
      "\r",
      " 26%|█████████▏                          | 11/43 [8:57:34<23:08:12, 2602.89s/it]"
     ]
    },
    {
     "name": "stdout",
     "output_type": "stream",
     "text": [
      "182539\n"
     ]
    },
    {
     "name": "stderr",
     "output_type": "stream",
     "text": [
      "\r",
      " 28%|██████████                          | 12/43 [9:26:57<20:12:45, 2347.27s/it]"
     ]
    },
    {
     "name": "stdout",
     "output_type": "stream",
     "text": [
      "183378\n"
     ]
    },
    {
     "name": "stderr",
     "output_type": "stream",
     "text": [
      "\r",
      " 30%|██████████▉                         | 13/43 [9:52:07<17:26:52, 2093.75s/it]"
     ]
    },
    {
     "name": "stdout",
     "output_type": "stream",
     "text": [
      "207786\n",
      "[ERROR] Attempt 1: 1 validation error for PassageComparisonReasoning\n",
      "  Invalid JSON: EOF while parsing a string at line 1 column 299 [type=json_invalid, input_value='{\"steps\":[{\"explanation\"...viding details on their', input_type=str]\n",
      "    For further information visit https://errors.pydantic.dev/2.6/v/json_invalid\n"
     ]
    },
    {
     "name": "stderr",
     "output_type": "stream",
     "text": [
      "\r",
      " 33%|███████████▍                       | 14/43 [11:21:58<24:53:16, 3089.55s/it]"
     ]
    },
    {
     "name": "stdout",
     "output_type": "stream",
     "text": [
      "264014\n",
      "[ERROR] Attempt 1: 1 validation error for PassageComparisonReasoning\n",
      "  Invalid JSON: EOF while parsing a string at line 1 column 399 [type=json_invalid, input_value='{\"steps\":[{\"explanation\"...on\":\"Passage B provides', input_type=str]\n",
      "    For further information visit https://errors.pydantic.dev/2.6/v/json_invalid\n"
     ]
    },
    {
     "name": "stderr",
     "output_type": "stream",
     "text": [
      "\r",
      " 35%|████████████▏                      | 15/43 [11:59:50<22:06:53, 2843.34s/it]"
     ]
    },
    {
     "name": "stdout",
     "output_type": "stream",
     "text": [
      "359349\n"
     ]
    },
    {
     "name": "stderr",
     "output_type": "stream",
     "text": [
      "\r",
      " 37%|█████████████                      | 16/43 [13:02:30<23:23:35, 3119.08s/it]"
     ]
    },
    {
     "name": "stdout",
     "output_type": "stream",
     "text": [
      "405717\n"
     ]
    },
    {
     "name": "stderr",
     "output_type": "stream",
     "text": [
      "\r",
      " 40%|█████████████▊                     | 17/43 [13:40:50<20:44:57, 2872.96s/it]"
     ]
    },
    {
     "name": "stdout",
     "output_type": "stream",
     "text": [
      "443396\n"
     ]
    },
    {
     "name": "stderr",
     "output_type": "stream",
     "text": [
      "\r",
      " 42%|██████████████▋                    | 18/43 [14:36:21<20:54:25, 3010.62s/it]"
     ]
    },
    {
     "name": "stdout",
     "output_type": "stream",
     "text": [
      "451602\n"
     ]
    },
    {
     "name": "stderr",
     "output_type": "stream",
     "text": [
      "\r",
      " 44%|███████████████▍                   | 19/43 [15:04:23<17:24:32, 2611.35s/it]"
     ]
    },
    {
     "name": "stdout",
     "output_type": "stream",
     "text": [
      "489204\n"
     ]
    },
    {
     "name": "stderr",
     "output_type": "stream",
     "text": [
      "\r",
      " 47%|████████████████▎                  | 20/43 [15:44:45<16:19:17, 2554.68s/it]"
     ]
    },
    {
     "name": "stdout",
     "output_type": "stream",
     "text": [
      "490595\n"
     ]
    },
    {
     "name": "stderr",
     "output_type": "stream",
     "text": [
      "\r",
      " 49%|█████████████████                  | 21/43 [16:34:49<16:26:08, 2689.50s/it]"
     ]
    },
    {
     "name": "stdout",
     "output_type": "stream",
     "text": [
      "527433\n"
     ]
    },
    {
     "name": "stderr",
     "output_type": "stream",
     "text": [
      "\r",
      " 51%|█████████████████▉                 | 22/43 [17:23:53<16:08:02, 2765.84s/it]"
     ]
    },
    {
     "name": "stdout",
     "output_type": "stream",
     "text": [
      "573724\n"
     ]
    },
    {
     "name": "stderr",
     "output_type": "stream",
     "text": [
      "\r",
      " 53%|██████████████████▋                | 23/43 [17:59:50<14:21:05, 2583.28s/it]"
     ]
    },
    {
     "name": "stdout",
     "output_type": "stream",
     "text": [
      "833860\n",
      "[ERROR] Attempt 1: Request timed out.\n",
      "<class 'order_by.pair_comparison.PassageComparisonReasoning'>\n",
      "output:steps=[Step(explanation='The question asks about the most popular food in Switzerland. Both passages provided focus on Belgium and its popular foods, not Switzerland.'), Step(explanation='Neither passage A nor passage B provides any information about Switzerland or its popular foods.'), Step(explanation='Since neither passage answers the question about Switzerland, neither can be considered better in this context.')] BetterPassageKey='' is not contained in [key1, key2]; try again\n",
      "\n",
      "[ERROR] Attempt 1: 1 validation error for PassageComparisonReasoning\n",
      "  Invalid JSON: EOF while parsing a string at line 1 column 90 [type=json_invalid, input_value='{\"steps\":[{\"explanation\"...od in Switzerland.\"},{\"', input_type=str]\n",
      "    For further information visit https://errors.pydantic.dev/2.6/v/json_invalid\n",
      "[ERROR] Attempt 1: Request timed out.\n"
     ]
    },
    {
     "name": "stderr",
     "output_type": "stream",
     "text": [
      "\r",
      " 56%|███████████████████▌               | 24/43 [19:16:29<16:49:32, 3188.05s/it]"
     ]
    },
    {
     "name": "stdout",
     "output_type": "stream",
     "text": [
      "855410\n",
      "[ERROR] Attempt 1: Request timed out.\n"
     ]
    },
    {
     "name": "stderr",
     "output_type": "stream",
     "text": [
      "\r",
      " 58%|████████████████████▎              | 25/43 [20:31:43<17:55:44, 3585.83s/it]"
     ]
    },
    {
     "name": "stdout",
     "output_type": "stream",
     "text": [
      "915593\n"
     ]
    },
    {
     "name": "stderr",
     "output_type": "stream",
     "text": [
      "\r",
      " 60%|█████████████████████▏             | 26/43 [21:13:03<15:22:00, 3254.12s/it]"
     ]
    },
    {
     "name": "stdout",
     "output_type": "stream",
     "text": [
      "962179\n"
     ]
    },
    {
     "name": "stderr",
     "output_type": "stream",
     "text": [
      "\r",
      " 63%|█████████████████████▎            | 27/43 [29:15:20<48:42:28, 10959.30s/it]"
     ]
    },
    {
     "name": "stdout",
     "output_type": "stream",
     "text": [
      "1037798\n"
     ]
    },
    {
     "name": "stderr",
     "output_type": "stream",
     "text": [
      "\r",
      " 65%|██████████████████████▊            | 28/43 [30:07:46<35:53:51, 8615.46s/it]"
     ]
    },
    {
     "name": "stdout",
     "output_type": "stream",
     "text": [
      "1063750\n"
     ]
    },
    {
     "name": "stderr",
     "output_type": "stream",
     "text": [
      "\r",
      " 67%|███████████████████████▌           | 29/43 [30:40:15<25:43:36, 6615.45s/it]"
     ]
    },
    {
     "name": "stdout",
     "output_type": "stream",
     "text": [
      "1103812\n"
     ]
    },
    {
     "name": "stderr",
     "output_type": "stream",
     "text": [
      "\r",
      " 70%|████████████████████████▍          | 30/43 [31:17:43<19:09:25, 5305.02s/it]"
     ]
    },
    {
     "name": "stdout",
     "output_type": "stream",
     "text": [
      "1106007\n"
     ]
    },
    {
     "name": "stderr",
     "output_type": "stream",
     "text": [
      "\r",
      " 72%|█████████████████████████▏         | 31/43 [32:01:14<14:59:21, 4496.82s/it]"
     ]
    },
    {
     "name": "stdout",
     "output_type": "stream",
     "text": [
      "1110199\n"
     ]
    },
    {
     "name": "stderr",
     "output_type": "stream",
     "text": [
      "\r",
      " 74%|██████████████████████████         | 32/43 [32:45:05<12:01:49, 3937.19s/it]"
     ]
    },
    {
     "name": "stdout",
     "output_type": "stream",
     "text": [
      "1112341\n",
      "<class 'order_by.pair_comparison.PassageComparisonReasoning'>\n",
      "output:steps=[Step(explanation='The question asks about the daily life of Thai people. We need to determine which passage provides relevant information about this topic.'), Step(explanation='Passage A discusses acts of courage and provides examples of being courageous in daily life. However, it does not specifically address the daily life of Thai people.'), Step(explanation='Passage B talks about occupational therapy and how it helps people perform daily tasks. It does not mention Thai people or their daily life specifically.'), Step(explanation='Neither passage directly answers the question about the daily life of Thai people. However, both passages are unrelated to the specific cultural or daily life context of Thai people.'), Step(explanation='Since neither passage answers the question, we cannot select a better passage based on the given options.')] BetterPassageKey='' is not contained in [key1, key2]; try again\n",
      "\n"
     ]
    },
    {
     "name": "stderr",
     "output_type": "stream",
     "text": [
      "\r",
      " 77%|███████████████████████████▋        | 33/43 [33:11:18<8:57:57, 3227.70s/it]"
     ]
    },
    {
     "name": "stdout",
     "output_type": "stream",
     "text": [
      "1113437\n"
     ]
    },
    {
     "name": "stderr",
     "output_type": "stream",
     "text": [
      "\r",
      " 79%|████████████████████████████▍       | 34/43 [33:34:09<6:40:38, 2670.96s/it]"
     ]
    },
    {
     "name": "stdout",
     "output_type": "stream",
     "text": [
      "1114646\n"
     ]
    },
    {
     "name": "stderr",
     "output_type": "stream",
     "text": [
      "\r",
      " 81%|█████████████████████████████▎      | 35/43 [34:21:45<6:03:30, 2726.30s/it]"
     ]
    },
    {
     "name": "stdout",
     "output_type": "stream",
     "text": [
      "1114819\n"
     ]
    },
    {
     "name": "stderr",
     "output_type": "stream",
     "text": [
      "\r",
      " 84%|██████████████████████████████▏     | 36/43 [35:17:03<5:38:47, 2903.86s/it]"
     ]
    },
    {
     "name": "stdout",
     "output_type": "stream",
     "text": [
      "1115776\n",
      "<class 'order_by.pair_comparison.PassageComparisonReasoning'>\n",
      "output:steps=[Step(explanation=\"The question asks about an 'AML surveillance analyst,' which is likely related to financial or regulatory roles, not medical information about leukemia.\"), Step(explanation='Both passages focus on types of leukemia, specifically Acute Myelogenous Leukemia (AML), and do not address the role of an AML surveillance analyst.'), Step(explanation='Since neither passage provides information relevant to the question about an AML surveillance analyst, neither passage is better in answering the question.')] BetterPassageKey='' is not contained in [key1, key2]; try again\n",
      "\n"
     ]
    },
    {
     "name": "stderr",
     "output_type": "stream",
     "text": [
      "\r",
      " 86%|██████████████████████████████▉     | 37/43 [36:26:32<5:28:19, 3283.25s/it]"
     ]
    },
    {
     "name": "stdout",
     "output_type": "stream",
     "text": [
      "1117099\n"
     ]
    },
    {
     "name": "stderr",
     "output_type": "stream",
     "text": [
      "\r",
      " 88%|███████████████████████████████▊    | 38/43 [37:51:41<5:19:15, 3831.17s/it]"
     ]
    },
    {
     "name": "stdout",
     "output_type": "stream",
     "text": [
      "1121402\n",
      "<class 'order_by.pair_comparison.PassageComparisonReasoning'>\n",
      "output:steps=[Step(explanation=\"The question asks about what contour plowing can reduce. Both passages provided are about the etymology of the word 'plow' and do not address contour plowing or its effects.\"), Step(explanation='Since neither passage answers the question about contour plowing, neither Passage A nor Passage B is better in this context.')] BetterPassageKey='' is not contained in [key1, key2]; try again\n",
      "\n"
     ]
    },
    {
     "name": "stderr",
     "output_type": "stream",
     "text": [
      "\r",
      " 91%|████████████████████████████████▋   | 39/43 [38:36:15<3:52:16, 3484.07s/it]"
     ]
    },
    {
     "name": "stdout",
     "output_type": "stream",
     "text": [
      "1121709\n"
     ]
    },
    {
     "name": "stderr",
     "output_type": "stream",
     "text": [
      "\r",
      " 93%|█████████████████████████████████▍  | 40/43 [39:24:38<2:45:29, 3309.76s/it]"
     ]
    },
    {
     "name": "stdout",
     "output_type": "stream",
     "text": [
      "1124210\n"
     ]
    },
    {
     "name": "stderr",
     "output_type": "stream",
     "text": [
      "\r",
      " 95%|██████████████████████████████████▎ | 41/43 [40:10:09<1:44:31, 3135.97s/it]"
     ]
    },
    {
     "name": "stdout",
     "output_type": "stream",
     "text": [
      "1129237\n"
     ]
    },
    {
     "name": "stderr",
     "output_type": "stream",
     "text": [
      "\r",
      " 98%|█████████████████████████████████████ | 42/43 [41:09:13<54:18, 3258.32s/it]"
     ]
    },
    {
     "name": "stdout",
     "output_type": "stream",
     "text": [
      "1133167\n"
     ]
    },
    {
     "name": "stderr",
     "output_type": "stream",
     "text": [
      "100%|██████████████████████████████████████| 43/43 [41:35:08<00:00, 3481.59s/it]"
     ]
    },
    {
     "name": "stdout",
     "output_type": "stream",
     "text": [
      "gpt-4o, quick_sort with vote=3 Mean nDCG@10: 0.7408057032508985\n",
      "tokens: 39695995\n"
     ]
    },
    {
     "name": "stderr",
     "output_type": "stream",
     "text": [
      "\n"
     ]
    }
   ],
   "source": [
    "results = {}\n",
    "\n",
    "for modelname in [\"gpt-4o-mini\", \"gpt-4o\"]:        \n",
    "    results[modelname] = {}\n",
    "    run = {}\n",
    "    total_tokens = 0\n",
    "    for qid, query, ranking in tqdm(first_stage_rankings):\n",
    "        print(qid)\n",
    "        passage_list = []\n",
    "        for r in ranking:\n",
    "            passage_list.append( (r.docid, r.text) ) \n",
    "            \n",
    "        pairwise_comparison_prompt_template = passage_pairwise_comparison_prompt_template.format_map(SafeDict(question=query))\n",
    "        vote = 1\n",
    "        sorted_data, num_api_calls, tokens =\\\n",
    "            await quick_sort(passage_list, client, pairwise_comparison_prompt_template, modelname, True, vote)\n",
    "        run[str(qid)] = {\n",
    "            str(doc_id): float(1.0 * i / (len(sorted_data) - 1))\n",
    "            for (doc_id, text), i in zip( sorted_data, range(len(sorted_data)) )\n",
    "        }\n",
    "        total_tokens += tokens\n",
    "    metrics = evaluator.evaluate(run)\n",
    "    mean_pointwise = sum(m['ndcg_cut_10'] for m in metrics.values()) / len(metrics)\n",
    "    print(f\"{modelname}, quick_sort Mean nDCG@10:\", mean_pointwise)\n",
    "    print(f\"tokens: {total_tokens}\")\n",
    "    \n",
    "    run = {}\n",
    "    total_tokens = 0\n",
    "    for qid, query, ranking in tqdm(first_stage_rankings):\n",
    "        print(qid)\n",
    "        passage_list = []\n",
    "        for r in ranking:\n",
    "            passage_list.append( (r.docid, r.text) ) \n",
    "            \n",
    "        pairwise_comparison_prompt_template = passage_pairwise_comparison_prompt_template.format_map(SafeDict(question=query))\n",
    "        vote = 3\n",
    "        sorted_data, num_api_calls, tokens =\\\n",
    "            await quick_sort(passage_list, client, pairwise_comparison_prompt_template, modelname, True, vote)\n",
    "        run[str(qid)] = {\n",
    "            str(doc_id): float(1.0 * i / (len(sorted_data) - 1))\n",
    "            for (doc_id, text), i in zip( sorted_data, range(len(sorted_data)) )\n",
    "        }\n",
    "        total_tokens += tokens\n",
    "    metrics = evaluator.evaluate(run)\n",
    "    mean_pointwise = sum(m['ndcg_cut_10'] for m in metrics.values()) / len(metrics)\n",
    "    print(f\"{modelname}, quick_sort with vote={vote} Mean nDCG@10:\", mean_pointwise)\n",
    "    print(f\"tokens: {total_tokens}\")\n",
    "    "
   ]
  },
  {
   "cell_type": "code",
   "execution_count": null,
   "metadata": {},
   "outputs": [],
   "source": []
  },
  {
   "cell_type": "code",
   "execution_count": 11,
   "metadata": {
    "scrolled": true
   },
   "outputs": [
    {
     "name": "stderr",
     "output_type": "stream",
     "text": [
      "\r",
      "  0%|                                                    | 0/43 [00:00<?, ?it/s]"
     ]
    },
    {
     "name": "stdout",
     "output_type": "stream",
     "text": [
      "19335\n",
      "api call: 1: ISSUE: not the same length as input; try again\n",
      "\n"
     ]
    },
    {
     "name": "stderr",
     "output_type": "stream",
     "text": [
      "\r",
      "  2%|▉                                      | 1/43 [28:12<19:44:39, 1692.38s/it]"
     ]
    },
    {
     "name": "stdout",
     "output_type": "stream",
     "text": [
      "47923\n"
     ]
    },
    {
     "name": "stderr",
     "output_type": "stream",
     "text": [
      "\r",
      "  5%|█▋                                   | 2/43 [1:16:58<27:32:23, 2418.13s/it]"
     ]
    },
    {
     "name": "stdout",
     "output_type": "stream",
     "text": [
      "87181\n",
      "api call: 1: ISSUE: not the same length as input; try again\n",
      "\n"
     ]
    },
    {
     "name": "stderr",
     "output_type": "stream",
     "text": [
      "\r",
      "  7%|██▌                                  | 3/43 [1:57:40<26:59:20, 2429.02s/it]"
     ]
    },
    {
     "name": "stdout",
     "output_type": "stream",
     "text": [
      "87452\n",
      "api call: 1: ISSUE: not the same length as input; try again\n",
      "\n",
      "api call: 1: ISSUE: not the same length as input; try again\n",
      "\n"
     ]
    },
    {
     "name": "stderr",
     "output_type": "stream",
     "text": [
      "\r",
      "  9%|███▍                                 | 4/43 [2:30:40<24:23:35, 2251.67s/it]"
     ]
    },
    {
     "name": "stdout",
     "output_type": "stream",
     "text": [
      "104861\n"
     ]
    },
    {
     "name": "stderr",
     "output_type": "stream",
     "text": [
      "\r",
      " 12%|████▎                                | 5/43 [3:14:06<25:06:56, 2379.39s/it]"
     ]
    },
    {
     "name": "stdout",
     "output_type": "stream",
     "text": [
      "130510\n",
      "api call: 1: ISSUE: not the same length as input; try again\n",
      "\n"
     ]
    },
    {
     "name": "stderr",
     "output_type": "stream",
     "text": [
      "\r",
      " 14%|█████▏                               | 6/43 [3:56:53<25:06:45, 2443.38s/it]"
     ]
    },
    {
     "name": "stdout",
     "output_type": "stream",
     "text": [
      "131843\n"
     ]
    },
    {
     "name": "stderr",
     "output_type": "stream",
     "text": [
      "\r",
      " 16%|██████                               | 7/43 [4:24:43<21:54:21, 2190.60s/it]"
     ]
    },
    {
     "name": "stdout",
     "output_type": "stream",
     "text": [
      "146187\n",
      "api call: 1: ISSUE: not the same length as input; try again\n",
      "\n"
     ]
    },
    {
     "name": "stderr",
     "output_type": "stream",
     "text": [
      "\r",
      " 19%|██████▉                              | 8/43 [4:56:35<20:26:00, 2101.72s/it]"
     ]
    },
    {
     "name": "stdout",
     "output_type": "stream",
     "text": [
      "148538\n"
     ]
    },
    {
     "name": "stderr",
     "output_type": "stream",
     "text": [
      "\r",
      " 21%|███████▋                             | 9/43 [5:40:27<21:25:00, 2267.66s/it]"
     ]
    },
    {
     "name": "stdout",
     "output_type": "stream",
     "text": [
      "156493\n"
     ]
    },
    {
     "name": "stderr",
     "output_type": "stream",
     "text": [
      "\r",
      " 23%|████████▎                           | 10/43 [6:31:04<22:57:43, 2504.94s/it]"
     ]
    },
    {
     "name": "stdout",
     "output_type": "stream",
     "text": [
      "168216\n",
      "api call: 1: ISSUE: not the same length as input; try again\n",
      "\n",
      "api call: 1: ISSUE: not the same length as input; try again\n",
      "\n"
     ]
    },
    {
     "name": "stderr",
     "output_type": "stream",
     "text": [
      "\r",
      " 26%|█████████▏                          | 11/43 [7:27:58<24:44:26, 2783.33s/it]"
     ]
    },
    {
     "name": "stdout",
     "output_type": "stream",
     "text": [
      "182539\n"
     ]
    },
    {
     "name": "stderr",
     "output_type": "stream",
     "text": [
      "\r",
      " 28%|██████████                          | 12/43 [8:18:43<24:39:06, 2862.78s/it]"
     ]
    },
    {
     "name": "stdout",
     "output_type": "stream",
     "text": [
      "183378\n",
      "api call: 1: ISSUE: not the same length as input; try again\n",
      "\n",
      "api call: 1: ISSUE: not the same length as input; try again\n",
      "\n"
     ]
    },
    {
     "name": "stderr",
     "output_type": "stream",
     "text": [
      "\r",
      " 30%|██████████▉                         | 13/43 [9:06:59<23:56:29, 2872.98s/it]"
     ]
    },
    {
     "name": "stdout",
     "output_type": "stream",
     "text": [
      "207786\n"
     ]
    },
    {
     "name": "stderr",
     "output_type": "stream",
     "text": [
      "\r",
      " 33%|███████████▋                        | 14/43 [9:26:55<19:03:45, 2366.41s/it]"
     ]
    },
    {
     "name": "stdout",
     "output_type": "stream",
     "text": [
      "264014\n"
     ]
    },
    {
     "name": "stderr",
     "output_type": "stream",
     "text": [
      "\r",
      " 35%|████████████▏                      | 15/43 [10:14:05<19:29:34, 2506.25s/it]"
     ]
    },
    {
     "name": "stdout",
     "output_type": "stream",
     "text": [
      "359349\n"
     ]
    },
    {
     "name": "stderr",
     "output_type": "stream",
     "text": [
      "\r",
      " 37%|█████████████                      | 16/43 [10:45:24<17:22:51, 2317.45s/it]"
     ]
    },
    {
     "name": "stdout",
     "output_type": "stream",
     "text": [
      "405717\n"
     ]
    },
    {
     "name": "stderr",
     "output_type": "stream",
     "text": [
      "\r",
      " 40%|█████████████▊                     | 17/43 [11:38:15<18:35:25, 2574.07s/it]"
     ]
    },
    {
     "name": "stdout",
     "output_type": "stream",
     "text": [
      "443396\n"
     ]
    },
    {
     "name": "stderr",
     "output_type": "stream",
     "text": [
      "\r",
      " 42%|██████████████▋                    | 18/43 [12:22:59<18:06:18, 2607.15s/it]"
     ]
    },
    {
     "name": "stdout",
     "output_type": "stream",
     "text": [
      "451602\n"
     ]
    },
    {
     "name": "stderr",
     "output_type": "stream",
     "text": [
      "\r",
      " 44%|███████████████▍                   | 19/43 [13:07:02<17:27:05, 2617.73s/it]"
     ]
    },
    {
     "name": "stdout",
     "output_type": "stream",
     "text": [
      "489204\n",
      "api call: 1: ISSUE: not the same length as input; try again\n",
      "\n"
     ]
    },
    {
     "name": "stderr",
     "output_type": "stream",
     "text": [
      "\r",
      " 47%|████████████████▎                  | 20/43 [13:56:57<17:26:56, 2731.17s/it]"
     ]
    },
    {
     "name": "stdout",
     "output_type": "stream",
     "text": [
      "490595\n"
     ]
    },
    {
     "name": "stderr",
     "output_type": "stream",
     "text": [
      "\r",
      " 49%|█████████████████                  | 21/43 [14:59:47<18:35:43, 3042.91s/it]"
     ]
    },
    {
     "name": "stdout",
     "output_type": "stream",
     "text": [
      "527433\n"
     ]
    },
    {
     "name": "stderr",
     "output_type": "stream",
     "text": [
      "\r",
      " 51%|█████████████████▉                 | 22/43 [15:19:46<14:31:20, 2489.57s/it]"
     ]
    },
    {
     "name": "stdout",
     "output_type": "stream",
     "text": [
      "573724\n"
     ]
    },
    {
     "name": "stderr",
     "output_type": "stream",
     "text": [
      "\r",
      " 53%|██████████████████▋                | 23/43 [16:13:58<15:06:04, 2718.23s/it]"
     ]
    },
    {
     "name": "stdout",
     "output_type": "stream",
     "text": [
      "833860\n"
     ]
    },
    {
     "name": "stderr",
     "output_type": "stream",
     "text": [
      "\r",
      " 56%|███████████████████▌               | 24/43 [16:37:38<12:17:24, 2328.66s/it]"
     ]
    },
    {
     "name": "stdout",
     "output_type": "stream",
     "text": [
      "855410\n"
     ]
    },
    {
     "name": "stderr",
     "output_type": "stream",
     "text": [
      "\r",
      " 58%|████████████████████▉               | 25/43 [16:46:55<8:59:07, 1797.08s/it]"
     ]
    },
    {
     "name": "stdout",
     "output_type": "stream",
     "text": [
      "915593\n"
     ]
    },
    {
     "name": "stderr",
     "output_type": "stream",
     "text": [
      "\r",
      " 60%|█████████████████████▊              | 26/43 [17:22:05<8:55:46, 1890.99s/it]"
     ]
    },
    {
     "name": "stdout",
     "output_type": "stream",
     "text": [
      "962179\n"
     ]
    },
    {
     "name": "stderr",
     "output_type": "stream",
     "text": [
      "\r",
      " 63%|██████████████████████▌             | 27/43 [17:33:38<6:48:28, 1531.77s/it]"
     ]
    },
    {
     "name": "stdout",
     "output_type": "stream",
     "text": [
      "1037798\n"
     ]
    },
    {
     "name": "stderr",
     "output_type": "stream",
     "text": [
      "\r",
      " 65%|███████████████████████▍            | 28/43 [17:58:26<6:19:36, 1518.46s/it]"
     ]
    },
    {
     "name": "stdout",
     "output_type": "stream",
     "text": [
      "1063750\n",
      "api call: 1: ISSUE: not the same length as input; try again\n",
      "\n"
     ]
    },
    {
     "name": "stderr",
     "output_type": "stream",
     "text": [
      "\r",
      " 67%|████████████████████████▎           | 29/43 [18:23:10<5:51:55, 1508.28s/it]"
     ]
    },
    {
     "name": "stdout",
     "output_type": "stream",
     "text": [
      "1103812\n"
     ]
    },
    {
     "name": "stderr",
     "output_type": "stream",
     "text": [
      "\r",
      " 70%|█████████████████████████           | 30/43 [18:46:24<5:19:22, 1474.02s/it]"
     ]
    },
    {
     "name": "stdout",
     "output_type": "stream",
     "text": [
      "1106007\n"
     ]
    },
    {
     "name": "stderr",
     "output_type": "stream",
     "text": [
      "\r",
      " 72%|█████████████████████████▉          | 31/43 [19:25:59<5:48:49, 1744.12s/it]"
     ]
    },
    {
     "name": "stdout",
     "output_type": "stream",
     "text": [
      "1110199\n"
     ]
    },
    {
     "name": "stderr",
     "output_type": "stream",
     "text": [
      "\r",
      " 74%|██████████████████████████▊         | 32/43 [19:58:22<5:30:40, 1803.71s/it]"
     ]
    },
    {
     "name": "stdout",
     "output_type": "stream",
     "text": [
      "1112341\n",
      "api call: 1: ISSUE: not the same length as input; try again\n",
      "\n"
     ]
    },
    {
     "name": "stderr",
     "output_type": "stream",
     "text": [
      "\r",
      " 77%|███████████████████████████▋        | 33/43 [20:28:01<4:59:23, 1796.34s/it]"
     ]
    },
    {
     "name": "stdout",
     "output_type": "stream",
     "text": [
      "1113437\n",
      "api call: 1: ISSUE: not the same length as input; try again\n",
      "\n"
     ]
    },
    {
     "name": "stderr",
     "output_type": "stream",
     "text": [
      "\r",
      " 79%|████████████████████████████▍       | 34/43 [21:02:25<4:41:29, 1876.63s/it]"
     ]
    },
    {
     "name": "stdout",
     "output_type": "stream",
     "text": [
      "1114646\n"
     ]
    },
    {
     "name": "stderr",
     "output_type": "stream",
     "text": [
      "\r",
      " 81%|█████████████████████████████▎      | 35/43 [21:43:20<4:33:23, 2050.38s/it]"
     ]
    },
    {
     "name": "stdout",
     "output_type": "stream",
     "text": [
      "1114819\n",
      "api call: 1: ISSUE: not the same length as input; try again\n",
      "\n"
     ]
    },
    {
     "name": "stderr",
     "output_type": "stream",
     "text": [
      "\r",
      " 84%|██████████████████████████████▏     | 36/43 [22:31:38<4:28:52, 2304.62s/it]"
     ]
    },
    {
     "name": "stdout",
     "output_type": "stream",
     "text": [
      "1115776\n"
     ]
    },
    {
     "name": "stderr",
     "output_type": "stream",
     "text": [
      "\r",
      " 86%|██████████████████████████████▉     | 37/43 [23:01:30<3:35:05, 2150.84s/it]"
     ]
    },
    {
     "name": "stdout",
     "output_type": "stream",
     "text": [
      "1117099\n",
      "api call: 1: ISSUE: not the same length as input; try again\n",
      "\n",
      "api call: 1: ISSUE: not the same length as input; try again\n",
      "\n"
     ]
    },
    {
     "name": "stderr",
     "output_type": "stream",
     "text": [
      "\r",
      " 88%|███████████████████████████████▊    | 38/43 [23:34:00<2:54:11, 2090.39s/it]"
     ]
    },
    {
     "name": "stdout",
     "output_type": "stream",
     "text": [
      "1121402\n"
     ]
    },
    {
     "name": "stderr",
     "output_type": "stream",
     "text": [
      "\r",
      " 91%|████████████████████████████████▋   | 39/43 [24:14:20<2:25:57, 2189.29s/it]"
     ]
    },
    {
     "name": "stdout",
     "output_type": "stream",
     "text": [
      "1121709\n"
     ]
    },
    {
     "name": "stderr",
     "output_type": "stream",
     "text": [
      "\r",
      " 93%|█████████████████████████████████▍  | 40/43 [24:24:15<1:25:33, 1711.24s/it]"
     ]
    },
    {
     "name": "stdout",
     "output_type": "stream",
     "text": [
      "1124210\n",
      "api call: 1: ISSUE: not the same length as input; try again\n",
      "\n"
     ]
    },
    {
     "name": "stderr",
     "output_type": "stream",
     "text": [
      "\r",
      " 95%|██████████████████████████████████▎ | 41/43 [25:36:12<1:23:05, 2492.88s/it]"
     ]
    },
    {
     "name": "stdout",
     "output_type": "stream",
     "text": [
      "1129237\n"
     ]
    },
    {
     "name": "stderr",
     "output_type": "stream",
     "text": [
      "\r",
      " 98%|█████████████████████████████████████ | 42/43 [26:09:47<39:09, 2349.49s/it]"
     ]
    },
    {
     "name": "stdout",
     "output_type": "stream",
     "text": [
      "1133167\n"
     ]
    },
    {
     "name": "stderr",
     "output_type": "stream",
     "text": [
      "100%|██████████████████████████████████████| 43/43 [27:15:10<00:00, 2281.63s/it]\n"
     ]
    },
    {
     "name": "stdout",
     "output_type": "stream",
     "text": [
      "gpt-4o, external_bubble_sort Mean nDCG@10: 0.7313444288489481\n",
      "tokens: 38683494\n"
     ]
    },
    {
     "name": "stderr",
     "output_type": "stream",
     "text": [
      "\r",
      "  0%|                                                    | 0/43 [00:00<?, ?it/s]"
     ]
    },
    {
     "name": "stdout",
     "output_type": "stream",
     "text": [
      "19335\n"
     ]
    },
    {
     "name": "stderr",
     "output_type": "stream",
     "text": [
      "\r",
      "  2%|▉                                        | 1/43 [04:01<2:49:10, 241.67s/it]"
     ]
    },
    {
     "name": "stdout",
     "output_type": "stream",
     "text": [
      "47923\n"
     ]
    },
    {
     "name": "stderr",
     "output_type": "stream",
     "text": [
      "\r",
      "  5%|█▉                                       | 2/43 [10:19<3:39:44, 321.57s/it]"
     ]
    },
    {
     "name": "stdout",
     "output_type": "stream",
     "text": [
      "87181\n"
     ]
    },
    {
     "name": "stderr",
     "output_type": "stream",
     "text": [
      "\r",
      "  7%|██▊                                      | 3/43 [15:13<3:26:09, 309.23s/it]"
     ]
    },
    {
     "name": "stdout",
     "output_type": "stream",
     "text": [
      "87452\n"
     ]
    },
    {
     "name": "stderr",
     "output_type": "stream",
     "text": [
      "\r",
      "  9%|███▊                                     | 4/43 [18:57<2:58:59, 275.38s/it]"
     ]
    },
    {
     "name": "stdout",
     "output_type": "stream",
     "text": [
      "104861\n",
      "api call: 1: ISSUE: not the same length as input; try again\n",
      "\n"
     ]
    },
    {
     "name": "stderr",
     "output_type": "stream",
     "text": [
      "\r",
      " 12%|████▊                                    | 5/43 [23:41<2:56:20, 278.42s/it]"
     ]
    },
    {
     "name": "stdout",
     "output_type": "stream",
     "text": [
      "130510\n"
     ]
    },
    {
     "name": "stderr",
     "output_type": "stream",
     "text": [
      "\r",
      " 14%|█████▋                                   | 6/43 [27:58<2:47:21, 271.40s/it]"
     ]
    },
    {
     "name": "stdout",
     "output_type": "stream",
     "text": [
      "131843\n"
     ]
    },
    {
     "name": "stderr",
     "output_type": "stream",
     "text": [
      "\r",
      " 16%|██████▋                                  | 7/43 [31:35<2:32:04, 253.47s/it]"
     ]
    },
    {
     "name": "stdout",
     "output_type": "stream",
     "text": [
      "146187\n",
      "api call: 1: ISSUE: not the same length as input; try again\n",
      "\n"
     ]
    },
    {
     "name": "stderr",
     "output_type": "stream",
     "text": [
      "\r",
      " 19%|███████▋                                 | 8/43 [35:30<2:24:31, 247.75s/it]"
     ]
    },
    {
     "name": "stdout",
     "output_type": "stream",
     "text": [
      "148538\n",
      "[ERROR] Attempt 1: 0\n"
     ]
    },
    {
     "name": "stderr",
     "output_type": "stream",
     "text": [
      "\r",
      " 21%|████████▌                                | 9/43 [40:46<2:32:20, 268.84s/it]"
     ]
    },
    {
     "name": "stdout",
     "output_type": "stream",
     "text": [
      "156493\n"
     ]
    },
    {
     "name": "stderr",
     "output_type": "stream",
     "text": [
      "\r",
      " 23%|█████████▎                              | 10/43 [44:59<2:25:09, 263.94s/it]"
     ]
    },
    {
     "name": "stdout",
     "output_type": "stream",
     "text": [
      "168216\n"
     ]
    },
    {
     "name": "stderr",
     "output_type": "stream",
     "text": [
      "\r",
      " 26%|██████████▏                             | 11/43 [49:15<2:19:28, 261.52s/it]"
     ]
    },
    {
     "name": "stdout",
     "output_type": "stream",
     "text": [
      "182539\n"
     ]
    },
    {
     "name": "stderr",
     "output_type": "stream",
     "text": [
      "\r",
      " 28%|███████████▏                            | 12/43 [53:32<2:14:33, 260.43s/it]"
     ]
    },
    {
     "name": "stdout",
     "output_type": "stream",
     "text": [
      "183378\n"
     ]
    },
    {
     "name": "stderr",
     "output_type": "stream",
     "text": [
      "\r",
      " 30%|████████████                            | 13/43 [58:18<2:14:04, 268.14s/it]"
     ]
    },
    {
     "name": "stdout",
     "output_type": "stream",
     "text": [
      "207786\n"
     ]
    },
    {
     "name": "stderr",
     "output_type": "stream",
     "text": [
      "\r",
      " 33%|████████████▎                         | 14/43 [1:03:34<2:16:34, 282.57s/it]"
     ]
    },
    {
     "name": "stdout",
     "output_type": "stream",
     "text": [
      "264014\n",
      "api call: 1: ISSUE: not the same length as input; try again\n",
      "\n"
     ]
    },
    {
     "name": "stderr",
     "output_type": "stream",
     "text": [
      "\r",
      " 35%|█████████████▎                        | 15/43 [1:08:40<2:15:03, 289.40s/it]"
     ]
    },
    {
     "name": "stdout",
     "output_type": "stream",
     "text": [
      "359349\n",
      "api call: 1: ISSUE: not the same length as input; try again\n",
      "\n"
     ]
    },
    {
     "name": "stderr",
     "output_type": "stream",
     "text": [
      "\r",
      " 37%|██████████████▏                       | 16/43 [1:12:40<2:03:38, 274.74s/it]"
     ]
    },
    {
     "name": "stdout",
     "output_type": "stream",
     "text": [
      "405717\n"
     ]
    },
    {
     "name": "stderr",
     "output_type": "stream",
     "text": [
      "\r",
      " 40%|███████████████                       | 17/43 [1:16:57<1:56:39, 269.20s/it]"
     ]
    },
    {
     "name": "stdout",
     "output_type": "stream",
     "text": [
      "443396\n"
     ]
    },
    {
     "name": "stderr",
     "output_type": "stream",
     "text": [
      "\r",
      " 42%|███████████████▉                      | 18/43 [1:22:02<1:56:43, 280.16s/it]"
     ]
    },
    {
     "name": "stdout",
     "output_type": "stream",
     "text": [
      "451602\n"
     ]
    },
    {
     "name": "stderr",
     "output_type": "stream",
     "text": [
      "\r",
      " 44%|████████████████▊                     | 19/43 [1:26:58<1:53:56, 284.87s/it]"
     ]
    },
    {
     "name": "stdout",
     "output_type": "stream",
     "text": [
      "489204\n"
     ]
    },
    {
     "name": "stderr",
     "output_type": "stream",
     "text": [
      "\r",
      " 47%|█████████████████▋                    | 20/43 [1:32:38<1:55:34, 301.52s/it]"
     ]
    },
    {
     "name": "stdout",
     "output_type": "stream",
     "text": [
      "490595\n"
     ]
    },
    {
     "name": "stderr",
     "output_type": "stream",
     "text": [
      "\r",
      " 49%|██████████████████▌                   | 21/43 [1:37:39<1:50:25, 301.14s/it]"
     ]
    },
    {
     "name": "stdout",
     "output_type": "stream",
     "text": [
      "527433\n"
     ]
    },
    {
     "name": "stderr",
     "output_type": "stream",
     "text": [
      "\r",
      " 51%|███████████████████▍                  | 22/43 [1:42:42<1:45:37, 301.80s/it]"
     ]
    },
    {
     "name": "stdout",
     "output_type": "stream",
     "text": [
      "573724\n",
      "api call: 1: ISSUE: not the same length as input; try again\n",
      "\n"
     ]
    },
    {
     "name": "stderr",
     "output_type": "stream",
     "text": [
      "\r",
      " 53%|████████████████████▎                 | 23/43 [1:47:27<1:38:53, 296.66s/it]"
     ]
    },
    {
     "name": "stdout",
     "output_type": "stream",
     "text": [
      "833860\n"
     ]
    },
    {
     "name": "stderr",
     "output_type": "stream",
     "text": [
      "\r",
      " 56%|█████████████████████▏                | 24/43 [1:52:20<1:33:35, 295.56s/it]"
     ]
    },
    {
     "name": "stdout",
     "output_type": "stream",
     "text": [
      "855410\n"
     ]
    },
    {
     "name": "stderr",
     "output_type": "stream",
     "text": [
      "\r",
      " 58%|██████████████████████                | 25/43 [1:56:52<1:26:37, 288.74s/it]"
     ]
    },
    {
     "name": "stdout",
     "output_type": "stream",
     "text": [
      "915593\n"
     ]
    },
    {
     "name": "stderr",
     "output_type": "stream",
     "text": [
      "\r",
      " 60%|██████████████████████▉               | 26/43 [2:01:46<1:22:12, 290.15s/it]"
     ]
    },
    {
     "name": "stdout",
     "output_type": "stream",
     "text": [
      "962179\n"
     ]
    },
    {
     "name": "stderr",
     "output_type": "stream",
     "text": [
      "\r",
      " 63%|███████████████████████▊              | 27/43 [2:07:21<1:20:56, 303.56s/it]"
     ]
    },
    {
     "name": "stdout",
     "output_type": "stream",
     "text": [
      "1037798\n"
     ]
    },
    {
     "name": "stderr",
     "output_type": "stream",
     "text": [
      "\r",
      " 65%|████████████████████████▋             | 28/43 [2:12:59<1:18:30, 314.05s/it]"
     ]
    },
    {
     "name": "stdout",
     "output_type": "stream",
     "text": [
      "1063750\n"
     ]
    },
    {
     "name": "stderr",
     "output_type": "stream",
     "text": [
      "\r",
      " 67%|█████████████████████████▋            | 29/43 [2:18:12<1:13:12, 313.72s/it]"
     ]
    },
    {
     "name": "stdout",
     "output_type": "stream",
     "text": [
      "1103812\n"
     ]
    },
    {
     "name": "stderr",
     "output_type": "stream",
     "text": [
      "\r",
      " 70%|██████████████████████████▌           | 30/43 [2:23:19<1:07:30, 311.57s/it]"
     ]
    },
    {
     "name": "stdout",
     "output_type": "stream",
     "text": [
      "1106007\n"
     ]
    },
    {
     "name": "stderr",
     "output_type": "stream",
     "text": [
      "\r",
      " 72%|███████████████████████████▍          | 31/43 [2:29:01<1:04:09, 320.80s/it]"
     ]
    },
    {
     "name": "stdout",
     "output_type": "stream",
     "text": [
      "1110199\n"
     ]
    },
    {
     "name": "stderr",
     "output_type": "stream",
     "text": [
      "\r",
      " 74%|█████████████████████████████▊          | 32/43 [2:33:49<56:59, 310.86s/it]"
     ]
    },
    {
     "name": "stdout",
     "output_type": "stream",
     "text": [
      "1112341\n"
     ]
    },
    {
     "name": "stderr",
     "output_type": "stream",
     "text": [
      "\r",
      " 77%|██████████████████████████████▋         | 33/43 [2:38:54<51:30, 309.09s/it]"
     ]
    },
    {
     "name": "stdout",
     "output_type": "stream",
     "text": [
      "1113437\n"
     ]
    },
    {
     "name": "stderr",
     "output_type": "stream",
     "text": [
      "\r",
      " 79%|███████████████████████████████▋        | 34/43 [2:44:47<48:21, 322.40s/it]"
     ]
    },
    {
     "name": "stdout",
     "output_type": "stream",
     "text": [
      "1114646\n",
      "api call: 1: ISSUE: not the same length as input; try again\n",
      "\n"
     ]
    },
    {
     "name": "stderr",
     "output_type": "stream",
     "text": [
      "\r",
      " 81%|████████████████████████████████▌       | 35/43 [2:49:31<41:25, 310.71s/it]"
     ]
    },
    {
     "name": "stdout",
     "output_type": "stream",
     "text": [
      "1114819\n"
     ]
    },
    {
     "name": "stderr",
     "output_type": "stream",
     "text": [
      "\r",
      " 84%|█████████████████████████████████▍      | 36/43 [2:54:52<36:37, 313.86s/it]"
     ]
    },
    {
     "name": "stdout",
     "output_type": "stream",
     "text": [
      "1115776\n"
     ]
    },
    {
     "name": "stderr",
     "output_type": "stream",
     "text": [
      "\r",
      " 86%|██████████████████████████████████▍     | 37/43 [2:59:27<30:12, 302.15s/it]"
     ]
    },
    {
     "name": "stdout",
     "output_type": "stream",
     "text": [
      "1117099\n"
     ]
    },
    {
     "name": "stderr",
     "output_type": "stream",
     "text": [
      "\r",
      " 88%|███████████████████████████████████▎    | 38/43 [3:04:45<25:35, 307.11s/it]"
     ]
    },
    {
     "name": "stdout",
     "output_type": "stream",
     "text": [
      "1121402\n"
     ]
    },
    {
     "name": "stderr",
     "output_type": "stream",
     "text": [
      "\r",
      " 91%|████████████████████████████████████▎   | 39/43 [3:10:09<20:48, 312.02s/it]"
     ]
    },
    {
     "name": "stdout",
     "output_type": "stream",
     "text": [
      "1121709\n"
     ]
    },
    {
     "name": "stderr",
     "output_type": "stream",
     "text": [
      "\r",
      " 93%|█████████████████████████████████████▏  | 40/43 [3:15:48<16:00, 320.13s/it]"
     ]
    },
    {
     "name": "stdout",
     "output_type": "stream",
     "text": [
      "1124210\n"
     ]
    },
    {
     "name": "stderr",
     "output_type": "stream",
     "text": [
      "\r",
      " 95%|██████████████████████████████████████▏ | 41/43 [3:21:12<10:42, 321.34s/it]"
     ]
    },
    {
     "name": "stdout",
     "output_type": "stream",
     "text": [
      "1129237\n"
     ]
    },
    {
     "name": "stderr",
     "output_type": "stream",
     "text": [
      "\r",
      " 98%|███████████████████████████████████████ | 42/43 [3:26:30<05:20, 320.39s/it]"
     ]
    },
    {
     "name": "stdout",
     "output_type": "stream",
     "text": [
      "1133167\n",
      "api call: 1: ISSUE: not the same length as input; try again\n",
      "\n"
     ]
    },
    {
     "name": "stderr",
     "output_type": "stream",
     "text": [
      "100%|████████████████████████████████████████| 43/43 [3:31:14<00:00, 294.77s/it]"
     ]
    },
    {
     "name": "stdout",
     "output_type": "stream",
     "text": [
      "gpt-4o, external_merge_sort Mean nDCG@10: 0.7395685322543967\n",
      "tokens: 5990003\n"
     ]
    },
    {
     "name": "stderr",
     "output_type": "stream",
     "text": [
      "\n"
     ]
    }
   ],
   "source": [
    "for modelname in [\"gpt-4o\"]:    \n",
    "#     \"gpt-4o-mini\", \n",
    "    memory = [4]\n",
    "    if \"mini\" in modelname:\n",
    "        memory = [4]\n",
    "    \n",
    "    for m in memory:\n",
    "        run = {}\n",
    "        total_tokens = 0\n",
    "        for qid, query, ranking in tqdm(first_stage_rankings):\n",
    "            print(qid)\n",
    "            passage_list = []\n",
    "            for r in ranking:\n",
    "                passage_list.append( (r.docid, r.text) ) \n",
    "\n",
    "            external_comparison_prompt_template = passage_external_comparison_prompt_template.format_map(SafeDict(question=query))\n",
    "            sorted_data, num_api_calls, tokens =\\\n",
    "                await external_bubble_sort(passage_list, external_comparisons, m, client, external_comparison_prompt_template, modelname, True)\n",
    "\n",
    "            run[str(qid)] = {\n",
    "                str(doc_id): float(1.0 * i / (len(sorted_data) - 1))\n",
    "                for (doc_id, text), i in zip( sorted_data, range(len(sorted_data)) )\n",
    "            }\n",
    "            total_tokens += tokens\n",
    "        metrics = evaluator.evaluate(run)\n",
    "        mean_pointwise = sum(m['ndcg_cut_10'] for m in metrics.values()) / len(metrics)\n",
    "        print(f\"{modelname}, external_bubble_sort Mean nDCG@10:\", mean_pointwise)\n",
    "        print(f\"tokens: {total_tokens}\")\n",
    "\n",
    "\n",
    "\n",
    "        run = {}\n",
    "        total_tokens = 0\n",
    "        for qid, query, ranking in tqdm(first_stage_rankings):\n",
    "            print(qid)\n",
    "            passage_list = []\n",
    "            for r in ranking:\n",
    "                passage_list.append( (r.docid, r.text) ) \n",
    "\n",
    "            external_comparison_prompt_template = passage_external_comparison_prompt_template.format_map(SafeDict(question=query))\n",
    "            sorted_data, num_api_calls, tokens =\\\n",
    "                await external_merge_sort(passage_list, external_comparisons, m, client, external_comparison_prompt_template, modelname, True)\n",
    "\n",
    "            run[str(qid)] = {\n",
    "                str(doc_id): float(1.0 * i / (len(sorted_data) - 1))\n",
    "                for (doc_id, text), i in zip( sorted_data, range(len(sorted_data)) )\n",
    "            }\n",
    "            total_tokens += tokens\n",
    "        metrics = evaluator.evaluate(run)\n",
    "        mean_pointwise = sum(m['ndcg_cut_10'] for m in metrics.values()) / len(metrics)\n",
    "        print(f\"{modelname}, external_merge_sort Mean nDCG@10:\", mean_pointwise)\n",
    "        print(f\"tokens: {total_tokens}\")\n"
   ]
  },
  {
   "cell_type": "code",
   "execution_count": null,
   "metadata": {},
   "outputs": [],
   "source": []
  },
  {
   "cell_type": "code",
   "execution_count": null,
   "metadata": {},
   "outputs": [],
   "source": []
  },
  {
   "cell_type": "code",
   "execution_count": 28,
   "metadata": {},
   "outputs": [
    {
     "name": "stdout",
     "output_type": "stream",
     "text": [
      "Fitted parameters:\n",
      "A = 0.0165\n",
      "B = 0.6314\n",
      "x0 = 0.0000\n"
     ]
    },
    {
     "data": {
      "image/png": "[encoded data removed]",
      "text/plain": [
       "<Figure size 800x600 with 1 Axes>"
      ]
     },
     "metadata": {},
     "output_type": "display_data"
    }
   ],
   "source": [
    "from scipy.optimize import curve_fit\n",
    "import matplotlib.pyplot as plt\n",
    "\n",
    "kendalltau = [0.6851303581701533, 0.6710161961426223,\n",
    "              0.7313444288489481, 0.7395685322543967,\n",
    "              0.7351607877533932, 0.7408057032508985\n",
    "             ]\n",
    "tokens = [1807430, 734876,\n",
    "          38683494, 5990003,\n",
    "          18832854, 39695995\n",
    "         ]\n",
    "tokens = [t/(43*1000.0) for t in tokens]\n",
    "dot_labels = [\"point\", \"external_point\",\\\n",
    "              \"external_bubble_4\", \"external_merge_4\",\\\n",
    "              \"quicksort_1\", \"quicksort_3\"\n",
    "             ]\n",
    "markers = ['o', '^',\\\n",
    "           '*', 'D',\n",
    "           's', 's'\n",
    "          ] \n",
    "\n",
    "\n",
    "            \n",
    "# Create scatter plot\n",
    "plt.figure(figsize=(8, 6))\n",
    "\n",
    "for x, y, label, m in zip(tokens, kendalltau, dot_labels, markers):\n",
    "    plt.scatter(x, y, s=100, marker=m, label=label)\n",
    "\n",
    "\n",
    "\n",
    "    \n",
    "def log_linear(x, A, B, x0):\n",
    "    return A * np.log(x + x0) + B\n",
    "\n",
    "y_points = kendalltau[:]\n",
    "x_points = tokens[:]\n",
    "x_points = np.array(x_points, dtype=float)\n",
    "y_points = np.array(y_points, dtype=float)\n",
    "# Initial guess and bounds (ensure x + x0 > 0 ⇒ x0 > -min(x); we keep x0 >= 1e-8)\n",
    "p0 = [y_points.ptp(), y_points.min(), 0.1]\n",
    "bounds = ([-np.inf, -np.inf, 1e-8], [np.inf, np.inf, np.inf])\n",
    "\n",
    "popt, pcov = curve_fit(log_linear, x_points, y_points, p0=p0, bounds=bounds, maxfev=50000)\n",
    "A, B, x0 = popt\n",
    "\n",
    "# R^2\n",
    "y_hat = log_linear(x_points, *popt)\n",
    "ss_res = np.sum((y_points - y_hat)**2)\n",
    "ss_tot = np.sum((y_points - y_points.mean())**2)\n",
    "r2 = 1 - ss_res / ss_tot if ss_tot > 0 else np.nan\n",
    "\n",
    "# Smooth curve for plotting\n",
    "x_fit = np.linspace(x_points.min()-10, x_points.max(), 1000)\n",
    "y_fit = log_linear(x_fit, *popt)\n",
    "plt.plot(x_fit, y_fit, 'r--', linewidth=2, label=\"curve_fit\")\n",
    "\n",
    "\n",
    "print(\"Fitted parameters:\")\n",
    "print(f\"A = {A:.4f}\")\n",
    "print(f\"B = {B:.4f}\")\n",
    "print(f\"x0 = {x0:.4f}\")\n",
    "    \n",
    "\n",
    "plt.legend(title=\"Labels\")\n",
    "\n",
    "\n",
    "# Axis labels and title\n",
    "plt.xlabel(\"average tokens per query (k)\")\n",
    "plt.ylabel(\"nDCG@10\")\n",
    "plt.title(\"GPT-4o\")\n",
    "\n",
    "# Show grid and plot\n",
    "plt.grid(True, linestyle='--', alpha=0.6)\n",
    "plt.show()"
   ]
  },
  {
   "cell_type": "code",
   "execution_count": 29,
   "metadata": {},
   "outputs": [
    {
     "name": "stdout",
     "output_type": "stream",
     "text": [
      "Fitted parameters:\n",
      "A = 0.0095\n",
      "B = 0.6489\n",
      "x0 = 0.0000\n"
     ]
    },
    {
     "data": {
      "image/png": "[encoded data removed]",
      "text/plain": [
       "<Figure size 800x600 with 1 Axes>"
      ]
     },
     "metadata": {},
     "output_type": "display_data"
    }
   ],
   "source": [
    "kendalltau = [0.7028129447420369, 0.6520011839194261,\n",
    "              0.7153217587714527, 0.7140558683618574,\n",
    "              0.7094846436237204, 0.6936372313078706\n",
    "             ]\n",
    "tokens = [1610518, 862804,\n",
    "          39869401, 6263645,\n",
    "          15159756, 33539392\n",
    "         ]\n",
    "tokens = [t/(43*1000.0) for t in tokens]\n",
    "dot_labels = [\"point\", \"external_point\",\\\n",
    "              \"external_bubble_4\", \"external_merge_4\",\\\n",
    "              \"quicksort_1\", \"quicksort_3\"\n",
    "             ]\n",
    "markers = ['o', '^',\\\n",
    "           '*', 'D',\n",
    "           's', 's'\n",
    "          ] \n",
    "\n",
    "\n",
    "            \n",
    "# Create scatter plot\n",
    "plt.figure(figsize=(8, 6))\n",
    "\n",
    "for x, y, label, m in zip(tokens, kendalltau, dot_labels, markers):\n",
    "    plt.scatter(x, y, s=100, marker=m, label=label)\n",
    "\n",
    "\n",
    "\n",
    "    \n",
    "def log_linear(x, A, B, x0):\n",
    "    return A * np.log(x + x0) + B\n",
    "\n",
    "y_points = kendalltau[:]\n",
    "x_points = tokens[:]\n",
    "x_points = np.array(x_points, dtype=float)\n",
    "y_points = np.array(y_points, dtype=float)\n",
    "# Initial guess and bounds (ensure x + x0 > 0 ⇒ x0 > -min(x); we keep x0 >= 1e-8)\n",
    "p0 = [y_points.ptp(), y_points.min(), 0.1]\n",
    "bounds = ([-np.inf, -np.inf, 1e-8], [np.inf, np.inf, np.inf])\n",
    "\n",
    "popt, pcov = curve_fit(log_linear, x_points, y_points, p0=p0, bounds=bounds, maxfev=50000)\n",
    "A, B, x0 = popt\n",
    "\n",
    "# R^2\n",
    "y_hat = log_linear(x_points, *popt)\n",
    "ss_res = np.sum((y_points - y_hat)**2)\n",
    "ss_tot = np.sum((y_points - y_points.mean())**2)\n",
    "r2 = 1 - ss_res / ss_tot if ss_tot > 0 else np.nan\n",
    "\n",
    "# Smooth curve for plotting\n",
    "x_fit = np.linspace(x_points.min()-13, x_points.max(), 1000)\n",
    "y_fit = log_linear(x_fit, *popt)\n",
    "plt.plot(x_fit, y_fit, 'r--', linewidth=2, label=\"curve_fit\")\n",
    "\n",
    "\n",
    "print(\"Fitted parameters:\")\n",
    "print(f\"A = {A:.4f}\")\n",
    "print(f\"B = {B:.4f}\")\n",
    "print(f\"x0 = {x0:.4f}\")\n",
    "    \n",
    "\n",
    "plt.legend(title=\"Labels\")\n",
    "\n",
    "\n",
    "# Axis labels and title\n",
    "plt.xlabel(\"average tokens per query (k)\")\n",
    "plt.ylabel(\"nDCG@10\")\n",
    "plt.title(\"GPT-4o mini\")\n",
    "\n",
    "# Show grid and plot\n",
    "plt.grid(True, linestyle='--', alpha=0.6)\n",
    "plt.show()"
   ]
  },
  {
   "cell_type": "code",
   "execution_count": null,
   "metadata": {},
   "outputs": [],
   "source": []
  }
 ],
 "metadata": {
  "kernelspec": {
   "display_name": "Python (py3100)",
   "language": "python",
   "name": "py3100"
  },
  "language_info": {
   "codemirror_mode": {
    "name": "ipython",
    "version": 3
   },
   "file_extension": ".py",
   "mimetype": "text/x-python",
   "name": "python",
   "nbconvert_exporter": "python",
   "pygments_lexer": "ipython3",
   "version": "3.10.0"
  }
 },
 "nbformat": 4,
 "nbformat_minor": 4
}
